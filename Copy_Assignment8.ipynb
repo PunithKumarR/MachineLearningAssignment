{
  "nbformat": 4,
  "nbformat_minor": 0,
  "metadata": {
    "colab": {
      "name": "Copy_Assignment8.ipynb",
      "provenance": [],
      "collapsed_sections": [],
      "authorship_tag": "ABX9TyODOWZtFh9naML2lAJHY59M",
      "include_colab_link": true
    },
    "kernelspec": {
      "name": "python3",
      "display_name": "Python 3"
    },
    "language_info": {
      "name": "python"
    }
  },
  "cells": [
    {
      "cell_type": "markdown",
      "metadata": {
        "id": "view-in-github",
        "colab_type": "text"
      },
      "source": [
        "<a href=\"https://colab.research.google.com/github/PunithKumarR/MachineLearningAssignment/blob/main/Copy_Assignment8.ipynb\" target=\"_parent\"><img src=\"https://colab.research.google.com/assets/colab-badge.svg\" alt=\"Open In Colab\"/></a>"
      ]
    },
    {
      "cell_type": "markdown",
      "metadata": {
        "id": "LlTx2hXRupdx"
      },
      "source": [
        "# Assignment8"
      ]
    },
    {
      "cell_type": "code",
      "execution_count": 3,
      "metadata": {
        "collapsed": true,
        "id": "b5UZOVg7upeI"
      },
      "outputs": [],
      "source": [
        "import pandas as pd\n",
        "import matplotlib.pyplot as plt\n",
        "%matplotlib inline\n",
        "import numpy as np\n",
        "from sklearn import linear_model"
      ]
    },
    {
      "cell_type": "markdown",
      "metadata": {
        "id": "Afl_LkiHupeR"
      },
      "source": [
        "# How Much is Your Car Worth?\n",
        "\n",
        "Data about the retail price of 2005 General Motors cars can be found in `car_data.csv`.\n",
        "\n",
        "The columns are:\n",
        "\n",
        "1. Price: suggested retail price of the used 2005 GM car in excellent condition.\n",
        "2. Mileage: number of miles the car has been driven\n",
        "3. Make: manufacturer of the car such as Saturn, Pontiac, and Chevrolet\n",
        "4. Model: specific models for each car manufacturer such as Ion, Vibe, Cavalier\n",
        "5. Trim (of car): specific type of car model such as SE Sedan 4D, Quad Coupe 2D          \n",
        "6. Type: body type such as sedan, coupe, etc.      \n",
        "7. Cylinder: number of cylinders in the engine        \n",
        "8. Liter: a more specific measure of engine size     \n",
        "9. Doors: number of doors           \n",
        "10. Cruise: indicator variable representing whether the car has cruise control (1 = cruise)\n",
        "11. Sound: indicator variable representing whether the car has upgraded speakers (1 = upgraded)\n",
        "12. Leather: indicator variable representing whether the car has leather seats (1 = leather)\n",
        "\n",
        "## Tasks, Part 1\n",
        "\n",
        "1. Find the linear regression equation for mileage vs price.\n",
        "2. Chart the original data and the equation on the chart.\n",
        "3. Find the equation's $R^2$ score (use the `.score` method) to determine whether the\n",
        "equation is a good fit for this data. (0.8 and greater is considered a strong correlation.)\n",
        "\n",
        "## Tasks, Part 2\n",
        "\n",
        "1. Use mileage, cylinders, liters, doors, cruise, sound, and leather to find the linear regression equation.\n",
        "2. Find the equation's $R^2$ score (use the `.score` method) to determine whether the\n",
        "equation is a good fit for this data. (0.8 and greater is considered a strong correlation.)\n",
        "3. Find the combination of the factors that is the best predictor for price.\n",
        "\n",
        "## Tasks, Hard Mode\n",
        "\n",
        "1. Research dummy variables in scikit-learn to see how to use the make, model, and body type.\n",
        "2. Find the best combination of factors to predict price."
      ]
    },
    {
      "cell_type": "code",
      "source": [
        "df = pd.read_csv('car_data.csv')\n",
        "df.head()\n"
      ],
      "metadata": {
        "colab": {
          "base_uri": "https://localhost:8080/",
          "height": 206
        },
        "id": "CSf0bGPr5fzt",
        "outputId": "2c02741b-4989-4082-dc29-1d73a5c6d36e"
      },
      "execution_count": 4,
      "outputs": [
        {
          "output_type": "execute_result",
          "data": {
            "text/plain": [
              "          Price  Mileage   Make    Model      Trim   Type  Cylinder  Liter  \\\n",
              "0  17314.103129     8221  Buick  Century  Sedan 4D  Sedan         6    3.1   \n",
              "1  17542.036083     9135  Buick  Century  Sedan 4D  Sedan         6    3.1   \n",
              "2  16218.847862    13196  Buick  Century  Sedan 4D  Sedan         6    3.1   \n",
              "3  16336.913140    16342  Buick  Century  Sedan 4D  Sedan         6    3.1   \n",
              "4  16339.170324    19832  Buick  Century  Sedan 4D  Sedan         6    3.1   \n",
              "\n",
              "   Doors  Cruise  Sound  Leather  \n",
              "0      4       1      1        1  \n",
              "1      4       1      1        0  \n",
              "2      4       1      1        0  \n",
              "3      4       1      0        0  \n",
              "4      4       1      0        1  "
            ],
            "text/html": [
              "\n",
              "  <div id=\"df-3169cdd3-bdfb-470f-9b6d-ae310f310675\">\n",
              "    <div class=\"colab-df-container\">\n",
              "      <div>\n",
              "<style scoped>\n",
              "    .dataframe tbody tr th:only-of-type {\n",
              "        vertical-align: middle;\n",
              "    }\n",
              "\n",
              "    .dataframe tbody tr th {\n",
              "        vertical-align: top;\n",
              "    }\n",
              "\n",
              "    .dataframe thead th {\n",
              "        text-align: right;\n",
              "    }\n",
              "</style>\n",
              "<table border=\"1\" class=\"dataframe\">\n",
              "  <thead>\n",
              "    <tr style=\"text-align: right;\">\n",
              "      <th></th>\n",
              "      <th>Price</th>\n",
              "      <th>Mileage</th>\n",
              "      <th>Make</th>\n",
              "      <th>Model</th>\n",
              "      <th>Trim</th>\n",
              "      <th>Type</th>\n",
              "      <th>Cylinder</th>\n",
              "      <th>Liter</th>\n",
              "      <th>Doors</th>\n",
              "      <th>Cruise</th>\n",
              "      <th>Sound</th>\n",
              "      <th>Leather</th>\n",
              "    </tr>\n",
              "  </thead>\n",
              "  <tbody>\n",
              "    <tr>\n",
              "      <th>0</th>\n",
              "      <td>17314.103129</td>\n",
              "      <td>8221</td>\n",
              "      <td>Buick</td>\n",
              "      <td>Century</td>\n",
              "      <td>Sedan 4D</td>\n",
              "      <td>Sedan</td>\n",
              "      <td>6</td>\n",
              "      <td>3.1</td>\n",
              "      <td>4</td>\n",
              "      <td>1</td>\n",
              "      <td>1</td>\n",
              "      <td>1</td>\n",
              "    </tr>\n",
              "    <tr>\n",
              "      <th>1</th>\n",
              "      <td>17542.036083</td>\n",
              "      <td>9135</td>\n",
              "      <td>Buick</td>\n",
              "      <td>Century</td>\n",
              "      <td>Sedan 4D</td>\n",
              "      <td>Sedan</td>\n",
              "      <td>6</td>\n",
              "      <td>3.1</td>\n",
              "      <td>4</td>\n",
              "      <td>1</td>\n",
              "      <td>1</td>\n",
              "      <td>0</td>\n",
              "    </tr>\n",
              "    <tr>\n",
              "      <th>2</th>\n",
              "      <td>16218.847862</td>\n",
              "      <td>13196</td>\n",
              "      <td>Buick</td>\n",
              "      <td>Century</td>\n",
              "      <td>Sedan 4D</td>\n",
              "      <td>Sedan</td>\n",
              "      <td>6</td>\n",
              "      <td>3.1</td>\n",
              "      <td>4</td>\n",
              "      <td>1</td>\n",
              "      <td>1</td>\n",
              "      <td>0</td>\n",
              "    </tr>\n",
              "    <tr>\n",
              "      <th>3</th>\n",
              "      <td>16336.913140</td>\n",
              "      <td>16342</td>\n",
              "      <td>Buick</td>\n",
              "      <td>Century</td>\n",
              "      <td>Sedan 4D</td>\n",
              "      <td>Sedan</td>\n",
              "      <td>6</td>\n",
              "      <td>3.1</td>\n",
              "      <td>4</td>\n",
              "      <td>1</td>\n",
              "      <td>0</td>\n",
              "      <td>0</td>\n",
              "    </tr>\n",
              "    <tr>\n",
              "      <th>4</th>\n",
              "      <td>16339.170324</td>\n",
              "      <td>19832</td>\n",
              "      <td>Buick</td>\n",
              "      <td>Century</td>\n",
              "      <td>Sedan 4D</td>\n",
              "      <td>Sedan</td>\n",
              "      <td>6</td>\n",
              "      <td>3.1</td>\n",
              "      <td>4</td>\n",
              "      <td>1</td>\n",
              "      <td>0</td>\n",
              "      <td>1</td>\n",
              "    </tr>\n",
              "  </tbody>\n",
              "</table>\n",
              "</div>\n",
              "      <button class=\"colab-df-convert\" onclick=\"convertToInteractive('df-3169cdd3-bdfb-470f-9b6d-ae310f310675')\"\n",
              "              title=\"Convert this dataframe to an interactive table.\"\n",
              "              style=\"display:none;\">\n",
              "        \n",
              "  <svg xmlns=\"http://www.w3.org/2000/svg\" height=\"24px\"viewBox=\"0 0 24 24\"\n",
              "       width=\"24px\">\n",
              "    <path d=\"M0 0h24v24H0V0z\" fill=\"none\"/>\n",
              "    <path d=\"M18.56 5.44l.94 2.06.94-2.06 2.06-.94-2.06-.94-.94-2.06-.94 2.06-2.06.94zm-11 1L8.5 8.5l.94-2.06 2.06-.94-2.06-.94L8.5 2.5l-.94 2.06-2.06.94zm10 10l.94 2.06.94-2.06 2.06-.94-2.06-.94-.94-2.06-.94 2.06-2.06.94z\"/><path d=\"M17.41 7.96l-1.37-1.37c-.4-.4-.92-.59-1.43-.59-.52 0-1.04.2-1.43.59L10.3 9.45l-7.72 7.72c-.78.78-.78 2.05 0 2.83L4 21.41c.39.39.9.59 1.41.59.51 0 1.02-.2 1.41-.59l7.78-7.78 2.81-2.81c.8-.78.8-2.07 0-2.86zM5.41 20L4 18.59l7.72-7.72 1.47 1.35L5.41 20z\"/>\n",
              "  </svg>\n",
              "      </button>\n",
              "      \n",
              "  <style>\n",
              "    .colab-df-container {\n",
              "      display:flex;\n",
              "      flex-wrap:wrap;\n",
              "      gap: 12px;\n",
              "    }\n",
              "\n",
              "    .colab-df-convert {\n",
              "      background-color: #E8F0FE;\n",
              "      border: none;\n",
              "      border-radius: 50%;\n",
              "      cursor: pointer;\n",
              "      display: none;\n",
              "      fill: #1967D2;\n",
              "      height: 32px;\n",
              "      padding: 0 0 0 0;\n",
              "      width: 32px;\n",
              "    }\n",
              "\n",
              "    .colab-df-convert:hover {\n",
              "      background-color: #E2EBFA;\n",
              "      box-shadow: 0px 1px 2px rgba(60, 64, 67, 0.3), 0px 1px 3px 1px rgba(60, 64, 67, 0.15);\n",
              "      fill: #174EA6;\n",
              "    }\n",
              "\n",
              "    [theme=dark] .colab-df-convert {\n",
              "      background-color: #3B4455;\n",
              "      fill: #D2E3FC;\n",
              "    }\n",
              "\n",
              "    [theme=dark] .colab-df-convert:hover {\n",
              "      background-color: #434B5C;\n",
              "      box-shadow: 0px 1px 3px 1px rgba(0, 0, 0, 0.15);\n",
              "      filter: drop-shadow(0px 1px 2px rgba(0, 0, 0, 0.3));\n",
              "      fill: #FFFFFF;\n",
              "    }\n",
              "  </style>\n",
              "\n",
              "      <script>\n",
              "        const buttonEl =\n",
              "          document.querySelector('#df-3169cdd3-bdfb-470f-9b6d-ae310f310675 button.colab-df-convert');\n",
              "        buttonEl.style.display =\n",
              "          google.colab.kernel.accessAllowed ? 'block' : 'none';\n",
              "\n",
              "        async function convertToInteractive(key) {\n",
              "          const element = document.querySelector('#df-3169cdd3-bdfb-470f-9b6d-ae310f310675');\n",
              "          const dataTable =\n",
              "            await google.colab.kernel.invokeFunction('convertToInteractive',\n",
              "                                                     [key], {});\n",
              "          if (!dataTable) return;\n",
              "\n",
              "          const docLinkHtml = 'Like what you see? Visit the ' +\n",
              "            '<a target=\"_blank\" href=https://colab.research.google.com/notebooks/data_table.ipynb>data table notebook</a>'\n",
              "            + ' to learn more about interactive tables.';\n",
              "          element.innerHTML = '';\n",
              "          dataTable['output_type'] = 'display_data';\n",
              "          await google.colab.output.renderOutput(dataTable, element);\n",
              "          const docLink = document.createElement('div');\n",
              "          docLink.innerHTML = docLinkHtml;\n",
              "          element.appendChild(docLink);\n",
              "        }\n",
              "      </script>\n",
              "    </div>\n",
              "  </div>\n",
              "  "
            ]
          },
          "metadata": {},
          "execution_count": 4
        }
      ]
    },
    {
      "cell_type": "code",
      "source": [
        "df.shape"
      ],
      "metadata": {
        "colab": {
          "base_uri": "https://localhost:8080/"
        },
        "id": "kMt1ll6N5-Xi",
        "outputId": "5565b747-8ccf-47ce-faa4-ffed52f3bd7d"
      },
      "execution_count": 5,
      "outputs": [
        {
          "output_type": "execute_result",
          "data": {
            "text/plain": [
              "(804, 12)"
            ]
          },
          "metadata": {},
          "execution_count": 5
        }
      ]
    },
    {
      "cell_type": "code",
      "source": [
        "df.isnull().sum()"
      ],
      "metadata": {
        "colab": {
          "base_uri": "https://localhost:8080/"
        },
        "id": "ghth6nU7D25g",
        "outputId": "84b93984-a238-47fd-98d6-0bf221964be8"
      },
      "execution_count": 6,
      "outputs": [
        {
          "output_type": "execute_result",
          "data": {
            "text/plain": [
              "Price       0\n",
              "Mileage     0\n",
              "Make        0\n",
              "Model       0\n",
              "Trim        0\n",
              "Type        0\n",
              "Cylinder    0\n",
              "Liter       0\n",
              "Doors       0\n",
              "Cruise      0\n",
              "Sound       0\n",
              "Leather     0\n",
              "dtype: int64"
            ]
          },
          "metadata": {},
          "execution_count": 6
        }
      ]
    },
    {
      "cell_type": "code",
      "source": [
        "df=df.drop_duplicates()"
      ],
      "metadata": {
        "id": "KUmYrgXhD9ik"
      },
      "execution_count": 7,
      "outputs": []
    },
    {
      "cell_type": "code",
      "source": [
        "df.dtypes"
      ],
      "metadata": {
        "colab": {
          "base_uri": "https://localhost:8080/"
        },
        "id": "iYMA2Nz7EJjo",
        "outputId": "9f177198-4e7b-4e71-9fd3-66c041c09c6d"
      },
      "execution_count": 8,
      "outputs": [
        {
          "output_type": "execute_result",
          "data": {
            "text/plain": [
              "Price       float64\n",
              "Mileage       int64\n",
              "Make         object\n",
              "Model        object\n",
              "Trim         object\n",
              "Type         object\n",
              "Cylinder      int64\n",
              "Liter       float64\n",
              "Doors         int64\n",
              "Cruise        int64\n",
              "Sound         int64\n",
              "Leather       int64\n",
              "dtype: object"
            ]
          },
          "metadata": {},
          "execution_count": 8
        }
      ]
    },
    {
      "cell_type": "code",
      "source": [
        "df.describe()"
      ],
      "metadata": {
        "colab": {
          "base_uri": "https://localhost:8080/",
          "height": 300
        },
        "id": "EjGchMhj65JZ",
        "outputId": "f4cb7f52-caaa-444b-d9c0-955e6368a6ff"
      },
      "execution_count": 9,
      "outputs": [
        {
          "output_type": "execute_result",
          "data": {
            "text/plain": [
              "              Price       Mileage    Cylinder       Liter       Doors  \\\n",
              "count    804.000000    804.000000  804.000000  804.000000  804.000000   \n",
              "mean   21343.143767  19831.934080    5.268657    3.037313    3.527363   \n",
              "std     9884.852801   8196.319707    1.387531    1.105562    0.850169   \n",
              "min     8638.930895    266.000000    4.000000    1.600000    2.000000   \n",
              "25%    14273.073870  14623.500000    4.000000    2.200000    4.000000   \n",
              "50%    18024.995019  20913.500000    6.000000    2.800000    4.000000   \n",
              "75%    26717.316636  25213.000000    6.000000    3.800000    4.000000   \n",
              "max    70755.466717  50387.000000    8.000000    6.000000    4.000000   \n",
              "\n",
              "           Cruise       Sound     Leather  \n",
              "count  804.000000  804.000000  804.000000  \n",
              "mean     0.752488    0.679104    0.723881  \n",
              "std      0.431836    0.467111    0.447355  \n",
              "min      0.000000    0.000000    0.000000  \n",
              "25%      1.000000    0.000000    0.000000  \n",
              "50%      1.000000    1.000000    1.000000  \n",
              "75%      1.000000    1.000000    1.000000  \n",
              "max      1.000000    1.000000    1.000000  "
            ],
            "text/html": [
              "\n",
              "  <div id=\"df-089423d2-7a59-461c-8d8c-f04cb04e29de\">\n",
              "    <div class=\"colab-df-container\">\n",
              "      <div>\n",
              "<style scoped>\n",
              "    .dataframe tbody tr th:only-of-type {\n",
              "        vertical-align: middle;\n",
              "    }\n",
              "\n",
              "    .dataframe tbody tr th {\n",
              "        vertical-align: top;\n",
              "    }\n",
              "\n",
              "    .dataframe thead th {\n",
              "        text-align: right;\n",
              "    }\n",
              "</style>\n",
              "<table border=\"1\" class=\"dataframe\">\n",
              "  <thead>\n",
              "    <tr style=\"text-align: right;\">\n",
              "      <th></th>\n",
              "      <th>Price</th>\n",
              "      <th>Mileage</th>\n",
              "      <th>Cylinder</th>\n",
              "      <th>Liter</th>\n",
              "      <th>Doors</th>\n",
              "      <th>Cruise</th>\n",
              "      <th>Sound</th>\n",
              "      <th>Leather</th>\n",
              "    </tr>\n",
              "  </thead>\n",
              "  <tbody>\n",
              "    <tr>\n",
              "      <th>count</th>\n",
              "      <td>804.000000</td>\n",
              "      <td>804.000000</td>\n",
              "      <td>804.000000</td>\n",
              "      <td>804.000000</td>\n",
              "      <td>804.000000</td>\n",
              "      <td>804.000000</td>\n",
              "      <td>804.000000</td>\n",
              "      <td>804.000000</td>\n",
              "    </tr>\n",
              "    <tr>\n",
              "      <th>mean</th>\n",
              "      <td>21343.143767</td>\n",
              "      <td>19831.934080</td>\n",
              "      <td>5.268657</td>\n",
              "      <td>3.037313</td>\n",
              "      <td>3.527363</td>\n",
              "      <td>0.752488</td>\n",
              "      <td>0.679104</td>\n",
              "      <td>0.723881</td>\n",
              "    </tr>\n",
              "    <tr>\n",
              "      <th>std</th>\n",
              "      <td>9884.852801</td>\n",
              "      <td>8196.319707</td>\n",
              "      <td>1.387531</td>\n",
              "      <td>1.105562</td>\n",
              "      <td>0.850169</td>\n",
              "      <td>0.431836</td>\n",
              "      <td>0.467111</td>\n",
              "      <td>0.447355</td>\n",
              "    </tr>\n",
              "    <tr>\n",
              "      <th>min</th>\n",
              "      <td>8638.930895</td>\n",
              "      <td>266.000000</td>\n",
              "      <td>4.000000</td>\n",
              "      <td>1.600000</td>\n",
              "      <td>2.000000</td>\n",
              "      <td>0.000000</td>\n",
              "      <td>0.000000</td>\n",
              "      <td>0.000000</td>\n",
              "    </tr>\n",
              "    <tr>\n",
              "      <th>25%</th>\n",
              "      <td>14273.073870</td>\n",
              "      <td>14623.500000</td>\n",
              "      <td>4.000000</td>\n",
              "      <td>2.200000</td>\n",
              "      <td>4.000000</td>\n",
              "      <td>1.000000</td>\n",
              "      <td>0.000000</td>\n",
              "      <td>0.000000</td>\n",
              "    </tr>\n",
              "    <tr>\n",
              "      <th>50%</th>\n",
              "      <td>18024.995019</td>\n",
              "      <td>20913.500000</td>\n",
              "      <td>6.000000</td>\n",
              "      <td>2.800000</td>\n",
              "      <td>4.000000</td>\n",
              "      <td>1.000000</td>\n",
              "      <td>1.000000</td>\n",
              "      <td>1.000000</td>\n",
              "    </tr>\n",
              "    <tr>\n",
              "      <th>75%</th>\n",
              "      <td>26717.316636</td>\n",
              "      <td>25213.000000</td>\n",
              "      <td>6.000000</td>\n",
              "      <td>3.800000</td>\n",
              "      <td>4.000000</td>\n",
              "      <td>1.000000</td>\n",
              "      <td>1.000000</td>\n",
              "      <td>1.000000</td>\n",
              "    </tr>\n",
              "    <tr>\n",
              "      <th>max</th>\n",
              "      <td>70755.466717</td>\n",
              "      <td>50387.000000</td>\n",
              "      <td>8.000000</td>\n",
              "      <td>6.000000</td>\n",
              "      <td>4.000000</td>\n",
              "      <td>1.000000</td>\n",
              "      <td>1.000000</td>\n",
              "      <td>1.000000</td>\n",
              "    </tr>\n",
              "  </tbody>\n",
              "</table>\n",
              "</div>\n",
              "      <button class=\"colab-df-convert\" onclick=\"convertToInteractive('df-089423d2-7a59-461c-8d8c-f04cb04e29de')\"\n",
              "              title=\"Convert this dataframe to an interactive table.\"\n",
              "              style=\"display:none;\">\n",
              "        \n",
              "  <svg xmlns=\"http://www.w3.org/2000/svg\" height=\"24px\"viewBox=\"0 0 24 24\"\n",
              "       width=\"24px\">\n",
              "    <path d=\"M0 0h24v24H0V0z\" fill=\"none\"/>\n",
              "    <path d=\"M18.56 5.44l.94 2.06.94-2.06 2.06-.94-2.06-.94-.94-2.06-.94 2.06-2.06.94zm-11 1L8.5 8.5l.94-2.06 2.06-.94-2.06-.94L8.5 2.5l-.94 2.06-2.06.94zm10 10l.94 2.06.94-2.06 2.06-.94-2.06-.94-.94-2.06-.94 2.06-2.06.94z\"/><path d=\"M17.41 7.96l-1.37-1.37c-.4-.4-.92-.59-1.43-.59-.52 0-1.04.2-1.43.59L10.3 9.45l-7.72 7.72c-.78.78-.78 2.05 0 2.83L4 21.41c.39.39.9.59 1.41.59.51 0 1.02-.2 1.41-.59l7.78-7.78 2.81-2.81c.8-.78.8-2.07 0-2.86zM5.41 20L4 18.59l7.72-7.72 1.47 1.35L5.41 20z\"/>\n",
              "  </svg>\n",
              "      </button>\n",
              "      \n",
              "  <style>\n",
              "    .colab-df-container {\n",
              "      display:flex;\n",
              "      flex-wrap:wrap;\n",
              "      gap: 12px;\n",
              "    }\n",
              "\n",
              "    .colab-df-convert {\n",
              "      background-color: #E8F0FE;\n",
              "      border: none;\n",
              "      border-radius: 50%;\n",
              "      cursor: pointer;\n",
              "      display: none;\n",
              "      fill: #1967D2;\n",
              "      height: 32px;\n",
              "      padding: 0 0 0 0;\n",
              "      width: 32px;\n",
              "    }\n",
              "\n",
              "    .colab-df-convert:hover {\n",
              "      background-color: #E2EBFA;\n",
              "      box-shadow: 0px 1px 2px rgba(60, 64, 67, 0.3), 0px 1px 3px 1px rgba(60, 64, 67, 0.15);\n",
              "      fill: #174EA6;\n",
              "    }\n",
              "\n",
              "    [theme=dark] .colab-df-convert {\n",
              "      background-color: #3B4455;\n",
              "      fill: #D2E3FC;\n",
              "    }\n",
              "\n",
              "    [theme=dark] .colab-df-convert:hover {\n",
              "      background-color: #434B5C;\n",
              "      box-shadow: 0px 1px 3px 1px rgba(0, 0, 0, 0.15);\n",
              "      filter: drop-shadow(0px 1px 2px rgba(0, 0, 0, 0.3));\n",
              "      fill: #FFFFFF;\n",
              "    }\n",
              "  </style>\n",
              "\n",
              "      <script>\n",
              "        const buttonEl =\n",
              "          document.querySelector('#df-089423d2-7a59-461c-8d8c-f04cb04e29de button.colab-df-convert');\n",
              "        buttonEl.style.display =\n",
              "          google.colab.kernel.accessAllowed ? 'block' : 'none';\n",
              "\n",
              "        async function convertToInteractive(key) {\n",
              "          const element = document.querySelector('#df-089423d2-7a59-461c-8d8c-f04cb04e29de');\n",
              "          const dataTable =\n",
              "            await google.colab.kernel.invokeFunction('convertToInteractive',\n",
              "                                                     [key], {});\n",
              "          if (!dataTable) return;\n",
              "\n",
              "          const docLinkHtml = 'Like what you see? Visit the ' +\n",
              "            '<a target=\"_blank\" href=https://colab.research.google.com/notebooks/data_table.ipynb>data table notebook</a>'\n",
              "            + ' to learn more about interactive tables.';\n",
              "          element.innerHTML = '';\n",
              "          dataTable['output_type'] = 'display_data';\n",
              "          await google.colab.output.renderOutput(dataTable, element);\n",
              "          const docLink = document.createElement('div');\n",
              "          docLink.innerHTML = docLinkHtml;\n",
              "          element.appendChild(docLink);\n",
              "        }\n",
              "      </script>\n",
              "    </div>\n",
              "  </div>\n",
              "  "
            ]
          },
          "metadata": {},
          "execution_count": 9
        }
      ]
    },
    {
      "cell_type": "code",
      "source": [
        "df_1=df"
      ],
      "metadata": {
        "id": "qObDvlndzpmS"
      },
      "execution_count": 10,
      "outputs": []
    },
    {
      "cell_type": "code",
      "source": [
        "df_1.shape"
      ],
      "metadata": {
        "colab": {
          "base_uri": "https://localhost:8080/"
        },
        "id": "rSi-LgQBzsHL",
        "outputId": "15684130-453a-43a5-b07f-de786a4314c1"
      },
      "execution_count": 11,
      "outputs": [
        {
          "output_type": "execute_result",
          "data": {
            "text/plain": [
              "(804, 12)"
            ]
          },
          "metadata": {},
          "execution_count": 11
        }
      ]
    },
    {
      "cell_type": "code",
      "source": [
        "percentile25=df['Price'].quantile(0.25)\n",
        "percentile75=df['Price'].quantile(0.75)\n",
        "iqr=percentile75-percentile25\n",
        "print('percentile25 :',percentile25)\n",
        "print('percentile75 :',percentile75)\n",
        "print('IQR :',iqr)"
      ],
      "metadata": {
        "colab": {
          "base_uri": "https://localhost:8080/"
        },
        "id": "f3n4Ex99js4H",
        "outputId": "c1543b3b-aa14-428e-f6cd-59cb4d82992e"
      },
      "execution_count": 12,
      "outputs": [
        {
          "output_type": "stream",
          "name": "stdout",
          "text": [
            "percentile25 : 14273.073870330325\n",
            "percentile75 : 26717.3166356619\n",
            "IQR : 12444.242765331575\n"
          ]
        }
      ]
    },
    {
      "cell_type": "code",
      "source": [
        "max_limit=percentile75+1.5*iqr\n",
        "min_limit=percentile25-1.5*iqr\n",
        "print(max_limit)\n",
        "print(min_limit)"
      ],
      "metadata": {
        "colab": {
          "base_uri": "https://localhost:8080/"
        },
        "id": "KlS-WLkslMOH",
        "outputId": "ff4196a5-01f3-4125-9af1-88a6b985a1d8"
      },
      "execution_count": 13,
      "outputs": [
        {
          "output_type": "stream",
          "name": "stdout",
          "text": [
            "45383.68078365926\n",
            "-4393.290277667038\n"
          ]
        }
      ]
    },
    {
      "cell_type": "code",
      "source": [
        "df[df['Price']>max_limit]"
      ],
      "metadata": {
        "colab": {
          "base_uri": "https://localhost:8080/",
          "height": 626
        },
        "id": "aJBWHpOYqYEn",
        "outputId": "01c6bf15-e5e2-4adf-f789-d8c9e0c4624e"
      },
      "execution_count": 14,
      "outputs": [
        {
          "output_type": "execute_result",
          "data": {
            "text/plain": [
              "            Price  Mileage       Make     Model             Trim         Type  \\\n",
              "80   51154.047216     2202   Cadillac     CST-V         Sedan 4D        Sedan   \n",
              "81   49248.158967     6685   Cadillac     CST-V         Sedan 4D        Sedan   \n",
              "82   46747.673270    15343   Cadillac     CST-V         Sedan 4D        Sedan   \n",
              "140  48310.329545      788   Cadillac    STS-V8         Sedan 4D        Sedan   \n",
              "141  48365.980897     2616   Cadillac    STS-V8         Sedan 4D        Sedan   \n",
              "150  70755.466717      583   Cadillac    XLR-V8  Hardtop Conv 2D  Convertible   \n",
              "151  68566.187189     6420   Cadillac    XLR-V8  Hardtop Conv 2D  Convertible   \n",
              "152  69133.731722     7892   Cadillac    XLR-V8  Hardtop Conv 2D  Convertible   \n",
              "153  66374.307040    12021   Cadillac    XLR-V8  Hardtop Conv 2D  Convertible   \n",
              "154  65281.481237    15600   Cadillac    XLR-V8  Hardtop Conv 2D  Convertible   \n",
              "155  63913.117248    18200   Cadillac    XLR-V8  Hardtop Conv 2D  Convertible   \n",
              "156  60567.549093    23193   Cadillac    XLR-V8  Hardtop Conv 2D  Convertible   \n",
              "157  57154.443437    29260   Cadillac    XLR-V8  Hardtop Conv 2D  Convertible   \n",
              "158  55639.087654    31805   Cadillac    XLR-V8  Hardtop Conv 2D  Convertible   \n",
              "159  52001.994379    42691   Cadillac    XLR-V8  Hardtop Conv 2D  Convertible   \n",
              "340  46732.606030     3625  Chevrolet  Corvette          Conv 2D  Convertible   \n",
              "341  47065.209913     5239  Chevrolet  Corvette          Conv 2D  Convertible   \n",
              "\n",
              "     Cylinder  Liter  Doors  Cruise  Sound  Leather  \n",
              "80          8    5.7      4       1      1        1  \n",
              "81          8    5.7      4       1      0        1  \n",
              "82          8    5.7      4       1      1        1  \n",
              "140         8    4.6      4       1      0        1  \n",
              "141         8    4.6      4       1      1        1  \n",
              "150         8    4.6      2       1      1        1  \n",
              "151         8    4.6      2       1      1        1  \n",
              "152         8    4.6      2       1      1        1  \n",
              "153         8    4.6      2       1      1        1  \n",
              "154         8    4.6      2       1      1        1  \n",
              "155         8    4.6      2       1      1        1  \n",
              "156         8    4.6      2       1      1        1  \n",
              "157         8    4.6      2       1      1        1  \n",
              "158         8    4.6      2       1      0        1  \n",
              "159         8    4.6      2       1      1        1  \n",
              "340         8    6.0      2       1      1        1  \n",
              "341         8    6.0      2       1      1        1  "
            ],
            "text/html": [
              "\n",
              "  <div id=\"df-9d97a96f-a055-4de9-823b-08eb98a49d58\">\n",
              "    <div class=\"colab-df-container\">\n",
              "      <div>\n",
              "<style scoped>\n",
              "    .dataframe tbody tr th:only-of-type {\n",
              "        vertical-align: middle;\n",
              "    }\n",
              "\n",
              "    .dataframe tbody tr th {\n",
              "        vertical-align: top;\n",
              "    }\n",
              "\n",
              "    .dataframe thead th {\n",
              "        text-align: right;\n",
              "    }\n",
              "</style>\n",
              "<table border=\"1\" class=\"dataframe\">\n",
              "  <thead>\n",
              "    <tr style=\"text-align: right;\">\n",
              "      <th></th>\n",
              "      <th>Price</th>\n",
              "      <th>Mileage</th>\n",
              "      <th>Make</th>\n",
              "      <th>Model</th>\n",
              "      <th>Trim</th>\n",
              "      <th>Type</th>\n",
              "      <th>Cylinder</th>\n",
              "      <th>Liter</th>\n",
              "      <th>Doors</th>\n",
              "      <th>Cruise</th>\n",
              "      <th>Sound</th>\n",
              "      <th>Leather</th>\n",
              "    </tr>\n",
              "  </thead>\n",
              "  <tbody>\n",
              "    <tr>\n",
              "      <th>80</th>\n",
              "      <td>51154.047216</td>\n",
              "      <td>2202</td>\n",
              "      <td>Cadillac</td>\n",
              "      <td>CST-V</td>\n",
              "      <td>Sedan 4D</td>\n",
              "      <td>Sedan</td>\n",
              "      <td>8</td>\n",
              "      <td>5.7</td>\n",
              "      <td>4</td>\n",
              "      <td>1</td>\n",
              "      <td>1</td>\n",
              "      <td>1</td>\n",
              "    </tr>\n",
              "    <tr>\n",
              "      <th>81</th>\n",
              "      <td>49248.158967</td>\n",
              "      <td>6685</td>\n",
              "      <td>Cadillac</td>\n",
              "      <td>CST-V</td>\n",
              "      <td>Sedan 4D</td>\n",
              "      <td>Sedan</td>\n",
              "      <td>8</td>\n",
              "      <td>5.7</td>\n",
              "      <td>4</td>\n",
              "      <td>1</td>\n",
              "      <td>0</td>\n",
              "      <td>1</td>\n",
              "    </tr>\n",
              "    <tr>\n",
              "      <th>82</th>\n",
              "      <td>46747.673270</td>\n",
              "      <td>15343</td>\n",
              "      <td>Cadillac</td>\n",
              "      <td>CST-V</td>\n",
              "      <td>Sedan 4D</td>\n",
              "      <td>Sedan</td>\n",
              "      <td>8</td>\n",
              "      <td>5.7</td>\n",
              "      <td>4</td>\n",
              "      <td>1</td>\n",
              "      <td>1</td>\n",
              "      <td>1</td>\n",
              "    </tr>\n",
              "    <tr>\n",
              "      <th>140</th>\n",
              "      <td>48310.329545</td>\n",
              "      <td>788</td>\n",
              "      <td>Cadillac</td>\n",
              "      <td>STS-V8</td>\n",
              "      <td>Sedan 4D</td>\n",
              "      <td>Sedan</td>\n",
              "      <td>8</td>\n",
              "      <td>4.6</td>\n",
              "      <td>4</td>\n",
              "      <td>1</td>\n",
              "      <td>0</td>\n",
              "      <td>1</td>\n",
              "    </tr>\n",
              "    <tr>\n",
              "      <th>141</th>\n",
              "      <td>48365.980897</td>\n",
              "      <td>2616</td>\n",
              "      <td>Cadillac</td>\n",
              "      <td>STS-V8</td>\n",
              "      <td>Sedan 4D</td>\n",
              "      <td>Sedan</td>\n",
              "      <td>8</td>\n",
              "      <td>4.6</td>\n",
              "      <td>4</td>\n",
              "      <td>1</td>\n",
              "      <td>1</td>\n",
              "      <td>1</td>\n",
              "    </tr>\n",
              "    <tr>\n",
              "      <th>150</th>\n",
              "      <td>70755.466717</td>\n",
              "      <td>583</td>\n",
              "      <td>Cadillac</td>\n",
              "      <td>XLR-V8</td>\n",
              "      <td>Hardtop Conv 2D</td>\n",
              "      <td>Convertible</td>\n",
              "      <td>8</td>\n",
              "      <td>4.6</td>\n",
              "      <td>2</td>\n",
              "      <td>1</td>\n",
              "      <td>1</td>\n",
              "      <td>1</td>\n",
              "    </tr>\n",
              "    <tr>\n",
              "      <th>151</th>\n",
              "      <td>68566.187189</td>\n",
              "      <td>6420</td>\n",
              "      <td>Cadillac</td>\n",
              "      <td>XLR-V8</td>\n",
              "      <td>Hardtop Conv 2D</td>\n",
              "      <td>Convertible</td>\n",
              "      <td>8</td>\n",
              "      <td>4.6</td>\n",
              "      <td>2</td>\n",
              "      <td>1</td>\n",
              "      <td>1</td>\n",
              "      <td>1</td>\n",
              "    </tr>\n",
              "    <tr>\n",
              "      <th>152</th>\n",
              "      <td>69133.731722</td>\n",
              "      <td>7892</td>\n",
              "      <td>Cadillac</td>\n",
              "      <td>XLR-V8</td>\n",
              "      <td>Hardtop Conv 2D</td>\n",
              "      <td>Convertible</td>\n",
              "      <td>8</td>\n",
              "      <td>4.6</td>\n",
              "      <td>2</td>\n",
              "      <td>1</td>\n",
              "      <td>1</td>\n",
              "      <td>1</td>\n",
              "    </tr>\n",
              "    <tr>\n",
              "      <th>153</th>\n",
              "      <td>66374.307040</td>\n",
              "      <td>12021</td>\n",
              "      <td>Cadillac</td>\n",
              "      <td>XLR-V8</td>\n",
              "      <td>Hardtop Conv 2D</td>\n",
              "      <td>Convertible</td>\n",
              "      <td>8</td>\n",
              "      <td>4.6</td>\n",
              "      <td>2</td>\n",
              "      <td>1</td>\n",
              "      <td>1</td>\n",
              "      <td>1</td>\n",
              "    </tr>\n",
              "    <tr>\n",
              "      <th>154</th>\n",
              "      <td>65281.481237</td>\n",
              "      <td>15600</td>\n",
              "      <td>Cadillac</td>\n",
              "      <td>XLR-V8</td>\n",
              "      <td>Hardtop Conv 2D</td>\n",
              "      <td>Convertible</td>\n",
              "      <td>8</td>\n",
              "      <td>4.6</td>\n",
              "      <td>2</td>\n",
              "      <td>1</td>\n",
              "      <td>1</td>\n",
              "      <td>1</td>\n",
              "    </tr>\n",
              "    <tr>\n",
              "      <th>155</th>\n",
              "      <td>63913.117248</td>\n",
              "      <td>18200</td>\n",
              "      <td>Cadillac</td>\n",
              "      <td>XLR-V8</td>\n",
              "      <td>Hardtop Conv 2D</td>\n",
              "      <td>Convertible</td>\n",
              "      <td>8</td>\n",
              "      <td>4.6</td>\n",
              "      <td>2</td>\n",
              "      <td>1</td>\n",
              "      <td>1</td>\n",
              "      <td>1</td>\n",
              "    </tr>\n",
              "    <tr>\n",
              "      <th>156</th>\n",
              "      <td>60567.549093</td>\n",
              "      <td>23193</td>\n",
              "      <td>Cadillac</td>\n",
              "      <td>XLR-V8</td>\n",
              "      <td>Hardtop Conv 2D</td>\n",
              "      <td>Convertible</td>\n",
              "      <td>8</td>\n",
              "      <td>4.6</td>\n",
              "      <td>2</td>\n",
              "      <td>1</td>\n",
              "      <td>1</td>\n",
              "      <td>1</td>\n",
              "    </tr>\n",
              "    <tr>\n",
              "      <th>157</th>\n",
              "      <td>57154.443437</td>\n",
              "      <td>29260</td>\n",
              "      <td>Cadillac</td>\n",
              "      <td>XLR-V8</td>\n",
              "      <td>Hardtop Conv 2D</td>\n",
              "      <td>Convertible</td>\n",
              "      <td>8</td>\n",
              "      <td>4.6</td>\n",
              "      <td>2</td>\n",
              "      <td>1</td>\n",
              "      <td>1</td>\n",
              "      <td>1</td>\n",
              "    </tr>\n",
              "    <tr>\n",
              "      <th>158</th>\n",
              "      <td>55639.087654</td>\n",
              "      <td>31805</td>\n",
              "      <td>Cadillac</td>\n",
              "      <td>XLR-V8</td>\n",
              "      <td>Hardtop Conv 2D</td>\n",
              "      <td>Convertible</td>\n",
              "      <td>8</td>\n",
              "      <td>4.6</td>\n",
              "      <td>2</td>\n",
              "      <td>1</td>\n",
              "      <td>0</td>\n",
              "      <td>1</td>\n",
              "    </tr>\n",
              "    <tr>\n",
              "      <th>159</th>\n",
              "      <td>52001.994379</td>\n",
              "      <td>42691</td>\n",
              "      <td>Cadillac</td>\n",
              "      <td>XLR-V8</td>\n",
              "      <td>Hardtop Conv 2D</td>\n",
              "      <td>Convertible</td>\n",
              "      <td>8</td>\n",
              "      <td>4.6</td>\n",
              "      <td>2</td>\n",
              "      <td>1</td>\n",
              "      <td>1</td>\n",
              "      <td>1</td>\n",
              "    </tr>\n",
              "    <tr>\n",
              "      <th>340</th>\n",
              "      <td>46732.606030</td>\n",
              "      <td>3625</td>\n",
              "      <td>Chevrolet</td>\n",
              "      <td>Corvette</td>\n",
              "      <td>Conv 2D</td>\n",
              "      <td>Convertible</td>\n",
              "      <td>8</td>\n",
              "      <td>6.0</td>\n",
              "      <td>2</td>\n",
              "      <td>1</td>\n",
              "      <td>1</td>\n",
              "      <td>1</td>\n",
              "    </tr>\n",
              "    <tr>\n",
              "      <th>341</th>\n",
              "      <td>47065.209913</td>\n",
              "      <td>5239</td>\n",
              "      <td>Chevrolet</td>\n",
              "      <td>Corvette</td>\n",
              "      <td>Conv 2D</td>\n",
              "      <td>Convertible</td>\n",
              "      <td>8</td>\n",
              "      <td>6.0</td>\n",
              "      <td>2</td>\n",
              "      <td>1</td>\n",
              "      <td>1</td>\n",
              "      <td>1</td>\n",
              "    </tr>\n",
              "  </tbody>\n",
              "</table>\n",
              "</div>\n",
              "      <button class=\"colab-df-convert\" onclick=\"convertToInteractive('df-9d97a96f-a055-4de9-823b-08eb98a49d58')\"\n",
              "              title=\"Convert this dataframe to an interactive table.\"\n",
              "              style=\"display:none;\">\n",
              "        \n",
              "  <svg xmlns=\"http://www.w3.org/2000/svg\" height=\"24px\"viewBox=\"0 0 24 24\"\n",
              "       width=\"24px\">\n",
              "    <path d=\"M0 0h24v24H0V0z\" fill=\"none\"/>\n",
              "    <path d=\"M18.56 5.44l.94 2.06.94-2.06 2.06-.94-2.06-.94-.94-2.06-.94 2.06-2.06.94zm-11 1L8.5 8.5l.94-2.06 2.06-.94-2.06-.94L8.5 2.5l-.94 2.06-2.06.94zm10 10l.94 2.06.94-2.06 2.06-.94-2.06-.94-.94-2.06-.94 2.06-2.06.94z\"/><path d=\"M17.41 7.96l-1.37-1.37c-.4-.4-.92-.59-1.43-.59-.52 0-1.04.2-1.43.59L10.3 9.45l-7.72 7.72c-.78.78-.78 2.05 0 2.83L4 21.41c.39.39.9.59 1.41.59.51 0 1.02-.2 1.41-.59l7.78-7.78 2.81-2.81c.8-.78.8-2.07 0-2.86zM5.41 20L4 18.59l7.72-7.72 1.47 1.35L5.41 20z\"/>\n",
              "  </svg>\n",
              "      </button>\n",
              "      \n",
              "  <style>\n",
              "    .colab-df-container {\n",
              "      display:flex;\n",
              "      flex-wrap:wrap;\n",
              "      gap: 12px;\n",
              "    }\n",
              "\n",
              "    .colab-df-convert {\n",
              "      background-color: #E8F0FE;\n",
              "      border: none;\n",
              "      border-radius: 50%;\n",
              "      cursor: pointer;\n",
              "      display: none;\n",
              "      fill: #1967D2;\n",
              "      height: 32px;\n",
              "      padding: 0 0 0 0;\n",
              "      width: 32px;\n",
              "    }\n",
              "\n",
              "    .colab-df-convert:hover {\n",
              "      background-color: #E2EBFA;\n",
              "      box-shadow: 0px 1px 2px rgba(60, 64, 67, 0.3), 0px 1px 3px 1px rgba(60, 64, 67, 0.15);\n",
              "      fill: #174EA6;\n",
              "    }\n",
              "\n",
              "    [theme=dark] .colab-df-convert {\n",
              "      background-color: #3B4455;\n",
              "      fill: #D2E3FC;\n",
              "    }\n",
              "\n",
              "    [theme=dark] .colab-df-convert:hover {\n",
              "      background-color: #434B5C;\n",
              "      box-shadow: 0px 1px 3px 1px rgba(0, 0, 0, 0.15);\n",
              "      filter: drop-shadow(0px 1px 2px rgba(0, 0, 0, 0.3));\n",
              "      fill: #FFFFFF;\n",
              "    }\n",
              "  </style>\n",
              "\n",
              "      <script>\n",
              "        const buttonEl =\n",
              "          document.querySelector('#df-9d97a96f-a055-4de9-823b-08eb98a49d58 button.colab-df-convert');\n",
              "        buttonEl.style.display =\n",
              "          google.colab.kernel.accessAllowed ? 'block' : 'none';\n",
              "\n",
              "        async function convertToInteractive(key) {\n",
              "          const element = document.querySelector('#df-9d97a96f-a055-4de9-823b-08eb98a49d58');\n",
              "          const dataTable =\n",
              "            await google.colab.kernel.invokeFunction('convertToInteractive',\n",
              "                                                     [key], {});\n",
              "          if (!dataTable) return;\n",
              "\n",
              "          const docLinkHtml = 'Like what you see? Visit the ' +\n",
              "            '<a target=\"_blank\" href=https://colab.research.google.com/notebooks/data_table.ipynb>data table notebook</a>'\n",
              "            + ' to learn more about interactive tables.';\n",
              "          element.innerHTML = '';\n",
              "          dataTable['output_type'] = 'display_data';\n",
              "          await google.colab.output.renderOutput(dataTable, element);\n",
              "          const docLink = document.createElement('div');\n",
              "          docLink.innerHTML = docLinkHtml;\n",
              "          element.appendChild(docLink);\n",
              "        }\n",
              "      </script>\n",
              "    </div>\n",
              "  </div>\n",
              "  "
            ]
          },
          "metadata": {},
          "execution_count": 14
        }
      ]
    },
    {
      "cell_type": "code",
      "source": [
        "df[df['Price']<min_limit]"
      ],
      "metadata": {
        "colab": {
          "base_uri": "https://localhost:8080/",
          "height": 49
        },
        "id": "OAHRzODiqrtY",
        "outputId": "59f62c1e-e8a5-4dce-b926-57538b163574"
      },
      "execution_count": 15,
      "outputs": [
        {
          "output_type": "execute_result",
          "data": {
            "text/plain": [
              "Empty DataFrame\n",
              "Columns: [Price, Mileage, Make, Model, Trim, Type, Cylinder, Liter, Doors, Cruise, Sound, Leather]\n",
              "Index: []"
            ],
            "text/html": [
              "\n",
              "  <div id=\"df-7d99d864-4ee5-4fd0-ba5e-af66ee25b6a0\">\n",
              "    <div class=\"colab-df-container\">\n",
              "      <div>\n",
              "<style scoped>\n",
              "    .dataframe tbody tr th:only-of-type {\n",
              "        vertical-align: middle;\n",
              "    }\n",
              "\n",
              "    .dataframe tbody tr th {\n",
              "        vertical-align: top;\n",
              "    }\n",
              "\n",
              "    .dataframe thead th {\n",
              "        text-align: right;\n",
              "    }\n",
              "</style>\n",
              "<table border=\"1\" class=\"dataframe\">\n",
              "  <thead>\n",
              "    <tr style=\"text-align: right;\">\n",
              "      <th></th>\n",
              "      <th>Price</th>\n",
              "      <th>Mileage</th>\n",
              "      <th>Make</th>\n",
              "      <th>Model</th>\n",
              "      <th>Trim</th>\n",
              "      <th>Type</th>\n",
              "      <th>Cylinder</th>\n",
              "      <th>Liter</th>\n",
              "      <th>Doors</th>\n",
              "      <th>Cruise</th>\n",
              "      <th>Sound</th>\n",
              "      <th>Leather</th>\n",
              "    </tr>\n",
              "  </thead>\n",
              "  <tbody>\n",
              "  </tbody>\n",
              "</table>\n",
              "</div>\n",
              "      <button class=\"colab-df-convert\" onclick=\"convertToInteractive('df-7d99d864-4ee5-4fd0-ba5e-af66ee25b6a0')\"\n",
              "              title=\"Convert this dataframe to an interactive table.\"\n",
              "              style=\"display:none;\">\n",
              "        \n",
              "  <svg xmlns=\"http://www.w3.org/2000/svg\" height=\"24px\"viewBox=\"0 0 24 24\"\n",
              "       width=\"24px\">\n",
              "    <path d=\"M0 0h24v24H0V0z\" fill=\"none\"/>\n",
              "    <path d=\"M18.56 5.44l.94 2.06.94-2.06 2.06-.94-2.06-.94-.94-2.06-.94 2.06-2.06.94zm-11 1L8.5 8.5l.94-2.06 2.06-.94-2.06-.94L8.5 2.5l-.94 2.06-2.06.94zm10 10l.94 2.06.94-2.06 2.06-.94-2.06-.94-.94-2.06-.94 2.06-2.06.94z\"/><path d=\"M17.41 7.96l-1.37-1.37c-.4-.4-.92-.59-1.43-.59-.52 0-1.04.2-1.43.59L10.3 9.45l-7.72 7.72c-.78.78-.78 2.05 0 2.83L4 21.41c.39.39.9.59 1.41.59.51 0 1.02-.2 1.41-.59l7.78-7.78 2.81-2.81c.8-.78.8-2.07 0-2.86zM5.41 20L4 18.59l7.72-7.72 1.47 1.35L5.41 20z\"/>\n",
              "  </svg>\n",
              "      </button>\n",
              "      \n",
              "  <style>\n",
              "    .colab-df-container {\n",
              "      display:flex;\n",
              "      flex-wrap:wrap;\n",
              "      gap: 12px;\n",
              "    }\n",
              "\n",
              "    .colab-df-convert {\n",
              "      background-color: #E8F0FE;\n",
              "      border: none;\n",
              "      border-radius: 50%;\n",
              "      cursor: pointer;\n",
              "      display: none;\n",
              "      fill: #1967D2;\n",
              "      height: 32px;\n",
              "      padding: 0 0 0 0;\n",
              "      width: 32px;\n",
              "    }\n",
              "\n",
              "    .colab-df-convert:hover {\n",
              "      background-color: #E2EBFA;\n",
              "      box-shadow: 0px 1px 2px rgba(60, 64, 67, 0.3), 0px 1px 3px 1px rgba(60, 64, 67, 0.15);\n",
              "      fill: #174EA6;\n",
              "    }\n",
              "\n",
              "    [theme=dark] .colab-df-convert {\n",
              "      background-color: #3B4455;\n",
              "      fill: #D2E3FC;\n",
              "    }\n",
              "\n",
              "    [theme=dark] .colab-df-convert:hover {\n",
              "      background-color: #434B5C;\n",
              "      box-shadow: 0px 1px 3px 1px rgba(0, 0, 0, 0.15);\n",
              "      filter: drop-shadow(0px 1px 2px rgba(0, 0, 0, 0.3));\n",
              "      fill: #FFFFFF;\n",
              "    }\n",
              "  </style>\n",
              "\n",
              "      <script>\n",
              "        const buttonEl =\n",
              "          document.querySelector('#df-7d99d864-4ee5-4fd0-ba5e-af66ee25b6a0 button.colab-df-convert');\n",
              "        buttonEl.style.display =\n",
              "          google.colab.kernel.accessAllowed ? 'block' : 'none';\n",
              "\n",
              "        async function convertToInteractive(key) {\n",
              "          const element = document.querySelector('#df-7d99d864-4ee5-4fd0-ba5e-af66ee25b6a0');\n",
              "          const dataTable =\n",
              "            await google.colab.kernel.invokeFunction('convertToInteractive',\n",
              "                                                     [key], {});\n",
              "          if (!dataTable) return;\n",
              "\n",
              "          const docLinkHtml = 'Like what you see? Visit the ' +\n",
              "            '<a target=\"_blank\" href=https://colab.research.google.com/notebooks/data_table.ipynb>data table notebook</a>'\n",
              "            + ' to learn more about interactive tables.';\n",
              "          element.innerHTML = '';\n",
              "          dataTable['output_type'] = 'display_data';\n",
              "          await google.colab.output.renderOutput(dataTable, element);\n",
              "          const docLink = document.createElement('div');\n",
              "          docLink.innerHTML = docLinkHtml;\n",
              "          element.appendChild(docLink);\n",
              "        }\n",
              "      </script>\n",
              "    </div>\n",
              "  </div>\n",
              "  "
            ]
          },
          "metadata": {},
          "execution_count": 15
        }
      ]
    },
    {
      "cell_type": "code",
      "source": [
        "outlier_removed=df[(df['Price']>min_limit)&(df['Price']<max_limit)]\n",
        "outlier_removed"
      ],
      "metadata": {
        "colab": {
          "base_uri": "https://localhost:8080/",
          "height": 424
        },
        "id": "c3gcYOe_q0fp",
        "outputId": "69edf4fe-a024-4fbb-93d7-6ba793c808ac"
      },
      "execution_count": 16,
      "outputs": [
        {
          "output_type": "execute_result",
          "data": {
            "text/plain": [
              "            Price  Mileage    Make     Model           Trim   Type  Cylinder  \\\n",
              "0    17314.103129     8221   Buick   Century       Sedan 4D  Sedan         6   \n",
              "1    17542.036083     9135   Buick   Century       Sedan 4D  Sedan         6   \n",
              "2    16218.847862    13196   Buick   Century       Sedan 4D  Sedan         6   \n",
              "3    16336.913140    16342   Buick   Century       Sedan 4D  Sedan         6   \n",
              "4    16339.170324    19832   Buick   Century       Sedan 4D  Sedan         6   \n",
              "..            ...      ...     ...       ...            ...    ...       ...   \n",
              "799  16507.070267    16229  Saturn  L Series  L300 Sedan 4D  Sedan         6   \n",
              "800  16175.957604    19095  Saturn  L Series  L300 Sedan 4D  Sedan         6   \n",
              "801  15731.132897    20484  Saturn  L Series  L300 Sedan 4D  Sedan         6   \n",
              "802  15118.893228    25979  Saturn  L Series  L300 Sedan 4D  Sedan         6   \n",
              "803  13585.636802    35662  Saturn  L Series  L300 Sedan 4D  Sedan         6   \n",
              "\n",
              "     Liter  Doors  Cruise  Sound  Leather  \n",
              "0      3.1      4       1      1        1  \n",
              "1      3.1      4       1      1        0  \n",
              "2      3.1      4       1      1        0  \n",
              "3      3.1      4       1      0        0  \n",
              "4      3.1      4       1      0        1  \n",
              "..     ...    ...     ...    ...      ...  \n",
              "799    3.0      4       1      0        0  \n",
              "800    3.0      4       1      1        0  \n",
              "801    3.0      4       1      1        0  \n",
              "802    3.0      4       1      1        0  \n",
              "803    3.0      4       1      0        0  \n",
              "\n",
              "[787 rows x 12 columns]"
            ],
            "text/html": [
              "\n",
              "  <div id=\"df-ddfaf882-7aef-4f1f-85ad-a583b27ef28c\">\n",
              "    <div class=\"colab-df-container\">\n",
              "      <div>\n",
              "<style scoped>\n",
              "    .dataframe tbody tr th:only-of-type {\n",
              "        vertical-align: middle;\n",
              "    }\n",
              "\n",
              "    .dataframe tbody tr th {\n",
              "        vertical-align: top;\n",
              "    }\n",
              "\n",
              "    .dataframe thead th {\n",
              "        text-align: right;\n",
              "    }\n",
              "</style>\n",
              "<table border=\"1\" class=\"dataframe\">\n",
              "  <thead>\n",
              "    <tr style=\"text-align: right;\">\n",
              "      <th></th>\n",
              "      <th>Price</th>\n",
              "      <th>Mileage</th>\n",
              "      <th>Make</th>\n",
              "      <th>Model</th>\n",
              "      <th>Trim</th>\n",
              "      <th>Type</th>\n",
              "      <th>Cylinder</th>\n",
              "      <th>Liter</th>\n",
              "      <th>Doors</th>\n",
              "      <th>Cruise</th>\n",
              "      <th>Sound</th>\n",
              "      <th>Leather</th>\n",
              "    </tr>\n",
              "  </thead>\n",
              "  <tbody>\n",
              "    <tr>\n",
              "      <th>0</th>\n",
              "      <td>17314.103129</td>\n",
              "      <td>8221</td>\n",
              "      <td>Buick</td>\n",
              "      <td>Century</td>\n",
              "      <td>Sedan 4D</td>\n",
              "      <td>Sedan</td>\n",
              "      <td>6</td>\n",
              "      <td>3.1</td>\n",
              "      <td>4</td>\n",
              "      <td>1</td>\n",
              "      <td>1</td>\n",
              "      <td>1</td>\n",
              "    </tr>\n",
              "    <tr>\n",
              "      <th>1</th>\n",
              "      <td>17542.036083</td>\n",
              "      <td>9135</td>\n",
              "      <td>Buick</td>\n",
              "      <td>Century</td>\n",
              "      <td>Sedan 4D</td>\n",
              "      <td>Sedan</td>\n",
              "      <td>6</td>\n",
              "      <td>3.1</td>\n",
              "      <td>4</td>\n",
              "      <td>1</td>\n",
              "      <td>1</td>\n",
              "      <td>0</td>\n",
              "    </tr>\n",
              "    <tr>\n",
              "      <th>2</th>\n",
              "      <td>16218.847862</td>\n",
              "      <td>13196</td>\n",
              "      <td>Buick</td>\n",
              "      <td>Century</td>\n",
              "      <td>Sedan 4D</td>\n",
              "      <td>Sedan</td>\n",
              "      <td>6</td>\n",
              "      <td>3.1</td>\n",
              "      <td>4</td>\n",
              "      <td>1</td>\n",
              "      <td>1</td>\n",
              "      <td>0</td>\n",
              "    </tr>\n",
              "    <tr>\n",
              "      <th>3</th>\n",
              "      <td>16336.913140</td>\n",
              "      <td>16342</td>\n",
              "      <td>Buick</td>\n",
              "      <td>Century</td>\n",
              "      <td>Sedan 4D</td>\n",
              "      <td>Sedan</td>\n",
              "      <td>6</td>\n",
              "      <td>3.1</td>\n",
              "      <td>4</td>\n",
              "      <td>1</td>\n",
              "      <td>0</td>\n",
              "      <td>0</td>\n",
              "    </tr>\n",
              "    <tr>\n",
              "      <th>4</th>\n",
              "      <td>16339.170324</td>\n",
              "      <td>19832</td>\n",
              "      <td>Buick</td>\n",
              "      <td>Century</td>\n",
              "      <td>Sedan 4D</td>\n",
              "      <td>Sedan</td>\n",
              "      <td>6</td>\n",
              "      <td>3.1</td>\n",
              "      <td>4</td>\n",
              "      <td>1</td>\n",
              "      <td>0</td>\n",
              "      <td>1</td>\n",
              "    </tr>\n",
              "    <tr>\n",
              "      <th>...</th>\n",
              "      <td>...</td>\n",
              "      <td>...</td>\n",
              "      <td>...</td>\n",
              "      <td>...</td>\n",
              "      <td>...</td>\n",
              "      <td>...</td>\n",
              "      <td>...</td>\n",
              "      <td>...</td>\n",
              "      <td>...</td>\n",
              "      <td>...</td>\n",
              "      <td>...</td>\n",
              "      <td>...</td>\n",
              "    </tr>\n",
              "    <tr>\n",
              "      <th>799</th>\n",
              "      <td>16507.070267</td>\n",
              "      <td>16229</td>\n",
              "      <td>Saturn</td>\n",
              "      <td>L Series</td>\n",
              "      <td>L300 Sedan 4D</td>\n",
              "      <td>Sedan</td>\n",
              "      <td>6</td>\n",
              "      <td>3.0</td>\n",
              "      <td>4</td>\n",
              "      <td>1</td>\n",
              "      <td>0</td>\n",
              "      <td>0</td>\n",
              "    </tr>\n",
              "    <tr>\n",
              "      <th>800</th>\n",
              "      <td>16175.957604</td>\n",
              "      <td>19095</td>\n",
              "      <td>Saturn</td>\n",
              "      <td>L Series</td>\n",
              "      <td>L300 Sedan 4D</td>\n",
              "      <td>Sedan</td>\n",
              "      <td>6</td>\n",
              "      <td>3.0</td>\n",
              "      <td>4</td>\n",
              "      <td>1</td>\n",
              "      <td>1</td>\n",
              "      <td>0</td>\n",
              "    </tr>\n",
              "    <tr>\n",
              "      <th>801</th>\n",
              "      <td>15731.132897</td>\n",
              "      <td>20484</td>\n",
              "      <td>Saturn</td>\n",
              "      <td>L Series</td>\n",
              "      <td>L300 Sedan 4D</td>\n",
              "      <td>Sedan</td>\n",
              "      <td>6</td>\n",
              "      <td>3.0</td>\n",
              "      <td>4</td>\n",
              "      <td>1</td>\n",
              "      <td>1</td>\n",
              "      <td>0</td>\n",
              "    </tr>\n",
              "    <tr>\n",
              "      <th>802</th>\n",
              "      <td>15118.893228</td>\n",
              "      <td>25979</td>\n",
              "      <td>Saturn</td>\n",
              "      <td>L Series</td>\n",
              "      <td>L300 Sedan 4D</td>\n",
              "      <td>Sedan</td>\n",
              "      <td>6</td>\n",
              "      <td>3.0</td>\n",
              "      <td>4</td>\n",
              "      <td>1</td>\n",
              "      <td>1</td>\n",
              "      <td>0</td>\n",
              "    </tr>\n",
              "    <tr>\n",
              "      <th>803</th>\n",
              "      <td>13585.636802</td>\n",
              "      <td>35662</td>\n",
              "      <td>Saturn</td>\n",
              "      <td>L Series</td>\n",
              "      <td>L300 Sedan 4D</td>\n",
              "      <td>Sedan</td>\n",
              "      <td>6</td>\n",
              "      <td>3.0</td>\n",
              "      <td>4</td>\n",
              "      <td>1</td>\n",
              "      <td>0</td>\n",
              "      <td>0</td>\n",
              "    </tr>\n",
              "  </tbody>\n",
              "</table>\n",
              "<p>787 rows × 12 columns</p>\n",
              "</div>\n",
              "      <button class=\"colab-df-convert\" onclick=\"convertToInteractive('df-ddfaf882-7aef-4f1f-85ad-a583b27ef28c')\"\n",
              "              title=\"Convert this dataframe to an interactive table.\"\n",
              "              style=\"display:none;\">\n",
              "        \n",
              "  <svg xmlns=\"http://www.w3.org/2000/svg\" height=\"24px\"viewBox=\"0 0 24 24\"\n",
              "       width=\"24px\">\n",
              "    <path d=\"M0 0h24v24H0V0z\" fill=\"none\"/>\n",
              "    <path d=\"M18.56 5.44l.94 2.06.94-2.06 2.06-.94-2.06-.94-.94-2.06-.94 2.06-2.06.94zm-11 1L8.5 8.5l.94-2.06 2.06-.94-2.06-.94L8.5 2.5l-.94 2.06-2.06.94zm10 10l.94 2.06.94-2.06 2.06-.94-2.06-.94-.94-2.06-.94 2.06-2.06.94z\"/><path d=\"M17.41 7.96l-1.37-1.37c-.4-.4-.92-.59-1.43-.59-.52 0-1.04.2-1.43.59L10.3 9.45l-7.72 7.72c-.78.78-.78 2.05 0 2.83L4 21.41c.39.39.9.59 1.41.59.51 0 1.02-.2 1.41-.59l7.78-7.78 2.81-2.81c.8-.78.8-2.07 0-2.86zM5.41 20L4 18.59l7.72-7.72 1.47 1.35L5.41 20z\"/>\n",
              "  </svg>\n",
              "      </button>\n",
              "      \n",
              "  <style>\n",
              "    .colab-df-container {\n",
              "      display:flex;\n",
              "      flex-wrap:wrap;\n",
              "      gap: 12px;\n",
              "    }\n",
              "\n",
              "    .colab-df-convert {\n",
              "      background-color: #E8F0FE;\n",
              "      border: none;\n",
              "      border-radius: 50%;\n",
              "      cursor: pointer;\n",
              "      display: none;\n",
              "      fill: #1967D2;\n",
              "      height: 32px;\n",
              "      padding: 0 0 0 0;\n",
              "      width: 32px;\n",
              "    }\n",
              "\n",
              "    .colab-df-convert:hover {\n",
              "      background-color: #E2EBFA;\n",
              "      box-shadow: 0px 1px 2px rgba(60, 64, 67, 0.3), 0px 1px 3px 1px rgba(60, 64, 67, 0.15);\n",
              "      fill: #174EA6;\n",
              "    }\n",
              "\n",
              "    [theme=dark] .colab-df-convert {\n",
              "      background-color: #3B4455;\n",
              "      fill: #D2E3FC;\n",
              "    }\n",
              "\n",
              "    [theme=dark] .colab-df-convert:hover {\n",
              "      background-color: #434B5C;\n",
              "      box-shadow: 0px 1px 3px 1px rgba(0, 0, 0, 0.15);\n",
              "      filter: drop-shadow(0px 1px 2px rgba(0, 0, 0, 0.3));\n",
              "      fill: #FFFFFF;\n",
              "    }\n",
              "  </style>\n",
              "\n",
              "      <script>\n",
              "        const buttonEl =\n",
              "          document.querySelector('#df-ddfaf882-7aef-4f1f-85ad-a583b27ef28c button.colab-df-convert');\n",
              "        buttonEl.style.display =\n",
              "          google.colab.kernel.accessAllowed ? 'block' : 'none';\n",
              "\n",
              "        async function convertToInteractive(key) {\n",
              "          const element = document.querySelector('#df-ddfaf882-7aef-4f1f-85ad-a583b27ef28c');\n",
              "          const dataTable =\n",
              "            await google.colab.kernel.invokeFunction('convertToInteractive',\n",
              "                                                     [key], {});\n",
              "          if (!dataTable) return;\n",
              "\n",
              "          const docLinkHtml = 'Like what you see? Visit the ' +\n",
              "            '<a target=\"_blank\" href=https://colab.research.google.com/notebooks/data_table.ipynb>data table notebook</a>'\n",
              "            + ' to learn more about interactive tables.';\n",
              "          element.innerHTML = '';\n",
              "          dataTable['output_type'] = 'display_data';\n",
              "          await google.colab.output.renderOutput(dataTable, element);\n",
              "          const docLink = document.createElement('div');\n",
              "          docLink.innerHTML = docLinkHtml;\n",
              "          element.appendChild(docLink);\n",
              "        }\n",
              "      </script>\n",
              "    </div>\n",
              "  </div>\n",
              "  "
            ]
          },
          "metadata": {},
          "execution_count": 16
        }
      ]
    },
    {
      "cell_type": "code",
      "source": [
        ""
      ],
      "metadata": {
        "id": "sqL2Hee2zmiB"
      },
      "execution_count": 16,
      "outputs": []
    },
    {
      "cell_type": "code",
      "source": [
        "df_1=outlier_removed.copy()"
      ],
      "metadata": {
        "id": "u4A0oSqvriLf"
      },
      "execution_count": 17,
      "outputs": []
    },
    {
      "cell_type": "code",
      "source": [
        "X = df_1.loc[:, ['Mileage']].values\n",
        "y = df_1.loc[:, ['Price']].values"
      ],
      "metadata": {
        "id": "2vHlm9NZEU_j"
      },
      "execution_count": 18,
      "outputs": []
    },
    {
      "cell_type": "code",
      "source": [
        "X.shape"
      ],
      "metadata": {
        "colab": {
          "base_uri": "https://localhost:8080/"
        },
        "id": "gtBfz7JUE29j",
        "outputId": "c806be8a-cce5-48e4-93b8-b9ae444fdea0"
      },
      "execution_count": 19,
      "outputs": [
        {
          "output_type": "execute_result",
          "data": {
            "text/plain": [
              "(787, 1)"
            ]
          },
          "metadata": {},
          "execution_count": 19
        }
      ]
    },
    {
      "cell_type": "code",
      "source": [
        "y.shape"
      ],
      "metadata": {
        "colab": {
          "base_uri": "https://localhost:8080/"
        },
        "id": "wgGlh_JfG0d1",
        "outputId": "9c6a134f-34dd-4dfe-b9a5-08b008e107dd"
      },
      "execution_count": 20,
      "outputs": [
        {
          "output_type": "execute_result",
          "data": {
            "text/plain": [
              "(787, 1)"
            ]
          },
          "metadata": {},
          "execution_count": 20
        }
      ]
    },
    {
      "cell_type": "code",
      "source": [
        "from sklearn.model_selection import train_test_split\n",
        "X_train,X_test,y_train,y_test=train_test_split(X, y, test_size=0.3)"
      ],
      "metadata": {
        "id": "ox009zOnHZkL"
      },
      "execution_count": 21,
      "outputs": []
    },
    {
      "cell_type": "code",
      "source": [
        "model=linear_model.LinearRegression()\n",
        "model\n",
        "model.fit(X_train,y_train)"
      ],
      "metadata": {
        "colab": {
          "base_uri": "https://localhost:8080/"
        },
        "id": "Vopc3MVzLP19",
        "outputId": "99bdf897-f744-4f33-c406-cf3a4d2819f5"
      },
      "execution_count": 22,
      "outputs": [
        {
          "output_type": "execute_result",
          "data": {
            "text/plain": [
              "LinearRegression()"
            ]
          },
          "metadata": {},
          "execution_count": 22
        }
      ]
    },
    {
      "cell_type": "code",
      "source": [
        "model.predict((X_test))\n",
        "y_pred=model.predict((X_test))\n"
      ],
      "metadata": {
        "id": "v31CC2DgL4bh"
      },
      "execution_count": 23,
      "outputs": []
    },
    {
      "cell_type": "code",
      "source": [
        "model.coef_"
      ],
      "metadata": {
        "colab": {
          "base_uri": "https://localhost:8080/"
        },
        "id": "bmebZUDPM2fy",
        "outputId": "1d0cc20a-b89a-4ae6-a4a9-b0a5da83866a"
      },
      "execution_count": 24,
      "outputs": [
        {
          "output_type": "execute_result",
          "data": {
            "text/plain": [
              "array([[-0.1090818]])"
            ]
          },
          "metadata": {},
          "execution_count": 24
        }
      ]
    },
    {
      "cell_type": "code",
      "source": [
        "model.intercept_"
      ],
      "metadata": {
        "colab": {
          "base_uri": "https://localhost:8080/"
        },
        "id": "yESSe7ewM6lJ",
        "outputId": "51a734f6-3deb-4002-bf95-dae72325a944"
      },
      "execution_count": 25,
      "outputs": [
        {
          "output_type": "execute_result",
          "data": {
            "text/plain": [
              "array([23106.3440852])"
            ]
          },
          "metadata": {},
          "execution_count": 25
        }
      ]
    },
    {
      "cell_type": "code",
      "source": [
        "y=-0.20164387*(11000)+25206.12603343\n",
        "y"
      ],
      "metadata": {
        "colab": {
          "base_uri": "https://localhost:8080/"
        },
        "id": "1-xvcIZVNAPY",
        "outputId": "511f9d09-1baf-4904-94d8-43254766408c"
      },
      "execution_count": 26,
      "outputs": [
        {
          "output_type": "execute_result",
          "data": {
            "text/plain": [
              "22988.04346343"
            ]
          },
          "metadata": {},
          "execution_count": 26
        }
      ]
    },
    {
      "cell_type": "code",
      "source": [
        "y_predict=model.predict(X_test)\n",
        "y_predict"
      ],
      "metadata": {
        "colab": {
          "base_uri": "https://localhost:8080/"
        },
        "id": "zxgD5g0kRdIO",
        "outputId": "48b01091-ef0d-4ca5-8849-4231d3c8d6f0"
      },
      "execution_count": 27,
      "outputs": [
        {
          "output_type": "execute_result",
          "data": {
            "text/plain": [
              "array([[20453.69287295],\n",
              "       [21763.11080007],\n",
              "       [20581.86398794],\n",
              "       [21022.88170532],\n",
              "       [20907.47316092],\n",
              "       [22854.58329081],\n",
              "       [20741.99607033],\n",
              "       [23077.3283264 ],\n",
              "       [23010.24301941],\n",
              "       [17610.03942891],\n",
              "       [19677.24862059],\n",
              "       [20944.56097292],\n",
              "       [20770.03009293],\n",
              "       [22403.09372064],\n",
              "       [20664.87523774],\n",
              "       [21444.70102589],\n",
              "       [20308.28683356],\n",
              "       [21351.4360869 ],\n",
              "       [20443.11193835],\n",
              "       [22979.80919721],\n",
              "       [20299.99661676],\n",
              "       [21214.53842791],\n",
              "       [21475.78933889],\n",
              "       [19171.32723222],\n",
              "       [22014.32618546],\n",
              "       [20118.15725617],\n",
              "       [20215.34913996],\n",
              "       [20356.17374375],\n",
              "       [22260.41472625],\n",
              "       [20113.35765697],\n",
              "       [20957.54170712],\n",
              "       [19902.82978298],\n",
              "       [20234.43845496],\n",
              "       [20622.44241754],\n",
              "       [22209.58260745],\n",
              "       [21978.65643686],\n",
              "       [21070.76861551],\n",
              "       [22028.39773766],\n",
              "       [18866.77084664],\n",
              "       [21180.39582451],\n",
              "       [20481.07240475],\n",
              "       [20609.35260154],\n",
              "       [21178.54143391],\n",
              "       [20214.47648556],\n",
              "       [21545.27444549],\n",
              "       [20495.90752955],\n",
              "       [21846.01296807],\n",
              "       [21751.54812928],\n",
              "       [21084.73108591],\n",
              "       [22782.04389382],\n",
              "       [18846.80887724],\n",
              "       [20660.40288394],\n",
              "       [20062.30737457],\n",
              "       [22312.44674484],\n",
              "       [21256.5349209 ],\n",
              "       [21697.00722928],\n",
              "       [21304.2036675 ],\n",
              "       [20769.04835673],\n",
              "       [18572.24998665],\n",
              "       [21597.96095488],\n",
              "       [22485.66864323],\n",
              "       [20982.84868472],\n",
              "       [21952.58588666],\n",
              "       [22474.97862683],\n",
              "       [22779.97133962],\n",
              "       [20823.80742033],\n",
              "       [20777.44765533],\n",
              "       [20940.74310992],\n",
              "       [21278.7876081 ],\n",
              "       [22178.38521265],\n",
              "       [20825.77089273],\n",
              "       [21202.75759351],\n",
              "       [20058.59859337],\n",
              "       [20357.59180715],\n",
              "       [20013.43872817],\n",
              "       [21573.30846809],\n",
              "       [20100.26784097],\n",
              "       [20329.88502995],\n",
              "       [21114.83766271],\n",
              "       [20946.52444532],\n",
              "       [20704.25376753],\n",
              "       [21539.60219189],\n",
              "       [20504.52499174],\n",
              "       [19834.76273978],\n",
              "       [21257.2984935 ],\n",
              "       [21713.15133568],\n",
              "       [21701.58866488],\n",
              "       [20226.58456536],\n",
              "       [20909.76387872],\n",
              "       [22522.75645523],\n",
              "       [20133.97411717],\n",
              "       [20424.78619595],\n",
              "       [21043.60724731],\n",
              "       [21784.81807827],\n",
              "       [21215.1929187 ],\n",
              "       [20135.93758957],\n",
              "       [21614.32322488],\n",
              "       [22083.15680126],\n",
              "       [20813.44464933],\n",
              "       [20935.83442892],\n",
              "       [20850.31429773],\n",
              "       [20266.50850416],\n",
              "       [19117.65898662],\n",
              "       [20266.50850416],\n",
              "       [20284.50700116],\n",
              "       [19565.767021  ],\n",
              "       [20775.59326473],\n",
              "       [21835.86836067],\n",
              "       [20665.09340134],\n",
              "       [20371.77244115],\n",
              "       [20076.48800857],\n",
              "       [20769.70284753],\n",
              "       [20407.87851695],\n",
              "       [20913.47265992],\n",
              "       [22944.90302121],\n",
              "       [21132.39983251],\n",
              "       [21092.25773011],\n",
              "       [22011.59914046],\n",
              "       [20979.24898532],\n",
              "       [21198.72156691],\n",
              "       [19401.70799381],\n",
              "       [22439.41796004],\n",
              "       [18883.02403483],\n",
              "       [22290.84854845],\n",
              "       [23004.67984761],\n",
              "       [20833.51570053],\n",
              "       [22335.68116824],\n",
              "       [20108.33989417],\n",
              "       [20642.18622334],\n",
              "       [20969.10437792],\n",
              "       [21787.54512327],\n",
              "       [20907.69132452],\n",
              "       [22158.75048865],\n",
              "       [22427.41896204],\n",
              "       [20719.96154673],\n",
              "       [21171.12387151],\n",
              "       [21510.47735129],\n",
              "       [21174.39632551],\n",
              "       [20641.53173254],\n",
              "       [21386.3422629 ],\n",
              "       [20617.75190014],\n",
              "       [20995.93850072],\n",
              "       [22598.89555163],\n",
              "       [20007.54831097],\n",
              "       [19563.6944668 ],\n",
              "       [20829.80691933],\n",
              "       [21666.90065248],\n",
              "       [21256.7530845 ],\n",
              "       [20487.50823095],\n",
              "       [19325.02348841],\n",
              "       [20514.01510834],\n",
              "       [21187.15889611],\n",
              "       [21043.60724731],\n",
              "       [20355.51925295],\n",
              "       [21638.43030268],\n",
              "       [19824.94537778],\n",
              "       [20584.26378754],\n",
              "       [20923.07185832],\n",
              "       [20287.12496436],\n",
              "       [20725.96104573],\n",
              "       [21498.15110789],\n",
              "       [19845.78000158],\n",
              "       [22063.41299546],\n",
              "       [20609.57076514],\n",
              "       [20314.06816896],\n",
              "       [21254.6805303 ],\n",
              "       [20246.00112576],\n",
              "       [20415.95057015],\n",
              "       [18748.96250264],\n",
              "       [21512.33174189],\n",
              "       [20285.27057376],\n",
              "       [20383.66235735],\n",
              "       [22015.19883986],\n",
              "       [19407.81657461],\n",
              "       [20967.03182372],\n",
              "       [21203.41208431],\n",
              "       [20462.31033515],\n",
              "       [19922.57358878],\n",
              "       [20374.93581335],\n",
              "       [20486.09016755],\n",
              "       [20010.05719237],\n",
              "       [19557.3677224 ],\n",
              "       [20653.74889414],\n",
              "       [20575.20999814],\n",
              "       [22688.77895482],\n",
              "       [20510.41540894],\n",
              "       [20621.56976314],\n",
              "       [19977.55081597],\n",
              "       [22594.20503423],\n",
              "       [21236.9001969 ],\n",
              "       [19516.0257202 ],\n",
              "       [20529.72288754],\n",
              "       [20969.21345972],\n",
              "       [21087.13088551],\n",
              "       [19827.01793198],\n",
              "       [22446.61735884],\n",
              "       [20866.89473132],\n",
              "       [21915.71623827],\n",
              "       [20710.25326653],\n",
              "       [22272.41372425],\n",
              "       [21056.69706331],\n",
              "       [20943.03382772],\n",
              "       [21009.24648032],\n",
              "       [20772.64805613],\n",
              "       [20355.73741655],\n",
              "       [20530.70462374],\n",
              "       [21838.92265107],\n",
              "       [21120.40083451],\n",
              "       [19801.49279078],\n",
              "       [20974.99479512],\n",
              "       [20676.87423573],\n",
              "       [21217.1563911 ],\n",
              "       [19409.34371981],\n",
              "       [22299.46601064],\n",
              "       [20137.35565296],\n",
              "       [20240.54703576],\n",
              "       [20753.77690473],\n",
              "       [22266.95963425],\n",
              "       [20155.57231356],\n",
              "       [20944.77913652],\n",
              "       [21493.24242689],\n",
              "       [20759.77640373],\n",
              "       [20991.68431052],\n",
              "       [19565.3306938 ],\n",
              "       [19638.52458159],\n",
              "       [20325.95808515],\n",
              "       [20283.96159216],\n",
              "       [20429.25854975],\n",
              "       [22845.42041961],\n",
              "       [19703.31917079],\n",
              "       [20638.25927854],\n",
              "       [20761.95803973],\n",
              "       [20972.48591372],\n",
              "       [20490.99884855],\n",
              "       [22978.82746101],\n",
              "       [19523.6614462 ],\n",
              "       [22332.84504144]])"
            ]
          },
          "metadata": {},
          "execution_count": 27
        }
      ]
    },
    {
      "cell_type": "code",
      "source": [
        "%matplotlib inline\n",
        "plt.xlabel('Mileage')\n",
        "plt.ylabel('Price')\n",
        "plt.scatter(df.Mileage,df.Price,color='green',marker='*')\n",
        "plt.plot(X_test,y_predict)\n",
        "plt.title('Mileage VS Price')\n"
      ],
      "metadata": {
        "colab": {
          "base_uri": "https://localhost:8080/",
          "height": 312
        },
        "id": "v7rEKSseWOza",
        "outputId": "89c38c38-aa8f-471f-e096-8fbe006e2a70"
      },
      "execution_count": 28,
      "outputs": [
        {
          "output_type": "execute_result",
          "data": {
            "text/plain": [
              "Text(0.5, 1.0, 'Mileage VS Price')"
            ]
          },
          "metadata": {},
          "execution_count": 28
        },
        {
          "output_type": "display_data",
          "data": {
            "text/plain": [
              "<Figure size 432x288 with 1 Axes>"
            ],
            "image/png": "[encoded data removed]"
          },
          "metadata": {
            "needs_background": "light"
          }
        }
      ]
    },
    {
      "cell_type": "code",
      "metadata": {
        "colab": {
          "base_uri": "https://localhost:8080/"
        },
        "id": "clYLCNQKotVt",
        "outputId": "da11f27f-6b0b-44c9-e7b8-a96afde80195"
      },
      "source": [
        "from sklearn import metrics \n",
        "print('R2- SCORE:', metrics.r2_score(y_test,y_predict))"
      ],
      "execution_count": 29,
      "outputs": [
        {
          "output_type": "stream",
          "name": "stdout",
          "text": [
            "R2- SCORE: -0.011684221176733622\n"
          ]
        }
      ]
    },
    {
      "cell_type": "code",
      "source": [
        "df"
      ],
      "metadata": {
        "colab": {
          "base_uri": "https://localhost:8080/",
          "height": 424
        },
        "id": "3PcU9rZhsJ2x",
        "outputId": "ea9bb351-4bed-4fc0-8157-f693862da1f3"
      },
      "execution_count": 30,
      "outputs": [
        {
          "output_type": "execute_result",
          "data": {
            "text/plain": [
              "            Price  Mileage    Make     Model           Trim   Type  Cylinder  \\\n",
              "0    17314.103129     8221   Buick   Century       Sedan 4D  Sedan         6   \n",
              "1    17542.036083     9135   Buick   Century       Sedan 4D  Sedan         6   \n",
              "2    16218.847862    13196   Buick   Century       Sedan 4D  Sedan         6   \n",
              "3    16336.913140    16342   Buick   Century       Sedan 4D  Sedan         6   \n",
              "4    16339.170324    19832   Buick   Century       Sedan 4D  Sedan         6   \n",
              "..            ...      ...     ...       ...            ...    ...       ...   \n",
              "799  16507.070267    16229  Saturn  L Series  L300 Sedan 4D  Sedan         6   \n",
              "800  16175.957604    19095  Saturn  L Series  L300 Sedan 4D  Sedan         6   \n",
              "801  15731.132897    20484  Saturn  L Series  L300 Sedan 4D  Sedan         6   \n",
              "802  15118.893228    25979  Saturn  L Series  L300 Sedan 4D  Sedan         6   \n",
              "803  13585.636802    35662  Saturn  L Series  L300 Sedan 4D  Sedan         6   \n",
              "\n",
              "     Liter  Doors  Cruise  Sound  Leather  \n",
              "0      3.1      4       1      1        1  \n",
              "1      3.1      4       1      1        0  \n",
              "2      3.1      4       1      1        0  \n",
              "3      3.1      4       1      0        0  \n",
              "4      3.1      4       1      0        1  \n",
              "..     ...    ...     ...    ...      ...  \n",
              "799    3.0      4       1      0        0  \n",
              "800    3.0      4       1      1        0  \n",
              "801    3.0      4       1      1        0  \n",
              "802    3.0      4       1      1        0  \n",
              "803    3.0      4       1      0        0  \n",
              "\n",
              "[804 rows x 12 columns]"
            ],
            "text/html": [
              "\n",
              "  <div id=\"df-e904d72b-5e2c-4330-9bfe-2791f4c22b4d\">\n",
              "    <div class=\"colab-df-container\">\n",
              "      <div>\n",
              "<style scoped>\n",
              "    .dataframe tbody tr th:only-of-type {\n",
              "        vertical-align: middle;\n",
              "    }\n",
              "\n",
              "    .dataframe tbody tr th {\n",
              "        vertical-align: top;\n",
              "    }\n",
              "\n",
              "    .dataframe thead th {\n",
              "        text-align: right;\n",
              "    }\n",
              "</style>\n",
              "<table border=\"1\" class=\"dataframe\">\n",
              "  <thead>\n",
              "    <tr style=\"text-align: right;\">\n",
              "      <th></th>\n",
              "      <th>Price</th>\n",
              "      <th>Mileage</th>\n",
              "      <th>Make</th>\n",
              "      <th>Model</th>\n",
              "      <th>Trim</th>\n",
              "      <th>Type</th>\n",
              "      <th>Cylinder</th>\n",
              "      <th>Liter</th>\n",
              "      <th>Doors</th>\n",
              "      <th>Cruise</th>\n",
              "      <th>Sound</th>\n",
              "      <th>Leather</th>\n",
              "    </tr>\n",
              "  </thead>\n",
              "  <tbody>\n",
              "    <tr>\n",
              "      <th>0</th>\n",
              "      <td>17314.103129</td>\n",
              "      <td>8221</td>\n",
              "      <td>Buick</td>\n",
              "      <td>Century</td>\n",
              "      <td>Sedan 4D</td>\n",
              "      <td>Sedan</td>\n",
              "      <td>6</td>\n",
              "      <td>3.1</td>\n",
              "      <td>4</td>\n",
              "      <td>1</td>\n",
              "      <td>1</td>\n",
              "      <td>1</td>\n",
              "    </tr>\n",
              "    <tr>\n",
              "      <th>1</th>\n",
              "      <td>17542.036083</td>\n",
              "      <td>9135</td>\n",
              "      <td>Buick</td>\n",
              "      <td>Century</td>\n",
              "      <td>Sedan 4D</td>\n",
              "      <td>Sedan</td>\n",
              "      <td>6</td>\n",
              "      <td>3.1</td>\n",
              "      <td>4</td>\n",
              "      <td>1</td>\n",
              "      <td>1</td>\n",
              "      <td>0</td>\n",
              "    </tr>\n",
              "    <tr>\n",
              "      <th>2</th>\n",
              "      <td>16218.847862</td>\n",
              "      <td>13196</td>\n",
              "      <td>Buick</td>\n",
              "      <td>Century</td>\n",
              "      <td>Sedan 4D</td>\n",
              "      <td>Sedan</td>\n",
              "      <td>6</td>\n",
              "      <td>3.1</td>\n",
              "      <td>4</td>\n",
              "      <td>1</td>\n",
              "      <td>1</td>\n",
              "      <td>0</td>\n",
              "    </tr>\n",
              "    <tr>\n",
              "      <th>3</th>\n",
              "      <td>16336.913140</td>\n",
              "      <td>16342</td>\n",
              "      <td>Buick</td>\n",
              "      <td>Century</td>\n",
              "      <td>Sedan 4D</td>\n",
              "      <td>Sedan</td>\n",
              "      <td>6</td>\n",
              "      <td>3.1</td>\n",
              "      <td>4</td>\n",
              "      <td>1</td>\n",
              "      <td>0</td>\n",
              "      <td>0</td>\n",
              "    </tr>\n",
              "    <tr>\n",
              "      <th>4</th>\n",
              "      <td>16339.170324</td>\n",
              "      <td>19832</td>\n",
              "      <td>Buick</td>\n",
              "      <td>Century</td>\n",
              "      <td>Sedan 4D</td>\n",
              "      <td>Sedan</td>\n",
              "      <td>6</td>\n",
              "      <td>3.1</td>\n",
              "      <td>4</td>\n",
              "      <td>1</td>\n",
              "      <td>0</td>\n",
              "      <td>1</td>\n",
              "    </tr>\n",
              "    <tr>\n",
              "      <th>...</th>\n",
              "      <td>...</td>\n",
              "      <td>...</td>\n",
              "      <td>...</td>\n",
              "      <td>...</td>\n",
              "      <td>...</td>\n",
              "      <td>...</td>\n",
              "      <td>...</td>\n",
              "      <td>...</td>\n",
              "      <td>...</td>\n",
              "      <td>...</td>\n",
              "      <td>...</td>\n",
              "      <td>...</td>\n",
              "    </tr>\n",
              "    <tr>\n",
              "      <th>799</th>\n",
              "      <td>16507.070267</td>\n",
              "      <td>16229</td>\n",
              "      <td>Saturn</td>\n",
              "      <td>L Series</td>\n",
              "      <td>L300 Sedan 4D</td>\n",
              "      <td>Sedan</td>\n",
              "      <td>6</td>\n",
              "      <td>3.0</td>\n",
              "      <td>4</td>\n",
              "      <td>1</td>\n",
              "      <td>0</td>\n",
              "      <td>0</td>\n",
              "    </tr>\n",
              "    <tr>\n",
              "      <th>800</th>\n",
              "      <td>16175.957604</td>\n",
              "      <td>19095</td>\n",
              "      <td>Saturn</td>\n",
              "      <td>L Series</td>\n",
              "      <td>L300 Sedan 4D</td>\n",
              "      <td>Sedan</td>\n",
              "      <td>6</td>\n",
              "      <td>3.0</td>\n",
              "      <td>4</td>\n",
              "      <td>1</td>\n",
              "      <td>1</td>\n",
              "      <td>0</td>\n",
              "    </tr>\n",
              "    <tr>\n",
              "      <th>801</th>\n",
              "      <td>15731.132897</td>\n",
              "      <td>20484</td>\n",
              "      <td>Saturn</td>\n",
              "      <td>L Series</td>\n",
              "      <td>L300 Sedan 4D</td>\n",
              "      <td>Sedan</td>\n",
              "      <td>6</td>\n",
              "      <td>3.0</td>\n",
              "      <td>4</td>\n",
              "      <td>1</td>\n",
              "      <td>1</td>\n",
              "      <td>0</td>\n",
              "    </tr>\n",
              "    <tr>\n",
              "      <th>802</th>\n",
              "      <td>15118.893228</td>\n",
              "      <td>25979</td>\n",
              "      <td>Saturn</td>\n",
              "      <td>L Series</td>\n",
              "      <td>L300 Sedan 4D</td>\n",
              "      <td>Sedan</td>\n",
              "      <td>6</td>\n",
              "      <td>3.0</td>\n",
              "      <td>4</td>\n",
              "      <td>1</td>\n",
              "      <td>1</td>\n",
              "      <td>0</td>\n",
              "    </tr>\n",
              "    <tr>\n",
              "      <th>803</th>\n",
              "      <td>13585.636802</td>\n",
              "      <td>35662</td>\n",
              "      <td>Saturn</td>\n",
              "      <td>L Series</td>\n",
              "      <td>L300 Sedan 4D</td>\n",
              "      <td>Sedan</td>\n",
              "      <td>6</td>\n",
              "      <td>3.0</td>\n",
              "      <td>4</td>\n",
              "      <td>1</td>\n",
              "      <td>0</td>\n",
              "      <td>0</td>\n",
              "    </tr>\n",
              "  </tbody>\n",
              "</table>\n",
              "<p>804 rows × 12 columns</p>\n",
              "</div>\n",
              "      <button class=\"colab-df-convert\" onclick=\"convertToInteractive('df-e904d72b-5e2c-4330-9bfe-2791f4c22b4d')\"\n",
              "              title=\"Convert this dataframe to an interactive table.\"\n",
              "              style=\"display:none;\">\n",
              "        \n",
              "  <svg xmlns=\"http://www.w3.org/2000/svg\" height=\"24px\"viewBox=\"0 0 24 24\"\n",
              "       width=\"24px\">\n",
              "    <path d=\"M0 0h24v24H0V0z\" fill=\"none\"/>\n",
              "    <path d=\"M18.56 5.44l.94 2.06.94-2.06 2.06-.94-2.06-.94-.94-2.06-.94 2.06-2.06.94zm-11 1L8.5 8.5l.94-2.06 2.06-.94-2.06-.94L8.5 2.5l-.94 2.06-2.06.94zm10 10l.94 2.06.94-2.06 2.06-.94-2.06-.94-.94-2.06-.94 2.06-2.06.94z\"/><path d=\"M17.41 7.96l-1.37-1.37c-.4-.4-.92-.59-1.43-.59-.52 0-1.04.2-1.43.59L10.3 9.45l-7.72 7.72c-.78.78-.78 2.05 0 2.83L4 21.41c.39.39.9.59 1.41.59.51 0 1.02-.2 1.41-.59l7.78-7.78 2.81-2.81c.8-.78.8-2.07 0-2.86zM5.41 20L4 18.59l7.72-7.72 1.47 1.35L5.41 20z\"/>\n",
              "  </svg>\n",
              "      </button>\n",
              "      \n",
              "  <style>\n",
              "    .colab-df-container {\n",
              "      display:flex;\n",
              "      flex-wrap:wrap;\n",
              "      gap: 12px;\n",
              "    }\n",
              "\n",
              "    .colab-df-convert {\n",
              "      background-color: #E8F0FE;\n",
              "      border: none;\n",
              "      border-radius: 50%;\n",
              "      cursor: pointer;\n",
              "      display: none;\n",
              "      fill: #1967D2;\n",
              "      height: 32px;\n",
              "      padding: 0 0 0 0;\n",
              "      width: 32px;\n",
              "    }\n",
              "\n",
              "    .colab-df-convert:hover {\n",
              "      background-color: #E2EBFA;\n",
              "      box-shadow: 0px 1px 2px rgba(60, 64, 67, 0.3), 0px 1px 3px 1px rgba(60, 64, 67, 0.15);\n",
              "      fill: #174EA6;\n",
              "    }\n",
              "\n",
              "    [theme=dark] .colab-df-convert {\n",
              "      background-color: #3B4455;\n",
              "      fill: #D2E3FC;\n",
              "    }\n",
              "\n",
              "    [theme=dark] .colab-df-convert:hover {\n",
              "      background-color: #434B5C;\n",
              "      box-shadow: 0px 1px 3px 1px rgba(0, 0, 0, 0.15);\n",
              "      filter: drop-shadow(0px 1px 2px rgba(0, 0, 0, 0.3));\n",
              "      fill: #FFFFFF;\n",
              "    }\n",
              "  </style>\n",
              "\n",
              "      <script>\n",
              "        const buttonEl =\n",
              "          document.querySelector('#df-e904d72b-5e2c-4330-9bfe-2791f4c22b4d button.colab-df-convert');\n",
              "        buttonEl.style.display =\n",
              "          google.colab.kernel.accessAllowed ? 'block' : 'none';\n",
              "\n",
              "        async function convertToInteractive(key) {\n",
              "          const element = document.querySelector('#df-e904d72b-5e2c-4330-9bfe-2791f4c22b4d');\n",
              "          const dataTable =\n",
              "            await google.colab.kernel.invokeFunction('convertToInteractive',\n",
              "                                                     [key], {});\n",
              "          if (!dataTable) return;\n",
              "\n",
              "          const docLinkHtml = 'Like what you see? Visit the ' +\n",
              "            '<a target=\"_blank\" href=https://colab.research.google.com/notebooks/data_table.ipynb>data table notebook</a>'\n",
              "            + ' to learn more about interactive tables.';\n",
              "          element.innerHTML = '';\n",
              "          dataTable['output_type'] = 'display_data';\n",
              "          await google.colab.output.renderOutput(dataTable, element);\n",
              "          const docLink = document.createElement('div');\n",
              "          docLink.innerHTML = docLinkHtml;\n",
              "          element.appendChild(docLink);\n",
              "        }\n",
              "      </script>\n",
              "    </div>\n",
              "  </div>\n",
              "  "
            ]
          },
          "metadata": {},
          "execution_count": 30
        }
      ]
    },
    {
      "cell_type": "code",
      "source": [
        "cols=df.columns[:-1]\n",
        "cols"
      ],
      "metadata": {
        "colab": {
          "base_uri": "https://localhost:8080/"
        },
        "id": "ct0tIISrtI5D",
        "outputId": "863a9430-592e-452d-a55a-27d94d398ea4"
      },
      "execution_count": 31,
      "outputs": [
        {
          "output_type": "execute_result",
          "data": {
            "text/plain": [
              "Index(['Price', 'Mileage', 'Make', 'Model', 'Trim', 'Type', 'Cylinder',\n",
              "       'Liter', 'Doors', 'Cruise', 'Sound'],\n",
              "      dtype='object')"
            ]
          },
          "metadata": {},
          "execution_count": 31
        }
      ]
    },
    {
      "cell_type": "code",
      "source": [
        "df1=df[['Price','Mileage', 'Cylinder', 'Liter', 'Doors', 'Cruise', 'Sound', 'Leather']]\n",
        "df1"
      ],
      "metadata": {
        "colab": {
          "base_uri": "https://localhost:8080/",
          "height": 424
        },
        "id": "d6hRgjWJ6kEq",
        "outputId": "dd820e48-bd92-4c01-d7ea-0a224445bef6"
      },
      "execution_count": 32,
      "outputs": [
        {
          "output_type": "execute_result",
          "data": {
            "text/plain": [
              "            Price  Mileage  Cylinder  Liter  Doors  Cruise  Sound  Leather\n",
              "0    17314.103129     8221         6    3.1      4       1      1        1\n",
              "1    17542.036083     9135         6    3.1      4       1      1        0\n",
              "2    16218.847862    13196         6    3.1      4       1      1        0\n",
              "3    16336.913140    16342         6    3.1      4       1      0        0\n",
              "4    16339.170324    19832         6    3.1      4       1      0        1\n",
              "..            ...      ...       ...    ...    ...     ...    ...      ...\n",
              "799  16507.070267    16229         6    3.0      4       1      0        0\n",
              "800  16175.957604    19095         6    3.0      4       1      1        0\n",
              "801  15731.132897    20484         6    3.0      4       1      1        0\n",
              "802  15118.893228    25979         6    3.0      4       1      1        0\n",
              "803  13585.636802    35662         6    3.0      4       1      0        0\n",
              "\n",
              "[804 rows x 8 columns]"
            ],
            "text/html": [
              "\n",
              "  <div id=\"df-9c2aac86-7775-4b39-aeb5-ee4aae172d2e\">\n",
              "    <div class=\"colab-df-container\">\n",
              "      <div>\n",
              "<style scoped>\n",
              "    .dataframe tbody tr th:only-of-type {\n",
              "        vertical-align: middle;\n",
              "    }\n",
              "\n",
              "    .dataframe tbody tr th {\n",
              "        vertical-align: top;\n",
              "    }\n",
              "\n",
              "    .dataframe thead th {\n",
              "        text-align: right;\n",
              "    }\n",
              "</style>\n",
              "<table border=\"1\" class=\"dataframe\">\n",
              "  <thead>\n",
              "    <tr style=\"text-align: right;\">\n",
              "      <th></th>\n",
              "      <th>Price</th>\n",
              "      <th>Mileage</th>\n",
              "      <th>Cylinder</th>\n",
              "      <th>Liter</th>\n",
              "      <th>Doors</th>\n",
              "      <th>Cruise</th>\n",
              "      <th>Sound</th>\n",
              "      <th>Leather</th>\n",
              "    </tr>\n",
              "  </thead>\n",
              "  <tbody>\n",
              "    <tr>\n",
              "      <th>0</th>\n",
              "      <td>17314.103129</td>\n",
              "      <td>8221</td>\n",
              "      <td>6</td>\n",
              "      <td>3.1</td>\n",
              "      <td>4</td>\n",
              "      <td>1</td>\n",
              "      <td>1</td>\n",
              "      <td>1</td>\n",
              "    </tr>\n",
              "    <tr>\n",
              "      <th>1</th>\n",
              "      <td>17542.036083</td>\n",
              "      <td>9135</td>\n",
              "      <td>6</td>\n",
              "      <td>3.1</td>\n",
              "      <td>4</td>\n",
              "      <td>1</td>\n",
              "      <td>1</td>\n",
              "      <td>0</td>\n",
              "    </tr>\n",
              "    <tr>\n",
              "      <th>2</th>\n",
              "      <td>16218.847862</td>\n",
              "      <td>13196</td>\n",
              "      <td>6</td>\n",
              "      <td>3.1</td>\n",
              "      <td>4</td>\n",
              "      <td>1</td>\n",
              "      <td>1</td>\n",
              "      <td>0</td>\n",
              "    </tr>\n",
              "    <tr>\n",
              "      <th>3</th>\n",
              "      <td>16336.913140</td>\n",
              "      <td>16342</td>\n",
              "      <td>6</td>\n",
              "      <td>3.1</td>\n",
              "      <td>4</td>\n",
              "      <td>1</td>\n",
              "      <td>0</td>\n",
              "      <td>0</td>\n",
              "    </tr>\n",
              "    <tr>\n",
              "      <th>4</th>\n",
              "      <td>16339.170324</td>\n",
              "      <td>19832</td>\n",
              "      <td>6</td>\n",
              "      <td>3.1</td>\n",
              "      <td>4</td>\n",
              "      <td>1</td>\n",
              "      <td>0</td>\n",
              "      <td>1</td>\n",
              "    </tr>\n",
              "    <tr>\n",
              "      <th>...</th>\n",
              "      <td>...</td>\n",
              "      <td>...</td>\n",
              "      <td>...</td>\n",
              "      <td>...</td>\n",
              "      <td>...</td>\n",
              "      <td>...</td>\n",
              "      <td>...</td>\n",
              "      <td>...</td>\n",
              "    </tr>\n",
              "    <tr>\n",
              "      <th>799</th>\n",
              "      <td>16507.070267</td>\n",
              "      <td>16229</td>\n",
              "      <td>6</td>\n",
              "      <td>3.0</td>\n",
              "      <td>4</td>\n",
              "      <td>1</td>\n",
              "      <td>0</td>\n",
              "      <td>0</td>\n",
              "    </tr>\n",
              "    <tr>\n",
              "      <th>800</th>\n",
              "      <td>16175.957604</td>\n",
              "      <td>19095</td>\n",
              "      <td>6</td>\n",
              "      <td>3.0</td>\n",
              "      <td>4</td>\n",
              "      <td>1</td>\n",
              "      <td>1</td>\n",
              "      <td>0</td>\n",
              "    </tr>\n",
              "    <tr>\n",
              "      <th>801</th>\n",
              "      <td>15731.132897</td>\n",
              "      <td>20484</td>\n",
              "      <td>6</td>\n",
              "      <td>3.0</td>\n",
              "      <td>4</td>\n",
              "      <td>1</td>\n",
              "      <td>1</td>\n",
              "      <td>0</td>\n",
              "    </tr>\n",
              "    <tr>\n",
              "      <th>802</th>\n",
              "      <td>15118.893228</td>\n",
              "      <td>25979</td>\n",
              "      <td>6</td>\n",
              "      <td>3.0</td>\n",
              "      <td>4</td>\n",
              "      <td>1</td>\n",
              "      <td>1</td>\n",
              "      <td>0</td>\n",
              "    </tr>\n",
              "    <tr>\n",
              "      <th>803</th>\n",
              "      <td>13585.636802</td>\n",
              "      <td>35662</td>\n",
              "      <td>6</td>\n",
              "      <td>3.0</td>\n",
              "      <td>4</td>\n",
              "      <td>1</td>\n",
              "      <td>0</td>\n",
              "      <td>0</td>\n",
              "    </tr>\n",
              "  </tbody>\n",
              "</table>\n",
              "<p>804 rows × 8 columns</p>\n",
              "</div>\n",
              "      <button class=\"colab-df-convert\" onclick=\"convertToInteractive('df-9c2aac86-7775-4b39-aeb5-ee4aae172d2e')\"\n",
              "              title=\"Convert this dataframe to an interactive table.\"\n",
              "              style=\"display:none;\">\n",
              "        \n",
              "  <svg xmlns=\"http://www.w3.org/2000/svg\" height=\"24px\"viewBox=\"0 0 24 24\"\n",
              "       width=\"24px\">\n",
              "    <path d=\"M0 0h24v24H0V0z\" fill=\"none\"/>\n",
              "    <path d=\"M18.56 5.44l.94 2.06.94-2.06 2.06-.94-2.06-.94-.94-2.06-.94 2.06-2.06.94zm-11 1L8.5 8.5l.94-2.06 2.06-.94-2.06-.94L8.5 2.5l-.94 2.06-2.06.94zm10 10l.94 2.06.94-2.06 2.06-.94-2.06-.94-.94-2.06-.94 2.06-2.06.94z\"/><path d=\"M17.41 7.96l-1.37-1.37c-.4-.4-.92-.59-1.43-.59-.52 0-1.04.2-1.43.59L10.3 9.45l-7.72 7.72c-.78.78-.78 2.05 0 2.83L4 21.41c.39.39.9.59 1.41.59.51 0 1.02-.2 1.41-.59l7.78-7.78 2.81-2.81c.8-.78.8-2.07 0-2.86zM5.41 20L4 18.59l7.72-7.72 1.47 1.35L5.41 20z\"/>\n",
              "  </svg>\n",
              "      </button>\n",
              "      \n",
              "  <style>\n",
              "    .colab-df-container {\n",
              "      display:flex;\n",
              "      flex-wrap:wrap;\n",
              "      gap: 12px;\n",
              "    }\n",
              "\n",
              "    .colab-df-convert {\n",
              "      background-color: #E8F0FE;\n",
              "      border: none;\n",
              "      border-radius: 50%;\n",
              "      cursor: pointer;\n",
              "      display: none;\n",
              "      fill: #1967D2;\n",
              "      height: 32px;\n",
              "      padding: 0 0 0 0;\n",
              "      width: 32px;\n",
              "    }\n",
              "\n",
              "    .colab-df-convert:hover {\n",
              "      background-color: #E2EBFA;\n",
              "      box-shadow: 0px 1px 2px rgba(60, 64, 67, 0.3), 0px 1px 3px 1px rgba(60, 64, 67, 0.15);\n",
              "      fill: #174EA6;\n",
              "    }\n",
              "\n",
              "    [theme=dark] .colab-df-convert {\n",
              "      background-color: #3B4455;\n",
              "      fill: #D2E3FC;\n",
              "    }\n",
              "\n",
              "    [theme=dark] .colab-df-convert:hover {\n",
              "      background-color: #434B5C;\n",
              "      box-shadow: 0px 1px 3px 1px rgba(0, 0, 0, 0.15);\n",
              "      filter: drop-shadow(0px 1px 2px rgba(0, 0, 0, 0.3));\n",
              "      fill: #FFFFFF;\n",
              "    }\n",
              "  </style>\n",
              "\n",
              "      <script>\n",
              "        const buttonEl =\n",
              "          document.querySelector('#df-9c2aac86-7775-4b39-aeb5-ee4aae172d2e button.colab-df-convert');\n",
              "        buttonEl.style.display =\n",
              "          google.colab.kernel.accessAllowed ? 'block' : 'none';\n",
              "\n",
              "        async function convertToInteractive(key) {\n",
              "          const element = document.querySelector('#df-9c2aac86-7775-4b39-aeb5-ee4aae172d2e');\n",
              "          const dataTable =\n",
              "            await google.colab.kernel.invokeFunction('convertToInteractive',\n",
              "                                                     [key], {});\n",
              "          if (!dataTable) return;\n",
              "\n",
              "          const docLinkHtml = 'Like what you see? Visit the ' +\n",
              "            '<a target=\"_blank\" href=https://colab.research.google.com/notebooks/data_table.ipynb>data table notebook</a>'\n",
              "            + ' to learn more about interactive tables.';\n",
              "          element.innerHTML = '';\n",
              "          dataTable['output_type'] = 'display_data';\n",
              "          await google.colab.output.renderOutput(dataTable, element);\n",
              "          const docLink = document.createElement('div');\n",
              "          docLink.innerHTML = docLinkHtml;\n",
              "          element.appendChild(docLink);\n",
              "        }\n",
              "      </script>\n",
              "    </div>\n",
              "  </div>\n",
              "  "
            ]
          },
          "metadata": {},
          "execution_count": 32
        }
      ]
    },
    {
      "cell_type": "code",
      "source": [
        "df1.shape"
      ],
      "metadata": {
        "colab": {
          "base_uri": "https://localhost:8080/"
        },
        "id": "FbfWs6be6tNv",
        "outputId": "781e4999-ceb3-4619-ddb4-9ec2264d32a5"
      },
      "execution_count": 33,
      "outputs": [
        {
          "output_type": "execute_result",
          "data": {
            "text/plain": [
              "(804, 8)"
            ]
          },
          "metadata": {},
          "execution_count": 33
        }
      ]
    },
    {
      "cell_type": "code",
      "source": [
        "df1.info()"
      ],
      "metadata": {
        "colab": {
          "base_uri": "https://localhost:8080/"
        },
        "id": "Adw8qjXi6yUT",
        "outputId": "22856abe-f6da-4ed1-a0d7-6ccf225ea892"
      },
      "execution_count": 34,
      "outputs": [
        {
          "output_type": "stream",
          "name": "stdout",
          "text": [
            "<class 'pandas.core.frame.DataFrame'>\n",
            "Int64Index: 804 entries, 0 to 803\n",
            "Data columns (total 8 columns):\n",
            " #   Column    Non-Null Count  Dtype  \n",
            "---  ------    --------------  -----  \n",
            " 0   Price     804 non-null    float64\n",
            " 1   Mileage   804 non-null    int64  \n",
            " 2   Cylinder  804 non-null    int64  \n",
            " 3   Liter     804 non-null    float64\n",
            " 4   Doors     804 non-null    int64  \n",
            " 5   Cruise    804 non-null    int64  \n",
            " 6   Sound     804 non-null    int64  \n",
            " 7   Leather   804 non-null    int64  \n",
            "dtypes: float64(2), int64(6)\n",
            "memory usage: 56.5 KB\n"
          ]
        }
      ]
    },
    {
      "cell_type": "code",
      "source": [
        "df1.isnull().sum()"
      ],
      "metadata": {
        "colab": {
          "base_uri": "https://localhost:8080/"
        },
        "id": "zHNdtbRp66Aj",
        "outputId": "0311160c-8868-4c90-acf1-20b0b4beed6b"
      },
      "execution_count": 35,
      "outputs": [
        {
          "output_type": "execute_result",
          "data": {
            "text/plain": [
              "Price       0\n",
              "Mileage     0\n",
              "Cylinder    0\n",
              "Liter       0\n",
              "Doors       0\n",
              "Cruise      0\n",
              "Sound       0\n",
              "Leather     0\n",
              "dtype: int64"
            ]
          },
          "metadata": {},
          "execution_count": 35
        }
      ]
    },
    {
      "cell_type": "code",
      "source": [
        "df1=df1.drop_duplicates()"
      ],
      "metadata": {
        "id": "z3Lc0kw16__u"
      },
      "execution_count": 36,
      "outputs": []
    },
    {
      "cell_type": "code",
      "source": [
        "df1.dtypes"
      ],
      "metadata": {
        "colab": {
          "base_uri": "https://localhost:8080/"
        },
        "id": "kJrIn2r-7F8_",
        "outputId": "9bde74d9-ed84-48cc-886a-1491ebfefb36"
      },
      "execution_count": 37,
      "outputs": [
        {
          "output_type": "execute_result",
          "data": {
            "text/plain": [
              "Price       float64\n",
              "Mileage       int64\n",
              "Cylinder      int64\n",
              "Liter       float64\n",
              "Doors         int64\n",
              "Cruise        int64\n",
              "Sound         int64\n",
              "Leather       int64\n",
              "dtype: object"
            ]
          },
          "metadata": {},
          "execution_count": 37
        }
      ]
    },
    {
      "cell_type": "code",
      "source": [
        "df1.describe()"
      ],
      "metadata": {
        "colab": {
          "base_uri": "https://localhost:8080/",
          "height": 300
        },
        "id": "YmC83TH57NQL",
        "outputId": "ac861455-837c-4bd2-ad44-b2bf54e1f76c"
      },
      "execution_count": 38,
      "outputs": [
        {
          "output_type": "execute_result",
          "data": {
            "text/plain": [
              "              Price       Mileage    Cylinder       Liter       Doors  \\\n",
              "count    804.000000    804.000000  804.000000  804.000000  804.000000   \n",
              "mean   21343.143767  19831.934080    5.268657    3.037313    3.527363   \n",
              "std     9884.852801   8196.319707    1.387531    1.105562    0.850169   \n",
              "min     8638.930895    266.000000    4.000000    1.600000    2.000000   \n",
              "25%    14273.073870  14623.500000    4.000000    2.200000    4.000000   \n",
              "50%    18024.995019  20913.500000    6.000000    2.800000    4.000000   \n",
              "75%    26717.316636  25213.000000    6.000000    3.800000    4.000000   \n",
              "max    70755.466717  50387.000000    8.000000    6.000000    4.000000   \n",
              "\n",
              "           Cruise       Sound     Leather  \n",
              "count  804.000000  804.000000  804.000000  \n",
              "mean     0.752488    0.679104    0.723881  \n",
              "std      0.431836    0.467111    0.447355  \n",
              "min      0.000000    0.000000    0.000000  \n",
              "25%      1.000000    0.000000    0.000000  \n",
              "50%      1.000000    1.000000    1.000000  \n",
              "75%      1.000000    1.000000    1.000000  \n",
              "max      1.000000    1.000000    1.000000  "
            ],
            "text/html": [
              "\n",
              "  <div id=\"df-79ad36d8-8d5a-4854-b517-606db253a321\">\n",
              "    <div class=\"colab-df-container\">\n",
              "      <div>\n",
              "<style scoped>\n",
              "    .dataframe tbody tr th:only-of-type {\n",
              "        vertical-align: middle;\n",
              "    }\n",
              "\n",
              "    .dataframe tbody tr th {\n",
              "        vertical-align: top;\n",
              "    }\n",
              "\n",
              "    .dataframe thead th {\n",
              "        text-align: right;\n",
              "    }\n",
              "</style>\n",
              "<table border=\"1\" class=\"dataframe\">\n",
              "  <thead>\n",
              "    <tr style=\"text-align: right;\">\n",
              "      <th></th>\n",
              "      <th>Price</th>\n",
              "      <th>Mileage</th>\n",
              "      <th>Cylinder</th>\n",
              "      <th>Liter</th>\n",
              "      <th>Doors</th>\n",
              "      <th>Cruise</th>\n",
              "      <th>Sound</th>\n",
              "      <th>Leather</th>\n",
              "    </tr>\n",
              "  </thead>\n",
              "  <tbody>\n",
              "    <tr>\n",
              "      <th>count</th>\n",
              "      <td>804.000000</td>\n",
              "      <td>804.000000</td>\n",
              "      <td>804.000000</td>\n",
              "      <td>804.000000</td>\n",
              "      <td>804.000000</td>\n",
              "      <td>804.000000</td>\n",
              "      <td>804.000000</td>\n",
              "      <td>804.000000</td>\n",
              "    </tr>\n",
              "    <tr>\n",
              "      <th>mean</th>\n",
              "      <td>21343.143767</td>\n",
              "      <td>19831.934080</td>\n",
              "      <td>5.268657</td>\n",
              "      <td>3.037313</td>\n",
              "      <td>3.527363</td>\n",
              "      <td>0.752488</td>\n",
              "      <td>0.679104</td>\n",
              "      <td>0.723881</td>\n",
              "    </tr>\n",
              "    <tr>\n",
              "      <th>std</th>\n",
              "      <td>9884.852801</td>\n",
              "      <td>8196.319707</td>\n",
              "      <td>1.387531</td>\n",
              "      <td>1.105562</td>\n",
              "      <td>0.850169</td>\n",
              "      <td>0.431836</td>\n",
              "      <td>0.467111</td>\n",
              "      <td>0.447355</td>\n",
              "    </tr>\n",
              "    <tr>\n",
              "      <th>min</th>\n",
              "      <td>8638.930895</td>\n",
              "      <td>266.000000</td>\n",
              "      <td>4.000000</td>\n",
              "      <td>1.600000</td>\n",
              "      <td>2.000000</td>\n",
              "      <td>0.000000</td>\n",
              "      <td>0.000000</td>\n",
              "      <td>0.000000</td>\n",
              "    </tr>\n",
              "    <tr>\n",
              "      <th>25%</th>\n",
              "      <td>14273.073870</td>\n",
              "      <td>14623.500000</td>\n",
              "      <td>4.000000</td>\n",
              "      <td>2.200000</td>\n",
              "      <td>4.000000</td>\n",
              "      <td>1.000000</td>\n",
              "      <td>0.000000</td>\n",
              "      <td>0.000000</td>\n",
              "    </tr>\n",
              "    <tr>\n",
              "      <th>50%</th>\n",
              "      <td>18024.995019</td>\n",
              "      <td>20913.500000</td>\n",
              "      <td>6.000000</td>\n",
              "      <td>2.800000</td>\n",
              "      <td>4.000000</td>\n",
              "      <td>1.000000</td>\n",
              "      <td>1.000000</td>\n",
              "      <td>1.000000</td>\n",
              "    </tr>\n",
              "    <tr>\n",
              "      <th>75%</th>\n",
              "      <td>26717.316636</td>\n",
              "      <td>25213.000000</td>\n",
              "      <td>6.000000</td>\n",
              "      <td>3.800000</td>\n",
              "      <td>4.000000</td>\n",
              "      <td>1.000000</td>\n",
              "      <td>1.000000</td>\n",
              "      <td>1.000000</td>\n",
              "    </tr>\n",
              "    <tr>\n",
              "      <th>max</th>\n",
              "      <td>70755.466717</td>\n",
              "      <td>50387.000000</td>\n",
              "      <td>8.000000</td>\n",
              "      <td>6.000000</td>\n",
              "      <td>4.000000</td>\n",
              "      <td>1.000000</td>\n",
              "      <td>1.000000</td>\n",
              "      <td>1.000000</td>\n",
              "    </tr>\n",
              "  </tbody>\n",
              "</table>\n",
              "</div>\n",
              "      <button class=\"colab-df-convert\" onclick=\"convertToInteractive('df-79ad36d8-8d5a-4854-b517-606db253a321')\"\n",
              "              title=\"Convert this dataframe to an interactive table.\"\n",
              "              style=\"display:none;\">\n",
              "        \n",
              "  <svg xmlns=\"http://www.w3.org/2000/svg\" height=\"24px\"viewBox=\"0 0 24 24\"\n",
              "       width=\"24px\">\n",
              "    <path d=\"M0 0h24v24H0V0z\" fill=\"none\"/>\n",
              "    <path d=\"M18.56 5.44l.94 2.06.94-2.06 2.06-.94-2.06-.94-.94-2.06-.94 2.06-2.06.94zm-11 1L8.5 8.5l.94-2.06 2.06-.94-2.06-.94L8.5 2.5l-.94 2.06-2.06.94zm10 10l.94 2.06.94-2.06 2.06-.94-2.06-.94-.94-2.06-.94 2.06-2.06.94z\"/><path d=\"M17.41 7.96l-1.37-1.37c-.4-.4-.92-.59-1.43-.59-.52 0-1.04.2-1.43.59L10.3 9.45l-7.72 7.72c-.78.78-.78 2.05 0 2.83L4 21.41c.39.39.9.59 1.41.59.51 0 1.02-.2 1.41-.59l7.78-7.78 2.81-2.81c.8-.78.8-2.07 0-2.86zM5.41 20L4 18.59l7.72-7.72 1.47 1.35L5.41 20z\"/>\n",
              "  </svg>\n",
              "      </button>\n",
              "      \n",
              "  <style>\n",
              "    .colab-df-container {\n",
              "      display:flex;\n",
              "      flex-wrap:wrap;\n",
              "      gap: 12px;\n",
              "    }\n",
              "\n",
              "    .colab-df-convert {\n",
              "      background-color: #E8F0FE;\n",
              "      border: none;\n",
              "      border-radius: 50%;\n",
              "      cursor: pointer;\n",
              "      display: none;\n",
              "      fill: #1967D2;\n",
              "      height: 32px;\n",
              "      padding: 0 0 0 0;\n",
              "      width: 32px;\n",
              "    }\n",
              "\n",
              "    .colab-df-convert:hover {\n",
              "      background-color: #E2EBFA;\n",
              "      box-shadow: 0px 1px 2px rgba(60, 64, 67, 0.3), 0px 1px 3px 1px rgba(60, 64, 67, 0.15);\n",
              "      fill: #174EA6;\n",
              "    }\n",
              "\n",
              "    [theme=dark] .colab-df-convert {\n",
              "      background-color: #3B4455;\n",
              "      fill: #D2E3FC;\n",
              "    }\n",
              "\n",
              "    [theme=dark] .colab-df-convert:hover {\n",
              "      background-color: #434B5C;\n",
              "      box-shadow: 0px 1px 3px 1px rgba(0, 0, 0, 0.15);\n",
              "      filter: drop-shadow(0px 1px 2px rgba(0, 0, 0, 0.3));\n",
              "      fill: #FFFFFF;\n",
              "    }\n",
              "  </style>\n",
              "\n",
              "      <script>\n",
              "        const buttonEl =\n",
              "          document.querySelector('#df-79ad36d8-8d5a-4854-b517-606db253a321 button.colab-df-convert');\n",
              "        buttonEl.style.display =\n",
              "          google.colab.kernel.accessAllowed ? 'block' : 'none';\n",
              "\n",
              "        async function convertToInteractive(key) {\n",
              "          const element = document.querySelector('#df-79ad36d8-8d5a-4854-b517-606db253a321');\n",
              "          const dataTable =\n",
              "            await google.colab.kernel.invokeFunction('convertToInteractive',\n",
              "                                                     [key], {});\n",
              "          if (!dataTable) return;\n",
              "\n",
              "          const docLinkHtml = 'Like what you see? Visit the ' +\n",
              "            '<a target=\"_blank\" href=https://colab.research.google.com/notebooks/data_table.ipynb>data table notebook</a>'\n",
              "            + ' to learn more about interactive tables.';\n",
              "          element.innerHTML = '';\n",
              "          dataTable['output_type'] = 'display_data';\n",
              "          await google.colab.output.renderOutput(dataTable, element);\n",
              "          const docLink = document.createElement('div');\n",
              "          docLink.innerHTML = docLinkHtml;\n",
              "          element.appendChild(docLink);\n",
              "        }\n",
              "      </script>\n",
              "    </div>\n",
              "  </div>\n",
              "  "
            ]
          },
          "metadata": {},
          "execution_count": 38
        }
      ]
    },
    {
      "cell_type": "code",
      "source": [
        "cols=df1.columns[:-1]\n",
        "cols"
      ],
      "metadata": {
        "colab": {
          "base_uri": "https://localhost:8080/"
        },
        "id": "kzfpa8xp8rVI",
        "outputId": "3225bb3a-7215-4526-bd0d-1a74ce818909"
      },
      "execution_count": 39,
      "outputs": [
        {
          "output_type": "execute_result",
          "data": {
            "text/plain": [
              "Index(['Price', 'Mileage', 'Cylinder', 'Liter', 'Doors', 'Cruise', 'Sound'], dtype='object')"
            ]
          },
          "metadata": {},
          "execution_count": 39
        }
      ]
    },
    {
      "cell_type": "code",
      "source": [
        "for i in cols:\n",
        "  percentile25=df[i].quantile(0.25)\n",
        "  percentile75=df[i].quantile(0.75)\n",
        "  iqr=percentile75-percentile25\n",
        "  max_limit=(percentile75+1.5*iqr)\n",
        "  min_limit=(percentile25-1.5*iqr)\n",
        "print(f'iqr is :{iqr},\\n min_limit value is:{min_limit},\\n max_limit value is:{max_limit}')"
      ],
      "metadata": {
        "colab": {
          "base_uri": "https://localhost:8080/"
        },
        "id": "QIwcHlo47TtL",
        "outputId": "d3536901-ad3f-4518-c339-2ae20a17e947"
      },
      "execution_count": 40,
      "outputs": [
        {
          "output_type": "stream",
          "name": "stdout",
          "text": [
            "iqr is :1.0,\n",
            " min_limit value is:-1.5,\n",
            " max_limit value is:2.5\n"
          ]
        }
      ]
    },
    {
      "cell_type": "code",
      "source": [
        "x = df1[['Mileage', 'Cylinder', 'Liter', 'Doors', 'Cruise', 'Sound', 'Leather']].values\n",
        "y=df1['Price'].values"
      ],
      "metadata": {
        "id": "OQvbuaeN5qNF"
      },
      "execution_count": 41,
      "outputs": []
    },
    {
      "cell_type": "code",
      "source": [
        "x"
      ],
      "metadata": {
        "colab": {
          "base_uri": "https://localhost:8080/"
        },
        "id": "eRGD9kQy539K",
        "outputId": "7c08bc3d-5fdc-40ee-b24e-f965e28ebbc2"
      },
      "execution_count": 42,
      "outputs": [
        {
          "output_type": "execute_result",
          "data": {
            "text/plain": [
              "array([[8.2210e+03, 6.0000e+00, 3.1000e+00, ..., 1.0000e+00, 1.0000e+00,\n",
              "        1.0000e+00],\n",
              "       [9.1350e+03, 6.0000e+00, 3.1000e+00, ..., 1.0000e+00, 1.0000e+00,\n",
              "        0.0000e+00],\n",
              "       [1.3196e+04, 6.0000e+00, 3.1000e+00, ..., 1.0000e+00, 1.0000e+00,\n",
              "        0.0000e+00],\n",
              "       ...,\n",
              "       [2.0484e+04, 6.0000e+00, 3.0000e+00, ..., 1.0000e+00, 1.0000e+00,\n",
              "        0.0000e+00],\n",
              "       [2.5979e+04, 6.0000e+00, 3.0000e+00, ..., 1.0000e+00, 1.0000e+00,\n",
              "        0.0000e+00],\n",
              "       [3.5662e+04, 6.0000e+00, 3.0000e+00, ..., 1.0000e+00, 0.0000e+00,\n",
              "        0.0000e+00]])"
            ]
          },
          "metadata": {},
          "execution_count": 42
        }
      ]
    },
    {
      "cell_type": "code",
      "source": [
        "y"
      ],
      "metadata": {
        "colab": {
          "base_uri": "https://localhost:8080/"
        },
        "id": "7MGfkcmH6Cym",
        "outputId": "632577a8-c1d3-41ab-d359-a662e9a6fde3"
      },
      "execution_count": 43,
      "outputs": [
        {
          "output_type": "execute_result",
          "data": {
            "text/plain": [
              "array([17314.1031289 , 17542.03608328, 16218.84786194, 16336.91314005,\n",
              "       16339.17032393, 15709.05282108, 15230.00338985, 15048.04218412,\n",
              "       14862.0938696 , 15295.01826688, 21335.85248489, 20538.08751023,\n",
              "       20512.09409124, 19924.1590524 , 19774.24906607, 19344.16553736,\n",
              "       19105.13012442, 18543.42704537, 17808.19899602, 17968.83827826,\n",
              "       22358.87767812, 23785.92252638, 22926.09037126, 21895.7587842 ,\n",
              "       21273.06171392, 21460.01395289, 21183.12358742, 20406.09950289,\n",
              "       21058.13957995, 19556.89932029, 23447.68656101, 23547.23944288,\n",
              "       23016.00800868, 22230.02750256, 22625.07356605, 21799.17209689,\n",
              "       21341.25720707, 21683.03146355, 20986.01601748, 20902.10379431,\n",
              "       20698.07708317, 20099.25684484, 18145.12648909, 17944.85692346,\n",
              "       19027.86230543, 18348.89857169, 17750.88457463, 17772.96968004,\n",
              "       17394.0213978 , 17645.74504414, 21908.36662462, 21956.34266271,\n",
              "       21646.11692355, 21575.456827  , 20952.2178016 , 21562.04757786,\n",
              "       19981.12791142, 19425.84861633, 19191.98961685, 19641.74190233,\n",
              "       25589.98315463, 25098.62905715, 23420.70694794, 22661.04848508,\n",
              "       23493.082295  , 22435.20281894, 21878.11999603, 23077.56591027,\n",
              "       21698.01474551, 21831.82291637, 26831.19403716, 26060.33534956,\n",
              "       26781.81464529, 26302.07428434, 26190.27146754, 25508.21095611,\n",
              "       23348.0169541 , 23406.68981981, 23159.5437816 , 21536.74173018,\n",
              "       51154.04721553, 49248.15896668, 46747.67327034, 44130.61705511,\n",
              "       44084.91421156, 43892.46788041, 44300.63995822, 42677.60111704,\n",
              "       43374.05241996, 40619.07227011, 33417.96501301, 30957.08074928,\n",
              "       31431.13036998, 30781.51563348, 30646.43770059, 30792.14902855,\n",
              "       30392.75015838, 28817.08184658, 29275.20871369, 28040.12852916,\n",
              "       39801.55135427, 40335.73731363, 39307.00916496, 38600.23956094,\n",
              "       38445.89716866, 36077.79612122, 35866.5827089 , 35338.65368956,\n",
              "       36154.30354834, 34685.6629802 , 42820.32902253, 41378.04808865,\n",
              "       40856.39089542, 41419.03726221, 37510.25357006, 37215.16938281,\n",
              "       36332.89468501, 36245.15822782, 32954.14133577, 32537.18675068,\n",
              "       35715.76855578, 35651.68001995, 35129.34077102, 35165.75936894,\n",
              "       32501.24518862, 33220.02844617, 32509.47828833, 31132.21349192,\n",
              "       31181.71515901, 31059.18102675, 42741.5236662 , 40966.60741222,\n",
              "       38795.379095  , 38297.46253628, 37192.89636609, 36210.12299596,\n",
              "       36633.63381912, 35895.49940993, 34974.37803664, 32038.3395626 ,\n",
              "       48310.32954486, 48365.98089653, 45061.95193515, 44205.87588487,\n",
              "       42377.95544208, 41671.58314009, 41516.42986228, 41053.4821681 ,\n",
              "       38208.50102331, 39072.39205261, 70755.46671654, 68566.18718895,\n",
              "       69133.73172243, 66374.30704019, 65281.4812369 , 63913.11724773,\n",
              "       60567.54909331, 57154.44343689, 55639.08765362, 52001.99437855,\n",
              "       12146.1880309 , 12163.82042468, 11472.02276142, 11017.1687101 ,\n",
              "       11096.85726774, 10386.04021832, 11137.04565492, 11045.10884444,\n",
              "       10777.05253694,  9928.18817462, 12649.11089325, 12314.59121689,\n",
              "       11318.00808925, 12409.94909363, 11555.26740204, 11700.11148611,\n",
              "       11215.01864667, 10144.95208069, 10491.07519851,  9954.05417352,\n",
              "       11031.12993128, 11343.05401047, 11391.21371752, 11247.86253481,\n",
              "       10921.94537185, 11179.95357148, 11394.8864029 , 11070.06064306,\n",
              "       11013.87136774, 11115.01364031, 11918.45606836, 12408.80614772,\n",
              "       11302.90298543, 11615.02101757, 10805.13008988, 11169.91838816,\n",
              "       10770.10655376, 10872.01392565, 10921.94537185,  9919.04818515,\n",
              "       10813.34352137, 11167.86100265, 10897.07650613, 10106.01643086,\n",
              "       10354.04385207, 10287.97736329,  9720.97888953,  9506.04793656,\n",
              "        9789.03767552,  9220.82967689, 10971.09561435, 10315.01823357,\n",
              "        9654.06014156,  9563.7893088 ,  9665.84885973,  9482.21940385,\n",
              "        8638.93089526,  9041.90625442,  8870.94731588,  8768.99858505,\n",
              "       13007.98417785, 13041.87399727, 12045.92070494, 12469.52757633,\n",
              "       11539.84565005, 11726.0029741 , 12207.87292648, 11203.14610942,\n",
              "       10788.97036041, 11149.61830393, 14584.44812228, 13681.69800349,\n",
              "       13446.21341534, 12327.6416084 , 12274.95758125, 12630.77503359,\n",
              "       12425.38917116, 12319.69624569, 12549.89233388, 12234.88805327,\n",
              "       14894.98259253, 14198.09245886, 14678.10533441, 13167.70232128,\n",
              "       13471.00508276, 12573.89993944, 12383.40281062, 13230.91867447,\n",
              "       11080.51637791, 11328.95886778, 15053.93373473, 14397.92808459,\n",
              "       14642.32357743, 13464.80288388, 13678.86300261, 12507.48526743,\n",
              "       13141.04795047, 13594.08559109, 12733.8579245 , 12230.09977245,\n",
              "       14222.30539524, 14266.91257585, 14255.74768152, 13762.90144689,\n",
              "       14275.12763516, 13688.00010927, 13308.83374945, 14145.88098932,\n",
              "       12944.93875366, 12846.06159316, 14061.12276502, 13072.84163053,\n",
              "       11699.03391564, 12257.16408562, 11574.17381265, 11539.04853329,\n",
              "       12243.06062413, 11671.85812674, 11464.62885878, 10546.78274511,\n",
              "       15553.20871441, 15047.00273809, 13540.04164165, 14077.96885276,\n",
              "       12981.9520293 , 13436.00014944, 13161.94282777, 14220.01321519,\n",
              "       12379.12647335, 11581.90504445, 14023.93854673, 12810.91058496,\n",
              "       13135.90503232, 13106.90042366, 12845.17424931, 12570.13668101,\n",
              "       12897.92953692, 11961.61995841, 12706.91134798, 12487.05429274,\n",
              "       15635.79615973, 15747.80396937, 14619.07856273, 14185.02155274,\n",
              "       13699.03578028, 13310.05959479, 13530.06864492, 13019.07113645,\n",
              "       12684.98622661, 12553.07142792, 14997.88433639, 14847.04415085,\n",
              "       15128.99223584, 15000.9927099 , 14593.85409528, 14304.74103536,\n",
              "       13688.94567548, 13744.84985213, 13545.03089634, 12741.19023256,\n",
              "       16116.84391614, 16428.57898137, 15084.81540427, 15163.16985896,\n",
              "       14897.04055258, 14508.75008522, 14418.16529091, 14191.88227736,\n",
              "       14401.90692881, 14175.87907888, 14429.7896427 , 14696.0289898 ,\n",
              "       14582.7691223 , 14194.82360361, 14072.13523194, 13994.90645845,\n",
              "       13830.24902472, 13159.82154419, 12495.97075122, 12678.85397469,\n",
              "       46732.60602964, 47065.20991281, 44749.68679329, 42773.02839002,\n",
              "       41371.37927274, 39547.58789964, 39691.72740095, 38824.86908593,\n",
              "       36970.89804744, 37288.93673768, 39875.85425532, 39713.66792194,\n",
              "       38990.60733462, 39092.18991832, 39365.88323849, 35261.43643069,\n",
              "       35575.41704894, 34297.3053503 , 34739.2149604 , 31186.74146275,\n",
              "       21757.04950926, 19528.10043341, 19075.6787522 , 19409.75260749,\n",
              "       18527.20897056, 18912.98159813, 17839.80077059, 17789.34673081,\n",
              "       17294.18100132, 18083.39629901, 20021.19520553, 18835.18976114,\n",
              "       18727.50837668, 16805.05739222, 17154.57646165, 16644.08787305,\n",
              "       15951.81116907, 16508.59069486, 15832.51834818, 15554.28312912,\n",
              "       25948.96259405, 27714.05024514, 25097.47324918, 24809.04232362,\n",
              "       23345.32906904, 22894.43867615, 22064.29218565, 23151.54613979,\n",
              "       22120.75776464, 20294.576825  , 18957.8900429 , 18950.9069845 ,\n",
              "       17891.63377541, 17801.22952827, 16723.99388184, 16744.03025255,\n",
              "       16825.19088199, 16543.98013729, 16143.95729234, 14914.20128094,\n",
              "       19164.61062735, 18800.95889881, 17458.22152921, 17158.92199788,\n",
              "       16472.8976476 , 16993.78032811, 16300.46523985, 15623.20027305,\n",
              "       15138.40082402, 15233.15987099, 19471.97485217, 18009.84603167,\n",
              "       18273.00613367, 18311.75630234, 17553.75368398, 18004.87041475,\n",
              "       17663.22495293, 17115.12203064, 16988.30306345, 16803.12274986,\n",
              "       19446.88294074, 17119.45757241, 17316.09660344, 16860.87077942,\n",
              "       17312.90715434, 16403.2536268 , 16536.74387512, 16341.80409928,\n",
              "       16713.98468931, 16295.21143755, 18974.92202964, 18324.83192538,\n",
              "       19581.23141378, 18169.37548245, 17986.22409094, 17173.94232182,\n",
              "       16456.9746439 , 16267.09488911, 16860.09432551, 16027.28648732,\n",
              "       17089.9188297 , 17463.04608059, 17218.68574986, 17162.47825538,\n",
              "       16507.07026749, 16752.51440325, 16646.77079927, 15623.91976458,\n",
              "       15664.62490475, 15680.86442601, 18800.09310259, 18910.80428599,\n",
              "       19177.41206351, 18040.14400647, 17685.20099493, 17515.39758943,\n",
              "       16357.99232167, 16345.94374691, 15797.19576038, 15503.50879617,\n",
              "       21745.02944094, 21725.01074905, 22384.11869177, 20537.14171812,\n",
              "       21233.91135598, 20676.16551095, 20839.14996547, 20017.96843019,\n",
              "       18876.87065368, 17586.9285827 , 23573.8220022 , 23527.72850249,\n",
              "       22113.62802409, 22470.35842957, 20619.11401022, 20047.95136123,\n",
              "       21525.33900835, 20382.15030957, 21020.83677661, 20221.80881128,\n",
              "       25452.47385458, 23449.30632576, 23578.16486067, 22525.2697215 ,\n",
              "       21982.64770827, 22231.56315149, 22189.11597108, 21765.06657923,\n",
              "       21403.75642234, 21200.69020723, 19682.03501065, 18678.41412274,\n",
              "       20318.89097313, 20127.04418475, 19751.04143084, 17844.73077078,\n",
              "       18856.01869056, 18566.07070328, 18063.00491085, 17768.05950543,\n",
              "       23197.43678997, 23102.02236725, 22460.5299963 , 21607.77256555,\n",
              "       22004.93043754, 20830.99429606, 20109.90412128, 19116.1310874 ,\n",
              "       19689.740844  , 19338.37599757, 21903.32261752, 22736.83446887,\n",
              "       22104.97357131, 22311.04951296, 21875.09763083, 20627.66168908,\n",
              "       19540.24478857, 19204.80934142, 18158.08312908, 18529.34211711,\n",
              "       21383.0671605 , 20452.66947495, 20677.59381919, 19294.78750435,\n",
              "       18548.97859264, 18042.22107437, 18620.87136663, 17023.93686529,\n",
              "       16216.98070556, 15792.83143687, 17360.81063528, 17675.83748814,\n",
              "       17141.94115819, 17202.8340553 , 16792.67952907, 15595.88413264,\n",
              "       15253.86856608, 15594.80684434, 15059.13407725, 14703.13686817,\n",
              "       15979.01483676, 16379.85300406, 15327.10032051, 15846.01271234,\n",
              "       15604.14581569, 14841.91704894, 15077.17584377, 13961.11164188,\n",
              "       13034.06852755, 13162.85205397, 18254.92277226, 17095.03522443,\n",
              "       17162.87344059, 16391.17171456, 15788.10478036, 16569.14123974,\n",
              "       16997.69374117, 16283.95899117, 15457.17059153, 14963.04561879,\n",
              "       21230.97798534, 22100.39317349, 21300.01944938, 21281.88048759,\n",
              "       19646.71747845, 20173.90632941, 18701.22261541, 19423.16502154,\n",
              "       19956.75841329, 19448.22633022, 19822.11539198, 19567.25929105,\n",
              "       16853.1078491 , 16516.95554904, 15979.01483676, 16256.23616761,\n",
              "       15724.25217039, 15967.24540008, 16041.68558608, 15756.14612965,\n",
              "       32422.76137576, 32219.58928453, 31024.87211458, 29595.79428787,\n",
              "       29664.70268696, 27425.84391257, 27370.95811065, 27548.62960952,\n",
              "       28502.30610868, 25527.01302661, 13160.12456377, 12830.09877831,\n",
              "       12828.03097737, 12878.04682892, 12832.46238753, 12464.07346131,\n",
              "       12465.5085234 , 12258.85759239, 11903.09774717, 12209.55962296,\n",
              "       16391.92657329, 16033.93061848, 16106.82722092, 16551.21956596,\n",
              "       17325.26954296, 16078.66549053, 15297.83597288, 15505.29380633,\n",
              "       15174.34661257, 14546.88481425, 17803.27908854, 16353.09651745,\n",
              "       15977.91108364, 15568.97423746, 15589.78048277, 15730.04626622,\n",
              "       15802.65286086, 15086.8995925 , 14396.27055727, 14869.28206688,\n",
              "       16927.77976099, 17418.06873392, 16379.09870132, 16706.67406792,\n",
              "       17214.32507832, 15821.94971816, 14398.92269258, 15622.12109788,\n",
              "       14909.05098779, 14853.19901111, 35622.13949546, 34819.29712152,\n",
              "       34355.00372769, 32737.08454595, 33540.53610509, 31970.54207548,\n",
              "       33287.40959869, 32075.98487364, 31969.06981151, 27666.23107819,\n",
              "       29246.23733506, 26337.83059762, 26775.0320895 , 25299.96963871,\n",
              "       24896.5976042 , 25996.80640185, 24801.61719395, 24063.01268492,\n",
              "       23249.84168514, 22244.87655341, 37088.5624131 , 33381.81915254,\n",
              "       33358.76777138, 33586.90609204, 30731.94165479, 30315.16944198,\n",
              "       30166.852512  , 30251.01841737, 29142.71438557, 29612.15404816,\n",
              "       26841.08083545, 27825.94997323, 27284.7513282 , 27060.13756001,\n",
              "       25618.2818848 , 25790.51414074, 25148.37918612, 24852.49528068,\n",
              "       24173.52588253, 23733.40224911, 38324.80907668, 38167.17357724,\n",
              "       37383.50349337, 36338.75132771, 35580.33231397, 35304.49470153,\n",
              "       34392.99527206, 33984.43076966, 33248.34252428, 28777.95969479,\n",
              "       32197.34046608, 32053.09716102, 30274.71057518, 30353.58555383,\n",
              "       30122.42973521, 26789.8326082 , 28291.76226112, 27109.4058898 ,\n",
              "       27256.49451232, 25267.36767604, 35033.21545381, 32746.1313865 ,\n",
              "       33183.33259648, 31002.73441998, 30075.99472617, 29844.20400365,\n",
              "       28432.82421253, 28054.98236192, 28502.96240609, 24912.08058089,\n",
              "       31849.30794719, 32649.76050854, 29961.2549387 , 31554.40533482,\n",
              "       29914.3795755 , 30575.24882059, 30271.9222997 , 28678.07525119,\n",
              "       28829.02800299, 26955.04120176, 33005.77995793, 30661.26015037,\n",
              "       30443.87990023, 30322.1505714 , 31153.00895974, 31084.93760709,\n",
              "       31156.59578891, 29114.54450563, 25845.20611457, 24903.47773883,\n",
              "       30800.65838931, 28416.46167321, 28185.77624985, 28204.6035781 ,\n",
              "       26653.23939042, 27610.86420293, 26698.07815105, 27241.43617796,\n",
              "       27703.20399508, 24405.06675968, 30959.93213309, 29986.7915006 ,\n",
              "       29908.18098139, 28328.26653766, 29197.79130048, 29321.08250619,\n",
              "       29481.52875712, 26792.3001566 , 27788.81323858, 26012.37462483,\n",
              "       27280.98206088, 25959.12203037, 23274.48071142, 23329.2082556 ,\n",
              "       16916.86953547, 15639.0367431 , 16256.23616761, 15395.01087415,\n",
              "       14881.95544597, 15277.06758751, 14702.79831983, 15033.15031666,\n",
              "       13991.04005707, 14771.00346439, 13719.23830756, 13869.15494228,\n",
              "       13518.23525162, 13825.15471115, 13811.15502229, 14077.96885276,\n",
              "       14411.85885055, 13600.0341846 , 13032.86810076, 11539.04853329,\n",
              "       14739.06723588, 15110.19259828, 14202.99715323, 15194.97535407,\n",
              "       14116.92150853, 13174.07100948, 13258.36588893, 12791.75108873,\n",
              "       12293.05996229, 13998.12927577, 14568.0022546 , 13122.90545708,\n",
              "       13494.28878335, 12036.21675059, 12162.14004686, 12333.60399301,\n",
              "       12099.01457785, 12119.08970178, 11679.92354607, 13216.9120482 ,\n",
              "       12412.52110687, 12284.28829012, 12594.18301347, 12105.9813355 ,\n",
              "       11873.53399479, 12965.22326948, 10563.06616172, 11413.53040254,\n",
              "       11504.82454972, 11521.52588814, 18173.97808395, 18490.98302887,\n",
              "       17322.07840429, 17978.35699778, 16425.17479602, 16507.07026749,\n",
              "       16175.95760421, 15731.13289685, 15118.89322834, 13585.63680217])"
            ]
          },
          "metadata": {},
          "execution_count": 43
        }
      ]
    },
    {
      "cell_type": "code",
      "source": [
        "from sklearn.model_selection import train_test_split\n",
        "x_train,x_test,y_train,y_test=train_test_split(x,y,test_size=0.3,random_state = 7)\n"
      ],
      "metadata": {
        "id": "cOyWLHBz-ocX"
      },
      "execution_count": 44,
      "outputs": []
    },
    {
      "cell_type": "code",
      "source": [
        "from sklearn.linear_model import LinearRegression\n",
        "model=LinearRegression()\n",
        "model.fit(x_train,y_train)\n",
        "y_predict=model.predict(x_test)\n",
        "y_predict\n"
      ],
      "metadata": {
        "colab": {
          "base_uri": "https://localhost:8080/"
        },
        "id": "P7-H4vTeAkpp",
        "outputId": "dfa799f8-0477-4b7d-8648-e8f453fd607b"
      },
      "execution_count": 45,
      "outputs": [
        {
          "output_type": "execute_result",
          "data": {
            "text/plain": [
              "array([23279.00737268, 17183.06297168, 10002.03531624, 25728.06264543,\n",
              "        8561.1223531 , 37179.35126326, 30287.34180605, 21251.29685105,\n",
              "       26326.89902799, 34377.59241369, 37113.80238495, 11536.84728063,\n",
              "       20246.20315878, 12388.03795049, 14154.6199956 , 20206.63496937,\n",
              "       33032.23019547, 19649.9928921 , 22696.52560317, 16246.49969481,\n",
              "       15839.56110263, 21867.1124422 , 13970.26730314, 18533.0146635 ,\n",
              "       28957.58950041, 21466.13564256, 18277.79729058, 18949.53098295,\n",
              "       38220.31752141, 15641.72548179, 20738.35145331, 20387.17884817,\n",
              "       24952.07308853, 39842.99085277, 22942.74797397, 17986.17282801,\n",
              "       27523.2037025 , 17497.43940325, 11518.98248598, 20205.2239284 ,\n",
              "       20356.60944302, 17251.31625734, 18158.79892489, 14876.70630573,\n",
              "       16491.81649952, 17573.13980868, 15292.0983267 , 27881.61006771,\n",
              "       20275.52955565, 19530.11466717, 19546.00619995, 18366.43819633,\n",
              "       25907.35537834, 18566.63251385, 17996.1008054 , 18459.88416803,\n",
              "       27388.78535034, 11888.87794685, 18198.36280199, 34271.00953334,\n",
              "       29171.08725452, 21042.17837009,  9565.56261004, 30488.92269574,\n",
              "       30815.50901065, 20329.85496926, 24981.76389682, 19403.88446296,\n",
              "       25042.48171452, 24507.08620872, 19431.4288608 , 20147.53357589,\n",
              "       19290.74199357, 19340.30570607, 24748.73135198, 23195.75293376,\n",
              "       19088.12543454, 18449.13578912, 32694.8659716 , 15988.16040856,\n",
              "       18766.10315431,  8291.77082355, 22669.58581888, 18079.01936322,\n",
              "       10995.9408654 , 25743.55134778, 26385.06800196, 30978.36023804,\n",
              "       21432.0462459 , 25686.32140491, 10222.47316578,  8937.85033625,\n",
              "       17324.12875434, 28730.72821601, 33456.27002268, 23963.82737937,\n",
              "       17516.54215092, 12416.63100877, 26854.39496367, 16295.57214336,\n",
              "       24020.51844899, 23355.73161576, 25031.89192796, 31242.41344935,\n",
              "       14163.05003957, 11739.28462128, 20357.1867759 , 23829.92257096,\n",
              "       25418.95371814, 23512.65555838, 17844.3434505 , 19348.92334225,\n",
              "       23627.16676634,  9711.48853744, 33533.72696266, 27685.48060416,\n",
              "       25364.8172857 , 21143.3624046 ,  7331.67292404, 18761.71346995,\n",
              "       20972.35342049, 29729.98146095, 33332.97646442, 20926.9964174 ,\n",
              "       10214.40494659, 31194.91883042, 23235.41808983,  9079.88522981,\n",
              "       11944.34016947,  9588.98490326, 10272.63222768, 17843.905277  ,\n",
              "       23654.60035867, 14372.08295831, 15410.42469126, 22083.2079543 ,\n",
              "       19362.53115964, 37064.33928795, 21590.81659113, 23661.76818284,\n",
              "       14007.13634652, 23795.55606802, 13113.46614524,  6276.73649145,\n",
              "       22997.34857262, 22893.50895687, 20108.65158018, 26408.52369357,\n",
              "       27713.89652372, 16462.17977627, 32600.2929386 , 12220.74518634,\n",
              "       32777.28592794, 27332.13680834,  7211.19760495, 14620.38687048,\n",
              "       32603.34993409, 17060.31390172, 19678.8173689 , 11896.61172291,\n",
              "       18064.82092985, 23611.52871265, 23709.56448652, 20203.48067696,\n",
              "       26150.40037687, 23136.85705633, 10306.66084236, 24244.07213131,\n",
              "        9155.60462155, 10852.77291937, 20137.38766408, 24454.32036929,\n",
              "       28046.25348415, 17969.80596679, 25009.99985505,  5147.58779252,\n",
              "       37015.91487649, 36041.287505  , 17524.08557194, 21629.77484935,\n",
              "       23233.13220857, 24124.80072701, 12909.73638722, 24782.40587375,\n",
              "       11882.38095362, 16451.79165701, 19492.46083016, 24303.18028851,\n",
              "       17003.71568821, 30381.85385531, 26153.45995873, 14622.59375796,\n",
              "       18692.39360002, 22888.57869889, 18758.87209029, 13631.12642945,\n",
              "       15179.08173359, 22330.07498281, 19683.10803041, 33486.58367547,\n",
              "       12992.93271675, 18162.32317968, 27320.44637397, 23477.28461862,\n",
              "       24313.19532856, 21561.4461915 , 24291.98268564,  8195.88939403,\n",
              "       28754.15050923, 15729.49819514, 19508.68105922, 19772.81983274,\n",
              "       35712.49153978, 21657.98996036, 18879.37265269, 20675.6399985 ,\n",
              "       26549.11823488, 24277.59095881,  8852.71094243, 25167.88806609,\n",
              "       15639.3667851 , 19574.52863828, 27342.13069817, 15063.46514472,\n",
              "       23614.80441705, 31414.81555059, 29098.46340411, 16593.47639264,\n",
              "       13062.89713716, 21873.15322853, 13612.5653669 , 21037.53810445,\n",
              "       17167.09668282, 21214.01936192, 19958.78682612, 24671.4814285 ,\n",
              "       12420.96174001, 18825.43923586, 17796.3959836 , 26239.63632058,\n",
              "       15679.91419118, 15188.10681552])"
            ]
          },
          "metadata": {},
          "execution_count": 45
        }
      ]
    },
    {
      "cell_type": "code",
      "source": [
        "m=model.coef_\n",
        "m"
      ],
      "metadata": {
        "colab": {
          "base_uri": "https://localhost:8080/"
        },
        "id": "vQa7qLmIBfup",
        "outputId": "882377c8-d5b8-4e12-d71e-1b4fac451bbe"
      },
      "execution_count": 46,
      "outputs": [
        {
          "output_type": "execute_result",
          "data": {
            "text/plain": [
              "array([-2.20965030e-01,  3.60373178e+03, -4.46688647e+02, -1.81630216e+03,\n",
              "        6.46938454e+03, -2.30648236e+03,  3.74609177e+03])"
            ]
          },
          "metadata": {},
          "execution_count": 46
        }
      ]
    },
    {
      "cell_type": "code",
      "source": [
        "c=model.intercept_\n",
        "c"
      ],
      "metadata": {
        "colab": {
          "base_uri": "https://localhost:8080/"
        },
        "id": "vj93nHduBq_Q",
        "outputId": "cbf0249b-5ebe-4e11-8ddd-56d3df41eb67"
      },
      "execution_count": 47,
      "outputs": [
        {
          "output_type": "execute_result",
          "data": {
            "text/plain": [
              "8669.083829428922"
            ]
          },
          "metadata": {},
          "execution_count": 47
        }
      ]
    },
    {
      "cell_type": "code",
      "source": [
        "y_1=m*(x_test)+c\n",
        "y_1"
      ],
      "metadata": {
        "colab": {
          "base_uri": "https://localhost:8080/"
        },
        "id": "H4lbhUCUBwXp",
        "outputId": "fd9e218b-6674-4f3d-bdd7-ae6e2620643f"
      },
      "execution_count": 48,
      "outputs": [
        {
          "output_type": "execute_result",
          "data": {
            "text/plain": [
              "array([[ 6456.34001516, 30291.47450195,  6971.66697085, ...,\n",
              "        15138.46837278,  6362.60146474,  8669.08382943],\n",
              "       [ 4367.99951299, 23084.01094444,  7865.04426484, ...,\n",
              "        15138.46837278,  8669.08382943,  8669.08382943],\n",
              "       [ 3835.0318597 , 23084.01094444,  7686.36880604, ...,\n",
              "         8669.08382943,  8669.08382943,  8669.08382943],\n",
              "       ...,\n",
              "       [ 5581.53945986, 30291.47450195,  7061.00470025, ...,\n",
              "        15138.46837278,  6362.60146474, 12415.17560323],\n",
              "       [ 4440.69700799, 23084.01094444,  7686.36880604, ...,\n",
              "         8669.08382943,  6362.60146474, 12415.17560323],\n",
              "       [ 7581.49394988, 23084.01094444,  7686.36880604, ...,\n",
              "         8669.08382943,  6362.60146474, 12415.17560323]])"
            ]
          },
          "metadata": {},
          "execution_count": 48
        }
      ]
    },
    {
      "cell_type": "code",
      "source": [
        "y_test.shape"
      ],
      "metadata": {
        "colab": {
          "base_uri": "https://localhost:8080/"
        },
        "id": "C1-13mOdC4Vj",
        "outputId": "55648be9-ef46-47b0-971a-913d17bf6826"
      },
      "execution_count": 49,
      "outputs": [
        {
          "output_type": "execute_result",
          "data": {
            "text/plain": [
              "(242,)"
            ]
          },
          "metadata": {},
          "execution_count": 49
        }
      ]
    },
    {
      "cell_type": "code",
      "source": [
        "y_predict.shape"
      ],
      "metadata": {
        "colab": {
          "base_uri": "https://localhost:8080/"
        },
        "id": "H7e8-KnvC7Jt",
        "outputId": "51436d3c-2490-4196-ec78-5f108ce8b241"
      },
      "execution_count": 50,
      "outputs": [
        {
          "output_type": "execute_result",
          "data": {
            "text/plain": [
              "(242,)"
            ]
          },
          "metadata": {},
          "execution_count": 50
        }
      ]
    },
    {
      "cell_type": "code",
      "source": [
        "from sklearn import metrics\n",
        "print('R2- SCORE:', metrics.r2_score(y_test,y_predict))"
      ],
      "metadata": {
        "colab": {
          "base_uri": "https://localhost:8080/"
        },
        "id": "yBufIT36_Pfv",
        "outputId": "5766a999-a36a-447e-a9ee-d2706e7625ba"
      },
      "execution_count": 51,
      "outputs": [
        {
          "output_type": "stream",
          "name": "stdout",
          "text": [
            "R2- SCORE: 0.387489554040483\n"
          ]
        }
      ]
    },
    {
      "cell_type": "code",
      "source": [
        "df1.columns"
      ],
      "metadata": {
        "colab": {
          "base_uri": "https://localhost:8080/"
        },
        "id": "12p-ASa7F0d2",
        "outputId": "3bde59bc-ab66-4148-a32a-f0febf2f334e"
      },
      "execution_count": 52,
      "outputs": [
        {
          "output_type": "execute_result",
          "data": {
            "text/plain": [
              "Index(['Price', 'Mileage', 'Cylinder', 'Liter', 'Doors', 'Cruise', 'Sound',\n",
              "       'Leather'],\n",
              "      dtype='object')"
            ]
          },
          "metadata": {},
          "execution_count": 52
        }
      ]
    },
    {
      "cell_type": "code",
      "metadata": {
        "colab": {
          "base_uri": "https://localhost:8080/",
          "height": 295
        },
        "outputId": "97f095ba-b2a8-4f39-dedf-363abce387d0",
        "id": "xryNtjA0FoGR"
      },
      "source": [
        "df1.groupby('Mileage')['Price'].mean()\n",
        "import matplotlib.pyplot as plt\n",
        "df.plot(x='Mileage', y='Price', style='o')\n",
        "plt.title('Mileage vs Price')\n",
        "plt.xlabel('Mileage')\n",
        "plt.ylabel('Price')\n",
        "plt.show()"
      ],
      "execution_count": 53,
      "outputs": [
        {
          "output_type": "display_data",
          "data": {
            "text/plain": [
              "<Figure size 432x288 with 1 Axes>"
            ],
            "image/png": "[encoded data removed]"
          },
          "metadata": {
            "needs_background": "light"
          }
        }
      ]
    },
    {
      "cell_type": "code",
      "metadata": {
        "colab": {
          "base_uri": "https://localhost:8080/",
          "height": 295
        },
        "outputId": "85fa2712-1dc3-4d47-8981-baef23cb8abf",
        "id": "DWbJ_SolFnXZ"
      },
      "source": [
        "df1.groupby('Cylinder')['Price'].mean()\n",
        "import matplotlib.pyplot as plt\n",
        "df1.plot(x='Cylinder', y='Price', style='o')\n",
        "plt.title('Cylinder vs Price')\n",
        "plt.xlabel('Cylinder')\n",
        "plt.ylabel('Price')\n",
        "plt.show()"
      ],
      "execution_count": 54,
      "outputs": [
        {
          "output_type": "display_data",
          "data": {
            "text/plain": [
              "<Figure size 432x288 with 1 Axes>"
            ],
            "image/png": "[encoded data removed]"
          },
          "metadata": {
            "needs_background": "light"
          }
        }
      ]
    },
    {
      "cell_type": "code",
      "metadata": {
        "colab": {
          "base_uri": "https://localhost:8080/",
          "height": 295
        },
        "outputId": "b9497015-a13f-4a21-826c-4abbdc6a397a",
        "id": "gAMFJBILFlcT"
      },
      "source": [
        "df1.groupby('Liter')['Price'].mean().plot(style='o')\n",
        "plt.title('Liter')\n",
        "plt.xlabel('Price')\n",
        "plt.ylabel('Consumption')\n",
        "plt.show()"
      ],
      "execution_count": 55,
      "outputs": [
        {
          "output_type": "display_data",
          "data": {
            "text/plain": [
              "<Figure size 432x288 with 1 Axes>"
            ],
            "image/png": "[encoded data removed]"
          },
          "metadata": {
            "needs_background": "light"
          }
        }
      ]
    },
    {
      "cell_type": "code",
      "metadata": {
        "colab": {
          "base_uri": "https://localhost:8080/",
          "height": 295
        },
        "outputId": "5aa041dc-72d9-4769-dea3-659775498be3",
        "id": "vBNRZj68Fl2U"
      },
      "source": [
        "df1.groupby('Doors')['Price'].mean().plot()\n",
        "plt.title('Doors vs Price')\n",
        "plt.xlabel('Doors')\n",
        "plt.ylabel('Price')\n",
        "plt.show()"
      ],
      "execution_count": 56,
      "outputs": [
        {
          "output_type": "display_data",
          "data": {
            "text/plain": [
              "<Figure size 432x288 with 1 Axes>"
            ],
            "image/png": "[encoded data removed]"
          },
          "metadata": {
            "needs_background": "light"
          }
        }
      ]
    },
    {
      "cell_type": "code",
      "metadata": {
        "id": "qTNwje5k2Y5B",
        "colab": {
          "base_uri": "https://localhost:8080/",
          "height": 295
        },
        "outputId": "8689f24d-b32a-4a13-99ba-9a72f3a6e0ee"
      },
      "source": [
        "df1.groupby('Cruise')['Price'].mean().plot()\n",
        "plt.title('Cruise vs Price ')\n",
        "plt.xlabel('Cruise')\n",
        "plt.ylabel('Price')\n",
        "plt.show()"
      ],
      "execution_count": 57,
      "outputs": [
        {
          "output_type": "display_data",
          "data": {
            "text/plain": [
              "<Figure size 432x288 with 1 Axes>"
            ],
            "image/png": "[encoded data removed]"
          },
          "metadata": {
            "needs_background": "light"
          }
        }
      ]
    },
    {
      "cell_type": "code",
      "source": [
        "df1.groupby('Sound')['Price'].mean().plot()\n",
        "plt.title('Sound vs Price ')\n",
        "plt.xlabel('Sound')\n",
        "plt.ylabel('Price')\n",
        "plt.show()"
      ],
      "metadata": {
        "colab": {
          "base_uri": "https://localhost:8080/",
          "height": 295
        },
        "id": "WeaL6IEdIGq0",
        "outputId": "55a9e04c-6a4f-4430-ad41-887d9f65e56d"
      },
      "execution_count": 58,
      "outputs": [
        {
          "output_type": "display_data",
          "data": {
            "text/plain": [
              "<Figure size 432x288 with 1 Axes>"
            ],
            "image/png": "[encoded data removed]"
          },
          "metadata": {
            "needs_background": "light"
          }
        }
      ]
    },
    {
      "cell_type": "code",
      "source": [
        "df2=df\n",
        "df2.columns"
      ],
      "metadata": {
        "colab": {
          "base_uri": "https://localhost:8080/"
        },
        "id": "Ge_EeyeSJQWI",
        "outputId": "eb55ec63-8078-48f6-891d-72f97d807d59"
      },
      "execution_count": 59,
      "outputs": [
        {
          "output_type": "execute_result",
          "data": {
            "text/plain": [
              "Index(['Price', 'Mileage', 'Make', 'Model', 'Trim', 'Type', 'Cylinder',\n",
              "       'Liter', 'Doors', 'Cruise', 'Sound', 'Leather'],\n",
              "      dtype='object')"
            ]
          },
          "metadata": {},
          "execution_count": 59
        }
      ]
    },
    {
      "cell_type": "code",
      "source": [
        "df2.drop(['Mileage','Trim','Cylinder','Liter','Doors','Cruise','Sound','Leather'],axis='columns',inplace=True)\n"
      ],
      "metadata": {
        "id": "QlFW1FdVJUVq"
      },
      "execution_count": 60,
      "outputs": []
    },
    {
      "cell_type": "code",
      "source": [
        "df2.head()"
      ],
      "metadata": {
        "colab": {
          "base_uri": "https://localhost:8080/",
          "height": 206
        },
        "id": "sE2vvc2HKbE7",
        "outputId": "f2096670-bf07-4ae6-ceb8-6d6d24d70797"
      },
      "execution_count": 61,
      "outputs": [
        {
          "output_type": "execute_result",
          "data": {
            "text/plain": [
              "          Price   Make    Model   Type\n",
              "0  17314.103129  Buick  Century  Sedan\n",
              "1  17542.036083  Buick  Century  Sedan\n",
              "2  16218.847862  Buick  Century  Sedan\n",
              "3  16336.913140  Buick  Century  Sedan\n",
              "4  16339.170324  Buick  Century  Sedan"
            ],
            "text/html": [
              "\n",
              "  <div id=\"df-736c538c-f326-48f7-9f2a-f765b07d084d\">\n",
              "    <div class=\"colab-df-container\">\n",
              "      <div>\n",
              "<style scoped>\n",
              "    .dataframe tbody tr th:only-of-type {\n",
              "        vertical-align: middle;\n",
              "    }\n",
              "\n",
              "    .dataframe tbody tr th {\n",
              "        vertical-align: top;\n",
              "    }\n",
              "\n",
              "    .dataframe thead th {\n",
              "        text-align: right;\n",
              "    }\n",
              "</style>\n",
              "<table border=\"1\" class=\"dataframe\">\n",
              "  <thead>\n",
              "    <tr style=\"text-align: right;\">\n",
              "      <th></th>\n",
              "      <th>Price</th>\n",
              "      <th>Make</th>\n",
              "      <th>Model</th>\n",
              "      <th>Type</th>\n",
              "    </tr>\n",
              "  </thead>\n",
              "  <tbody>\n",
              "    <tr>\n",
              "      <th>0</th>\n",
              "      <td>17314.103129</td>\n",
              "      <td>Buick</td>\n",
              "      <td>Century</td>\n",
              "      <td>Sedan</td>\n",
              "    </tr>\n",
              "    <tr>\n",
              "      <th>1</th>\n",
              "      <td>17542.036083</td>\n",
              "      <td>Buick</td>\n",
              "      <td>Century</td>\n",
              "      <td>Sedan</td>\n",
              "    </tr>\n",
              "    <tr>\n",
              "      <th>2</th>\n",
              "      <td>16218.847862</td>\n",
              "      <td>Buick</td>\n",
              "      <td>Century</td>\n",
              "      <td>Sedan</td>\n",
              "    </tr>\n",
              "    <tr>\n",
              "      <th>3</th>\n",
              "      <td>16336.913140</td>\n",
              "      <td>Buick</td>\n",
              "      <td>Century</td>\n",
              "      <td>Sedan</td>\n",
              "    </tr>\n",
              "    <tr>\n",
              "      <th>4</th>\n",
              "      <td>16339.170324</td>\n",
              "      <td>Buick</td>\n",
              "      <td>Century</td>\n",
              "      <td>Sedan</td>\n",
              "    </tr>\n",
              "  </tbody>\n",
              "</table>\n",
              "</div>\n",
              "      <button class=\"colab-df-convert\" onclick=\"convertToInteractive('df-736c538c-f326-48f7-9f2a-f765b07d084d')\"\n",
              "              title=\"Convert this dataframe to an interactive table.\"\n",
              "              style=\"display:none;\">\n",
              "        \n",
              "  <svg xmlns=\"http://www.w3.org/2000/svg\" height=\"24px\"viewBox=\"0 0 24 24\"\n",
              "       width=\"24px\">\n",
              "    <path d=\"M0 0h24v24H0V0z\" fill=\"none\"/>\n",
              "    <path d=\"M18.56 5.44l.94 2.06.94-2.06 2.06-.94-2.06-.94-.94-2.06-.94 2.06-2.06.94zm-11 1L8.5 8.5l.94-2.06 2.06-.94-2.06-.94L8.5 2.5l-.94 2.06-2.06.94zm10 10l.94 2.06.94-2.06 2.06-.94-2.06-.94-.94-2.06-.94 2.06-2.06.94z\"/><path d=\"M17.41 7.96l-1.37-1.37c-.4-.4-.92-.59-1.43-.59-.52 0-1.04.2-1.43.59L10.3 9.45l-7.72 7.72c-.78.78-.78 2.05 0 2.83L4 21.41c.39.39.9.59 1.41.59.51 0 1.02-.2 1.41-.59l7.78-7.78 2.81-2.81c.8-.78.8-2.07 0-2.86zM5.41 20L4 18.59l7.72-7.72 1.47 1.35L5.41 20z\"/>\n",
              "  </svg>\n",
              "      </button>\n",
              "      \n",
              "  <style>\n",
              "    .colab-df-container {\n",
              "      display:flex;\n",
              "      flex-wrap:wrap;\n",
              "      gap: 12px;\n",
              "    }\n",
              "\n",
              "    .colab-df-convert {\n",
              "      background-color: #E8F0FE;\n",
              "      border: none;\n",
              "      border-radius: 50%;\n",
              "      cursor: pointer;\n",
              "      display: none;\n",
              "      fill: #1967D2;\n",
              "      height: 32px;\n",
              "      padding: 0 0 0 0;\n",
              "      width: 32px;\n",
              "    }\n",
              "\n",
              "    .colab-df-convert:hover {\n",
              "      background-color: #E2EBFA;\n",
              "      box-shadow: 0px 1px 2px rgba(60, 64, 67, 0.3), 0px 1px 3px 1px rgba(60, 64, 67, 0.15);\n",
              "      fill: #174EA6;\n",
              "    }\n",
              "\n",
              "    [theme=dark] .colab-df-convert {\n",
              "      background-color: #3B4455;\n",
              "      fill: #D2E3FC;\n",
              "    }\n",
              "\n",
              "    [theme=dark] .colab-df-convert:hover {\n",
              "      background-color: #434B5C;\n",
              "      box-shadow: 0px 1px 3px 1px rgba(0, 0, 0, 0.15);\n",
              "      filter: drop-shadow(0px 1px 2px rgba(0, 0, 0, 0.3));\n",
              "      fill: #FFFFFF;\n",
              "    }\n",
              "  </style>\n",
              "\n",
              "      <script>\n",
              "        const buttonEl =\n",
              "          document.querySelector('#df-736c538c-f326-48f7-9f2a-f765b07d084d button.colab-df-convert');\n",
              "        buttonEl.style.display =\n",
              "          google.colab.kernel.accessAllowed ? 'block' : 'none';\n",
              "\n",
              "        async function convertToInteractive(key) {\n",
              "          const element = document.querySelector('#df-736c538c-f326-48f7-9f2a-f765b07d084d');\n",
              "          const dataTable =\n",
              "            await google.colab.kernel.invokeFunction('convertToInteractive',\n",
              "                                                     [key], {});\n",
              "          if (!dataTable) return;\n",
              "\n",
              "          const docLinkHtml = 'Like what you see? Visit the ' +\n",
              "            '<a target=\"_blank\" href=https://colab.research.google.com/notebooks/data_table.ipynb>data table notebook</a>'\n",
              "            + ' to learn more about interactive tables.';\n",
              "          element.innerHTML = '';\n",
              "          dataTable['output_type'] = 'display_data';\n",
              "          await google.colab.output.renderOutput(dataTable, element);\n",
              "          const docLink = document.createElement('div');\n",
              "          docLink.innerHTML = docLinkHtml;\n",
              "          element.appendChild(docLink);\n",
              "        }\n",
              "      </script>\n",
              "    </div>\n",
              "  </div>\n",
              "  "
            ]
          },
          "metadata": {},
          "execution_count": 61
        }
      ]
    },
    {
      "cell_type": "code",
      "source": [
        "x1=df2[['Make','Model','Type']]\n",
        "x1.head()"
      ],
      "metadata": {
        "colab": {
          "base_uri": "https://localhost:8080/",
          "height": 206
        },
        "id": "8VfbFwJDLvZ_",
        "outputId": "b4bc2477-db9c-44da-cc70-23296edda1b6"
      },
      "execution_count": 62,
      "outputs": [
        {
          "output_type": "execute_result",
          "data": {
            "text/plain": [
              "    Make    Model   Type\n",
              "0  Buick  Century  Sedan\n",
              "1  Buick  Century  Sedan\n",
              "2  Buick  Century  Sedan\n",
              "3  Buick  Century  Sedan\n",
              "4  Buick  Century  Sedan"
            ],
            "text/html": [
              "\n",
              "  <div id=\"df-019d6514-8d25-4ef4-913a-15f3bbe8c659\">\n",
              "    <div class=\"colab-df-container\">\n",
              "      <div>\n",
              "<style scoped>\n",
              "    .dataframe tbody tr th:only-of-type {\n",
              "        vertical-align: middle;\n",
              "    }\n",
              "\n",
              "    .dataframe tbody tr th {\n",
              "        vertical-align: top;\n",
              "    }\n",
              "\n",
              "    .dataframe thead th {\n",
              "        text-align: right;\n",
              "    }\n",
              "</style>\n",
              "<table border=\"1\" class=\"dataframe\">\n",
              "  <thead>\n",
              "    <tr style=\"text-align: right;\">\n",
              "      <th></th>\n",
              "      <th>Make</th>\n",
              "      <th>Model</th>\n",
              "      <th>Type</th>\n",
              "    </tr>\n",
              "  </thead>\n",
              "  <tbody>\n",
              "    <tr>\n",
              "      <th>0</th>\n",
              "      <td>Buick</td>\n",
              "      <td>Century</td>\n",
              "      <td>Sedan</td>\n",
              "    </tr>\n",
              "    <tr>\n",
              "      <th>1</th>\n",
              "      <td>Buick</td>\n",
              "      <td>Century</td>\n",
              "      <td>Sedan</td>\n",
              "    </tr>\n",
              "    <tr>\n",
              "      <th>2</th>\n",
              "      <td>Buick</td>\n",
              "      <td>Century</td>\n",
              "      <td>Sedan</td>\n",
              "    </tr>\n",
              "    <tr>\n",
              "      <th>3</th>\n",
              "      <td>Buick</td>\n",
              "      <td>Century</td>\n",
              "      <td>Sedan</td>\n",
              "    </tr>\n",
              "    <tr>\n",
              "      <th>4</th>\n",
              "      <td>Buick</td>\n",
              "      <td>Century</td>\n",
              "      <td>Sedan</td>\n",
              "    </tr>\n",
              "  </tbody>\n",
              "</table>\n",
              "</div>\n",
              "      <button class=\"colab-df-convert\" onclick=\"convertToInteractive('df-019d6514-8d25-4ef4-913a-15f3bbe8c659')\"\n",
              "              title=\"Convert this dataframe to an interactive table.\"\n",
              "              style=\"display:none;\">\n",
              "        \n",
              "  <svg xmlns=\"http://www.w3.org/2000/svg\" height=\"24px\"viewBox=\"0 0 24 24\"\n",
              "       width=\"24px\">\n",
              "    <path d=\"M0 0h24v24H0V0z\" fill=\"none\"/>\n",
              "    <path d=\"M18.56 5.44l.94 2.06.94-2.06 2.06-.94-2.06-.94-.94-2.06-.94 2.06-2.06.94zm-11 1L8.5 8.5l.94-2.06 2.06-.94-2.06-.94L8.5 2.5l-.94 2.06-2.06.94zm10 10l.94 2.06.94-2.06 2.06-.94-2.06-.94-.94-2.06-.94 2.06-2.06.94z\"/><path d=\"M17.41 7.96l-1.37-1.37c-.4-.4-.92-.59-1.43-.59-.52 0-1.04.2-1.43.59L10.3 9.45l-7.72 7.72c-.78.78-.78 2.05 0 2.83L4 21.41c.39.39.9.59 1.41.59.51 0 1.02-.2 1.41-.59l7.78-7.78 2.81-2.81c.8-.78.8-2.07 0-2.86zM5.41 20L4 18.59l7.72-7.72 1.47 1.35L5.41 20z\"/>\n",
              "  </svg>\n",
              "      </button>\n",
              "      \n",
              "  <style>\n",
              "    .colab-df-container {\n",
              "      display:flex;\n",
              "      flex-wrap:wrap;\n",
              "      gap: 12px;\n",
              "    }\n",
              "\n",
              "    .colab-df-convert {\n",
              "      background-color: #E8F0FE;\n",
              "      border: none;\n",
              "      border-radius: 50%;\n",
              "      cursor: pointer;\n",
              "      display: none;\n",
              "      fill: #1967D2;\n",
              "      height: 32px;\n",
              "      padding: 0 0 0 0;\n",
              "      width: 32px;\n",
              "    }\n",
              "\n",
              "    .colab-df-convert:hover {\n",
              "      background-color: #E2EBFA;\n",
              "      box-shadow: 0px 1px 2px rgba(60, 64, 67, 0.3), 0px 1px 3px 1px rgba(60, 64, 67, 0.15);\n",
              "      fill: #174EA6;\n",
              "    }\n",
              "\n",
              "    [theme=dark] .colab-df-convert {\n",
              "      background-color: #3B4455;\n",
              "      fill: #D2E3FC;\n",
              "    }\n",
              "\n",
              "    [theme=dark] .colab-df-convert:hover {\n",
              "      background-color: #434B5C;\n",
              "      box-shadow: 0px 1px 3px 1px rgba(0, 0, 0, 0.15);\n",
              "      filter: drop-shadow(0px 1px 2px rgba(0, 0, 0, 0.3));\n",
              "      fill: #FFFFFF;\n",
              "    }\n",
              "  </style>\n",
              "\n",
              "      <script>\n",
              "        const buttonEl =\n",
              "          document.querySelector('#df-019d6514-8d25-4ef4-913a-15f3bbe8c659 button.colab-df-convert');\n",
              "        buttonEl.style.display =\n",
              "          google.colab.kernel.accessAllowed ? 'block' : 'none';\n",
              "\n",
              "        async function convertToInteractive(key) {\n",
              "          const element = document.querySelector('#df-019d6514-8d25-4ef4-913a-15f3bbe8c659');\n",
              "          const dataTable =\n",
              "            await google.colab.kernel.invokeFunction('convertToInteractive',\n",
              "                                                     [key], {});\n",
              "          if (!dataTable) return;\n",
              "\n",
              "          const docLinkHtml = 'Like what you see? Visit the ' +\n",
              "            '<a target=\"_blank\" href=https://colab.research.google.com/notebooks/data_table.ipynb>data table notebook</a>'\n",
              "            + ' to learn more about interactive tables.';\n",
              "          element.innerHTML = '';\n",
              "          dataTable['output_type'] = 'display_data';\n",
              "          await google.colab.output.renderOutput(dataTable, element);\n",
              "          const docLink = document.createElement('div');\n",
              "          docLink.innerHTML = docLinkHtml;\n",
              "          element.appendChild(docLink);\n",
              "        }\n",
              "      </script>\n",
              "    </div>\n",
              "  </div>\n",
              "  "
            ]
          },
          "metadata": {},
          "execution_count": 62
        }
      ]
    },
    {
      "cell_type": "code",
      "source": [
        "y1=df['Price']\n",
        "y1.head()"
      ],
      "metadata": {
        "colab": {
          "base_uri": "https://localhost:8080/"
        },
        "id": "iUXHt2XPL5Oj",
        "outputId": "411a986e-5bd7-48c2-e811-c705673b752d"
      },
      "execution_count": 63,
      "outputs": [
        {
          "output_type": "execute_result",
          "data": {
            "text/plain": [
              "0    17314.103129\n",
              "1    17542.036083\n",
              "2    16218.847862\n",
              "3    16336.913140\n",
              "4    16339.170324\n",
              "Name: Price, dtype: float64"
            ]
          },
          "metadata": {},
          "execution_count": 63
        }
      ]
    },
    {
      "cell_type": "code",
      "source": [
        "from sklearn.preprocessing import OneHotEncoder\n",
        "ohe=OneHotEncoder()\n",
        "x1=ohe.fit_transform(x1)\n",
        "x1=x[:,1:]\n",
        "x1\n",
        "model.fit(x1,y1)\n",
        "model.predict(x1)"
      ],
      "metadata": {
        "colab": {
          "base_uri": "https://localhost:8080/"
        },
        "id": "QH0JFKPdKnfq",
        "outputId": "6d3314cd-a26b-48e3-b934-43793d017be4"
      },
      "execution_count": 64,
      "outputs": [
        {
          "output_type": "execute_result",
          "data": {
            "text/plain": [
              "array([25273.92479103, 21955.83782514, 21955.83782514, 23856.67681802,\n",
              "       27174.76378392, 21955.83782514, 21955.83782514, 21955.83782514,\n",
              "       27174.76378392, 25273.92479103, 23401.69571986, 21500.85672697,\n",
              "       21500.85672697, 24818.94369286, 24818.94369286, 21500.85672697,\n",
              "       23401.69571986, 24818.94369286, 21500.85672697, 24818.94369286,\n",
              "       21500.85672697, 24818.94369286, 24818.94369286, 26719.78268575,\n",
              "       23401.69571986, 26719.78268575, 23401.69571986, 23401.69571986,\n",
              "       24818.94369286, 23401.69571986, 21318.8642877 , 21318.8642877 ,\n",
              "       24636.9512536 , 26537.79024649, 26537.79024649, 23219.70328059,\n",
              "       24636.9512536 , 21318.8642877 , 23219.70328059, 24636.9512536 ,\n",
              "       26537.79024649, 24636.9512536 , 21318.8642877 , 23219.70328059,\n",
              "       26537.79024649, 21318.8642877 , 21318.8642877 , 21318.8642877 ,\n",
              "       21318.8642877 , 24636.9512536 , 23219.70328059, 21318.8642877 ,\n",
              "       24636.9512536 , 21318.8642877 , 21318.8642877 , 26537.79024649,\n",
              "       21318.8642877 , 21318.8642877 , 24636.9512536 , 24636.9512536 ,\n",
              "       21318.8642877 , 21318.8642877 , 26537.79024649, 23219.70328059,\n",
              "       21318.8642877 , 24636.9512536 , 21318.8642877 , 26537.79024649,\n",
              "       24636.9512536 , 24636.9512536 , 21318.8642877 , 21318.8642877 ,\n",
              "       21318.8642877 , 21318.8642877 , 26537.79024649, 21318.8642877 ,\n",
              "       26537.79024649, 26537.79024649, 23219.70328059, 24636.9512536 ,\n",
              "       30771.06118152, 32671.90017441, 30771.06118152, 32671.90017441,\n",
              "       30771.06118152, 32671.90017441, 32671.90017441, 32671.90017441,\n",
              "       30771.06118152, 30771.06118152, 25546.91344993, 25546.91344993,\n",
              "       25546.91344993, 25546.91344993, 25546.91344993, 25546.91344993,\n",
              "       25546.91344993, 27447.75244282, 25546.91344993, 25546.91344993,\n",
              "       33672.85859038, 33672.85859038, 33672.85859038, 33672.85859038,\n",
              "       33672.85859038, 33672.85859038, 31772.01959749, 33672.85859038,\n",
              "       31772.01959749, 33672.85859038, 33672.85859038, 33672.85859038,\n",
              "       31772.01959749, 33672.85859038, 33672.85859038, 33672.85859038,\n",
              "       33672.85859038, 31772.01959749, 33672.85859038, 31772.01959749,\n",
              "       33672.85859038, 31772.01959749, 31772.01959749, 31772.01959749,\n",
              "       33672.85859038, 33672.85859038, 33672.85859038, 31772.01959749,\n",
              "       33672.85859038, 31772.01959749, 26719.78268575, 24818.94369286,\n",
              "       24818.94369286, 26719.78268575, 26719.78268575, 26719.78268575,\n",
              "       24818.94369286, 24818.94369286, 24818.94369286, 24818.94369286,\n",
              "       33672.85859038, 31772.01959749, 31772.01959749, 33672.85859038,\n",
              "       33672.85859038, 33672.85859038, 31772.01959749, 31772.01959749,\n",
              "       31772.01959749, 33672.85859038, 34829.44024653, 34829.44024653,\n",
              "       34829.44024653, 34829.44024653, 34829.44024653, 34829.44024653,\n",
              "       34829.44024653, 34829.44024653, 36730.27923942, 34829.44024653,\n",
              "       14499.84529341, 14499.84529341, 14499.84529341,  9280.91933462,\n",
              "       17358.58201156, 11181.75832751, 12599.00630052, 20676.66897746,\n",
              "       11181.75832751, 14499.84529341,  9280.91933462,  9280.91933462,\n",
              "       12599.00630052, 18775.82998457, 15457.74301868, 17358.58201156,\n",
              "       11181.75832751, 15457.74301868,  9280.91933462, 12599.00630052,\n",
              "       12599.00630052, 18775.82998457, 12599.00630052, 18775.82998457,\n",
              "       12599.00630052, 12599.00630052, 12599.00630052, 12599.00630052,\n",
              "       18775.82998457, 18775.82998457, 11181.75832751, 14499.84529341,\n",
              "        9280.91933462, 12599.00630052, 18775.82998457,  9280.91933462,\n",
              "        9280.91933462, 11181.75832751, 17358.58201156,  9280.91933462,\n",
              "       20676.66897746, 15457.74301868, 12599.00630052, 17358.58201156,\n",
              "        9280.91933462, 18775.82998457, 15457.74301868, 14499.84529341,\n",
              "       12599.00630052, 20676.66897746, 17358.58201156, 14499.84529341,\n",
              "       11181.75832751, 15457.74301868, 12599.00630052, 17358.58201156,\n",
              "       11181.75832751, 14499.84529341, 15457.74301868, 11181.75832751,\n",
              "       21287.27331581, 15110.44963176, 15110.44963176, 15110.44963176,\n",
              "       15110.44963176, 15110.44963176, 21287.27331581, 21287.27331581,\n",
              "       21287.27331581, 21287.27331581, 21287.27331581, 21287.27331581,\n",
              "       15110.44963176, 15110.44963176, 21287.27331581, 21287.27331581,\n",
              "       15110.44963176, 21287.27331581, 15110.44963176, 21287.27331581,\n",
              "       12053.02898272, 18229.85266677, 18229.85266677, 12053.02898272,\n",
              "       18229.85266677, 18229.85266677, 18229.85266677, 12053.02898272,\n",
              "       12053.02898272, 18229.85266677, 21287.27331581, 15110.44963176,\n",
              "       15110.44963176, 21287.27331581, 21287.27331581, 21287.27331581,\n",
              "       21287.27331581, 21287.27331581, 21287.27331581, 15110.44963176,\n",
              "       12053.02898272, 12053.02898272, 12053.02898272, 18229.85266677,\n",
              "       18229.85266677, 18229.85266677, 12053.02898272, 18229.85266677,\n",
              "       12053.02898272, 18229.85266677, 12053.02898272, 12053.02898272,\n",
              "       18229.85266677, 18229.85266677, 12053.02898272, 12053.02898272,\n",
              "       18229.85266677, 18229.85266677, 18229.85266677, 18229.85266677,\n",
              "       12053.02898272, 18229.85266677, 12053.02898272, 12053.02898272,\n",
              "       18229.85266677, 12053.02898272, 18229.85266677, 18229.85266677,\n",
              "       18229.85266677, 12053.02898272, 15110.44963176, 21287.27331581,\n",
              "       21287.27331581, 15110.44963176, 21287.27331581, 15110.44963176,\n",
              "       21287.27331581, 21287.27331581, 21287.27331581, 15110.44963176,\n",
              "       15110.44963176, 15110.44963176, 21287.27331581, 15110.44963176,\n",
              "       21287.27331581, 21287.27331581, 21287.27331581, 21287.27331581,\n",
              "       21287.27331581, 21287.27331581, 12053.02898272, 12053.02898272,\n",
              "       18229.85266677, 12053.02898272, 12053.02898272, 12053.02898272,\n",
              "       18229.85266677, 12053.02898272, 12053.02898272, 12053.02898272,\n",
              "       18229.85266677, 12053.02898272, 18229.85266677, 18229.85266677,\n",
              "       18229.85266677, 12053.02898272, 12053.02898272, 18229.85266677,\n",
              "       12053.02898272, 12053.02898272, 18229.85266677, 18229.85266677,\n",
              "       18229.85266677, 12053.02898272, 12053.02898272, 12053.02898272,\n",
              "       12053.02898272, 18229.85266677, 12053.02898272, 12053.02898272,\n",
              "       33555.49317167, 33555.49317167, 35456.33216456, 33555.49317167,\n",
              "       35456.33216456, 33555.49317167, 33555.49317167, 35456.33216456,\n",
              "       33555.49317167, 33555.49317167, 35456.33216456, 33555.49317167,\n",
              "       33555.49317167, 33555.49317167, 33555.49317167, 33555.49317167,\n",
              "       35456.33216456, 35456.33216456, 35456.33216456, 35456.33216456,\n",
              "       23219.70328059, 21318.8642877 , 26537.79024649, 24636.9512536 ,\n",
              "       21318.8642877 , 21318.8642877 , 26537.79024649, 21318.8642877 ,\n",
              "       21318.8642877 , 24636.9512536 , 23219.70328059, 26537.79024649,\n",
              "       24636.9512536 , 23219.70328059, 26537.79024649, 24636.9512536 ,\n",
              "       24636.9512536 , 24636.9512536 , 24636.9512536 , 24636.9512536 ,\n",
              "       23219.70328059, 21318.8642877 , 24636.9512536 , 23219.70328059,\n",
              "       24636.9512536 , 24636.9512536 , 24636.9512536 , 23219.70328059,\n",
              "       24636.9512536 , 23219.70328059, 18733.11622845, 18733.11622845,\n",
              "       18733.11622845, 24909.9399125 , 24909.9399125 , 18733.11622845,\n",
              "       18733.11622845, 18733.11622845, 24909.9399125 , 18733.11622845,\n",
              "       24909.9399125 , 18733.11622845, 24909.9399125 , 18733.11622845,\n",
              "       24909.9399125 , 18733.11622845, 24909.9399125 , 18733.11622845,\n",
              "       18733.11622845, 18733.11622845, 24909.9399125 , 18733.11622845,\n",
              "       18733.11622845, 18733.11622845, 18733.11622845, 18733.11622845,\n",
              "       24909.9399125 , 18733.11622845, 24909.9399125 , 24909.9399125 ,\n",
              "       18733.11622845, 24909.9399125 , 24909.9399125 , 24909.9399125 ,\n",
              "       24909.9399125 , 24909.9399125 , 24909.9399125 , 18733.11622845,\n",
              "       24909.9399125 , 18733.11622845, 18733.11622845, 24909.9399125 ,\n",
              "       18733.11622845, 18733.11622845, 18733.11622845, 18733.11622845,\n",
              "       18733.11622845, 18733.11622845, 24909.9399125 , 18733.11622845,\n",
              "       18733.11622845, 24909.9399125 , 24909.9399125 , 18733.11622845,\n",
              "       18733.11622845, 24909.9399125 , 18733.11622845, 24909.9399125 ,\n",
              "       24909.9399125 , 18733.11622845, 26277.12392964, 29595.21089553,\n",
              "       24376.28493675, 29595.21089553, 26277.12392964, 26277.12392964,\n",
              "       24376.28493675, 24376.28493675, 24376.28493675, 26277.12392964,\n",
              "       24376.28493675, 24376.28493675, 27694.37190264, 26277.12392964,\n",
              "       27694.37190264, 29595.21089553, 27694.37190264, 26277.12392964,\n",
              "       24376.28493675, 29595.21089553, 24376.28493675, 24376.28493675,\n",
              "       24376.28493675, 24376.28493675, 26277.12392964, 24376.28493675,\n",
              "       27694.37190264, 27694.37190264, 27694.37190264, 27694.37190264,\n",
              "       33672.85859038, 33672.85859038, 33672.85859038, 31772.01959749,\n",
              "       31772.01959749, 31772.01959749, 33672.85859038, 33672.85859038,\n",
              "       33672.85859038, 31772.01959749, 26537.79024649, 21318.8642877 ,\n",
              "       21318.8642877 , 24636.9512536 , 26537.79024649, 21318.8642877 ,\n",
              "       21318.8642877 , 24636.9512536 , 23219.70328059, 24636.9512536 ,\n",
              "       24636.9512536 , 23219.70328059, 26537.79024649, 26537.79024649,\n",
              "       24636.9512536 , 21318.8642877 , 24636.9512536 , 26537.79024649,\n",
              "       21318.8642877 , 26537.79024649, 21591.8529466 , 24909.9399125 ,\n",
              "       24909.9399125 , 24909.9399125 , 26810.77890538, 24909.9399125 ,\n",
              "       21591.8529466 , 26810.77890538, 23492.69193949, 26810.77890538,\n",
              "       24909.9399125 , 23492.69193949, 21591.8529466 , 23492.69193949,\n",
              "       23492.69193949, 23492.69193949, 26810.77890538, 23492.69193949,\n",
              "       21591.8529466 , 24909.9399125 , 21881.53309712, 21881.53309712,\n",
              "       28058.35678117, 21881.53309712, 28058.35678117, 21881.53309712,\n",
              "       28058.35678117, 21881.53309712, 28058.35678117, 21881.53309712,\n",
              "       18229.85266677, 18229.85266677, 12053.02898272, 12053.02898272,\n",
              "       18229.85266677, 12053.02898272, 12053.02898272, 12053.02898272,\n",
              "       12053.02898272, 12053.02898272, 24636.9512536 , 23219.70328059,\n",
              "       23219.70328059, 21318.8642877 , 21318.8642877 , 23219.70328059,\n",
              "       26537.79024649, 26537.79024649, 21318.8642877 , 21318.8642877 ,\n",
              "       21318.8642877 , 21318.8642877 , 21318.8642877 , 24636.9512536 ,\n",
              "       24636.9512536 , 26537.79024649, 23219.70328059, 26537.79024649,\n",
              "       21318.8642877 , 26537.79024649, 21318.8642877 , 24636.9512536 ,\n",
              "       23219.70328059, 24636.9512536 , 23219.70328059, 23219.70328059,\n",
              "       23219.70328059, 23219.70328059, 21318.8642877 , 21318.8642877 ,\n",
              "       33828.48183057, 33828.48183057, 33828.48183057, 35729.32082346,\n",
              "       35729.32082346, 35729.32082346, 33828.48183057, 33828.48183057,\n",
              "       33828.48183057, 33828.48183057, 15110.44963176, 21287.27331581,\n",
              "       21287.27331581, 21287.27331581, 21287.27331581, 21287.27331581,\n",
              "       15110.44963176, 21287.27331581, 15110.44963176, 15110.44963176,\n",
              "       15275.75057941, 12417.01386125, 17176.5895723 , 18593.8375453 ,\n",
              "       17176.5895723 , 14317.85285414, 10999.76588825, 17176.5895723 ,\n",
              "       10999.76588825, 12417.01386125, 18593.8375453 ,  9098.92689536,\n",
              "       14317.85285414, 10999.76588825, 10999.76588825, 12417.01386125,\n",
              "       10999.76588825, 14317.85285414, 10999.76588825, 18593.8375453 ,\n",
              "       10999.76588825, 20494.67653819,  9098.92689536, 10999.76588825,\n",
              "       18593.8375453 , 14317.85285414, 10999.76588825, 18593.8375453 ,\n",
              "       12417.01386125, 10999.76588825, 18151.17878919, 20052.01778208,\n",
              "       18151.17878919, 21469.26575508, 23370.10474797, 18151.17878919,\n",
              "       23370.10474797, 18151.17878919, 20052.01778208, 20052.01778208,\n",
              "       20312.68409892, 16994.59713303, 16994.59713303, 15093.75814014,\n",
              "       15093.75814014, 18411.84510604, 18411.84510604, 18411.84510604,\n",
              "       16994.59713303, 20312.68409892, 21469.26575508, 21469.26575508,\n",
              "       21469.26575508, 23370.10474797, 20052.01778208, 20052.01778208,\n",
              "       20052.01778208, 23370.10474797, 21469.26575508, 21469.26575508,\n",
              "       15093.75814014, 20312.68409892, 18411.84510604, 20312.68409892,\n",
              "       20312.68409892, 18411.84510604, 18411.84510604, 18411.84510604,\n",
              "       16994.59713303, 15093.75814014, 21469.26575508, 23370.10474797,\n",
              "       23370.10474797, 18151.17878919, 18151.17878919, 23370.10474797,\n",
              "       23370.10474797, 20052.01778208, 23370.10474797, 21469.26575508,\n",
              "       15093.75814014, 15093.75814014, 15093.75814014, 15093.75814014,\n",
              "       18411.84510604, 16994.59713303, 15093.75814014, 20312.68409892,\n",
              "       15093.75814014, 15093.75814014, 18138.85644714, 20039.69544002,\n",
              "       18138.85644714, 18138.85644714, 18138.85644714, 18138.85644714,\n",
              "       18138.85644714, 18138.85644714, 18138.85644714, 20039.69544002,\n",
              "       20039.69544002, 18138.85644714, 18138.85644714, 18138.85644714,\n",
              "       20039.69544002, 18138.85644714, 18138.85644714, 20039.69544002,\n",
              "       20039.69544002, 20039.69544002, 18138.85644714, 20039.69544002,\n",
              "       20039.69544002, 18138.85644714, 20039.69544002, 18138.85644714,\n",
              "       18138.85644714, 20039.69544002, 18138.85644714, 18138.85644714,\n",
              "       20039.69544002, 20039.69544002, 18138.85644714, 18138.85644714,\n",
              "       18138.85644714, 18138.85644714, 18138.85644714, 18138.85644714,\n",
              "       18138.85644714, 18138.85644714, 18138.85644714, 20039.69544002,\n",
              "       18138.85644714, 20039.69544002, 20039.69544002, 20039.69544002,\n",
              "       18138.85644714, 20039.69544002, 20039.69544002, 18138.85644714,\n",
              "       14638.77704198, 19857.70300076, 14638.77704198, 19857.70300076,\n",
              "       23188.1123087 , 19870.02534281, 17011.28862465, 19870.02534281,\n",
              "       13693.20165876, 11792.36266587, 17969.18634992, 17011.28862465,\n",
              "       11792.36266587, 23188.1123087 , 13693.20165876, 17969.18634992,\n",
              "       17969.18634992, 17011.28862465, 15110.44963176, 17011.28862465,\n",
              "       23188.1123087 , 11792.36266587, 21287.27331581, 13693.20165876,\n",
              "       13953.86797561, 14911.76570088, 10635.78100971, 13953.86797561,\n",
              "       16812.60469376, 13953.86797561, 18229.85266677, 13953.86797561,\n",
              "       20130.69165966, 12053.02898272, 12053.02898272, 12053.02898272,\n",
              "       20130.69165966, 12053.02898272,  8734.94201683, 10635.78100971,\n",
              "       14911.76570088, 13953.86797561, 10635.78100971,  8734.94201683,\n",
              "       12053.02898272, 14911.76570088, 13953.86797561,  8734.94201683,\n",
              "       10635.78100971, 12053.02898272, 10635.78100971, 20130.69165966,\n",
              "       10635.78100971, 12053.02898272, 25364.92101066, 25364.92101066,\n",
              "       27265.76000355, 23947.67303766, 23947.67303766, 23947.67303766,\n",
              "       22046.83404477, 22046.83404477, 22046.83404477, 23947.67303766])"
            ]
          },
          "metadata": {},
          "execution_count": 64
        }
      ]
    },
    {
      "cell_type": "code",
      "source": [
        "df2.columns"
      ],
      "metadata": {
        "colab": {
          "base_uri": "https://localhost:8080/"
        },
        "id": "_BKIwiL_PhR-",
        "outputId": "defa838a-73c2-4973-a0d6-47c792369ae9"
      },
      "execution_count": 65,
      "outputs": [
        {
          "output_type": "execute_result",
          "data": {
            "text/plain": [
              "Index(['Price', 'Make', 'Model', 'Type'], dtype='object')"
            ]
          },
          "metadata": {},
          "execution_count": 65
        }
      ]
    },
    {
      "cell_type": "code",
      "source": [
        "df2.groupby('Make')['Price'].mean().plot()\n",
        "plt.title('Make vs Price')\n",
        "plt.xlabel('Make')\n",
        "plt.ylabel('Price')\n",
        "plt.show()"
      ],
      "metadata": {
        "colab": {
          "base_uri": "https://localhost:8080/",
          "height": 295
        },
        "id": "GHHUN1yCO_kj",
        "outputId": "b74c0410-bd22-43ba-a4e4-432681d71a55"
      },
      "execution_count": 66,
      "outputs": [
        {
          "output_type": "display_data",
          "data": {
            "text/plain": [
              "<Figure size 432x288 with 1 Axes>"
            ],
            "image/png": "[encoded data removed]"
          },
          "metadata": {
            "needs_background": "light"
          }
        }
      ]
    },
    {
      "cell_type": "code",
      "source": [
        "df2.groupby('Model')['Price'].mean().plot()\n",
        "plt.title('Model vs Price')\n",
        "plt.xlabel('Model')\n",
        "plt.ylabel('Price')\n",
        "plt.show()"
      ],
      "metadata": {
        "colab": {
          "base_uri": "https://localhost:8080/",
          "height": 295
        },
        "id": "X6KcvJO6PDmJ",
        "outputId": "59d12bad-b9fa-4a47-b27c-ec07c5202155"
      },
      "execution_count": 67,
      "outputs": [
        {
          "output_type": "display_data",
          "data": {
            "text/plain": [
              "<Figure size 432x288 with 1 Axes>"
            ],
            "image/png": "[encoded data removed]"
          },
          "metadata": {
            "needs_background": "light"
          }
        }
      ]
    },
    {
      "cell_type": "code",
      "source": [
        "df2.groupby('Type')['Price'].mean().plot()\n",
        "plt.title('Type vs Price')\n",
        "plt.xlabel('Type')\n",
        "plt.ylabel('Price')\n",
        "plt.show()"
      ],
      "metadata": {
        "colab": {
          "base_uri": "https://localhost:8080/",
          "height": 295
        },
        "id": "NOgSmOhRPEUD",
        "outputId": "53abaaef-ca1f-4570-acd1-b0b879ad5644"
      },
      "execution_count": 68,
      "outputs": [
        {
          "output_type": "display_data",
          "data": {
            "text/plain": [
              "<Figure size 432x288 with 1 Axes>"
            ],
            "image/png": "[encoded data removed]"
          },
          "metadata": {
            "needs_background": "light"
          }
        }
      ]
    }
  ]
}